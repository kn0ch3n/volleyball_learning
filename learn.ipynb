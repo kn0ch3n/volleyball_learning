{
 "metadata": {
  "name": "",
  "signature": "sha256:fe7c0e75f89a387b5eb86c9c094f2c5575b7d869108b16910d1bf986e311e181"
 },
 "nbformat": 3,
 "nbformat_minor": 0,
 "worksheets": [
  {
   "cells": [
    {
     "cell_type": "markdown",
     "metadata": {},
     "source": [
      "# Try 2\n",
      "Switching to eventlet for concurrency support. Loading all the data! Don't run this too often though, looks like they like to block people..."
     ]
    },
    {
     "cell_type": "code",
     "collapsed": false,
     "input": [
      "import eventlet\n",
      "from eventlet.green import urllib2\n",
      "\n",
      "maxtries = 10\n",
      "\n",
      "def fetch(url):\n",
      "    return urllib2.urlopen(url).read()\n",
      "\n",
      "def getTable(url):\n",
      "    tries = 0\n",
      "    while(tries < maxtries):\n",
      "        print(\"getting \" + url + \"...\")\n",
      "        try:\n",
      "            res = urllib2.urlopen(url)\n",
      "            soup = bs4.BeautifulSoup(res.read())\n",
      "            dates = [str(td.string).translate(None, ' ')[0:10] for td in soup.select('td.dateGame')]\n",
      "            # TODO: filter teams, e.g. only male senior teams (countries_male_senior.txt)\n",
      "            teams = [a.contents[1].string for a in soup.select('a.clubName')]\n",
      "            teams1 = teams[0::2]\n",
      "            teams2 = teams[1::2]\n",
      "            scores = map(lambda td: str.split(str(td.string), \":\"),\n",
      "                         soup.select('td.gameSmallResult'))\n",
      "            scores1 = [x[0] for x in scores]\n",
      "            scores2 = [x[1] for x in scores]\n",
      "            d = {\"date\": dates, \"score1\": scores1, \"score2\": scores2, \"team1\": teams1, \"team2\": teams2}\n",
      "            data = pandas.DataFrame(d)\n",
      "            if(len(data) == 0):\n",
      "                # an empty data means something went wrong with the request\n",
      "                raise EmptyError('DataFrame is empty')\n",
      "            else:\n",
      "                # looking good =)\n",
      "                break\n",
      "        except:\n",
      "            # some error happens sometimes (ValueError, BadStatusLine), so if that happens just retry\n",
      "            tries += 1\n",
      "            continue\n",
      "    return(data)"
     ],
     "language": "python",
     "metadata": {},
     "outputs": []
    },
    {
     "cell_type": "code",
     "collapsed": false,
     "input": [
      "maxpos = 1414 # maximum position argument\n",
      "\n",
      "urls = [\"http://www.worldofvolley.com/statistics/game-statistics.html?position=\" + str(pos) for pos in range(maxpos)]\n",
      "\n",
      "pool = eventlet.GreenPool(10) # more than 10 concurrent connections leads to refused connections\n",
      "\n",
      "tables = {\"all\": pandas.DataFrame(columns=[\"date\", \"score1\", \"score2\", \"team1\", \"team2\"])}\n",
      "for table in pool.imap(getTable, urls):\n",
      "    tables[\"all\"] = tables[\"all\"].append(table)\n",
      "print(tables[\"all\"])"
     ],
     "language": "python",
     "metadata": {},
     "outputs": []
    }
   ],
   "metadata": {}
  }
 ]
}