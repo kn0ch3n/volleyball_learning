{
 "metadata": {
  "name": "",
  "signature": "sha256:99a04bf6cfe2b785b29228e240f3f013a80bc4dbce737c1d82fedc65c111e329"
 },
 "nbformat": 3,
 "nbformat_minor": 0,
 "worksheets": [
  {
   "cells": [
    {
     "cell_type": "markdown",
     "metadata": {},
     "source": [
      "# Try 2\n",
      "Switching to eventlet for concurrency support. Loading all the data! Don't run this too often though, looks like they like to block people..."
     ]
    },
    {
     "cell_type": "code",
     "collapsed": false,
     "input": [
      "import pandas\n",
      "import eventlet\n",
      "from eventlet.green import urllib2\n",
      "\n",
      "maxtries = 10\n",
      "\n",
      "def fetch(url):\n",
      "    return urllib2.urlopen(url).read()\n",
      "\n",
      "def getTable(url):\n",
      "    tries = 0\n",
      "    while(tries < maxtries):\n",
      "        print(\"getting \" + url + \"...\")\n",
      "        try:\n",
      "            res = urllib2.urlopen(url)\n",
      "            soup = bs4.BeautifulSoup(res.read())\n",
      "            dates = [str(td.string).translate(None, ' ')[0:10] for td in soup.select('td.dateGame')]\n",
      "            # TODO: filter teams, e.g. only male senior teams (countries_male_senior.txt)\n",
      "            teams = [a.contents[1].string for a in soup.select('a.clubName')]\n",
      "            teams1 = teams[0::2]\n",
      "            teams2 = teams[1::2]\n",
      "            scores = map(lambda td: str.split(str(td.string), \":\"),\n",
      "                         soup.select('td.gameSmallResult'))\n",
      "            scores1 = [x[0] for x in scores]\n",
      "            scores2 = [x[1] for x in scores]\n",
      "            d = {\"date\": dates, \"score1\": scores1, \"score2\": scores2, \"team1\": teams1, \"team2\": teams2}\n",
      "            data = pandas.DataFrame(d)\n",
      "            if(len(data) == 0):\n",
      "                # an empty data means something went wrong with the request\n",
      "                raise EmptyError('DataFrame is empty')\n",
      "            else:\n",
      "                # looking good =)\n",
      "                return(data)\n",
      "        except:\n",
      "            # some error happens sometimes (ValueError, BadStatusLine), so if that happens just retry\n",
      "            tries += 1\n",
      "            continue\n",
      "    return(None)"
     ],
     "language": "python",
     "metadata": {},
     "outputs": [],
     "prompt_number": 5
    },
    {
     "cell_type": "code",
     "collapsed": false,
     "input": [
      "maxpos = 1414 # maximum position argument\n",
      "\n",
      "urls = [\"http://www.worldofvolley.com/statistics/game-statistics.html?position=\" + str(pos) for pos in range(maxpos)]\n",
      "\n",
      "pool = eventlet.GreenPool(10) # more than 10 concurrent connections leads to refused connections\n",
      "\n",
      "tables = {\"all\": pandas.DataFrame(columns=[\"date\", \"score1\", \"score2\", \"team1\", \"team2\"])}\n",
      "for table in pool.imap(getTable, urls):\n",
      "    tables[\"all\"] = tables[\"all\"].append(table)\n",
      "print(tables[\"all\"])"
     ],
     "language": "python",
     "metadata": {},
     "outputs": [
      {
       "output_type": "stream",
       "stream": "stderr",
       "text": [
        "Traceback (most recent call last):\n",
        "  File \"/home/sebi/.virtualenvs/volleyball_learning/lib/python2.7/site-packages/eventlet/hubs/poll.py\", line 98, in wait\n",
        "    readers.get(fileno, noop).cb(fileno)\n",
        "  File \"/home/sebi/.virtualenvs/volleyball_learning/lib/python2.7/site-packages/eventlet/greenthread.py\", line 207, in main\n",
        "    result = function(*args, **kwargs)\n",
        "  File \"<ipython-input-3-6b55a78ef4d4>\", line 38, in getTable\n",
        "    if(data is not None):\n",
        "UnboundLocalError: local variable 'data' referenced before assignment\n",
        "Removing descriptor: 73\n"
       ]
      },
      {
       "output_type": "stream",
       "stream": "stderr",
       "text": [
        "Traceback (most recent call last):\n",
        "  File \"/home/sebi/.virtualenvs/volleyball_learning/lib/python2.7/site-packages/eventlet/hubs/poll.py\", line 100, in wait\n",
        "    writers.get(fileno, noop).cb(fileno)\n",
        "  File \"/home/sebi/.virtualenvs/volleyball_learning/lib/python2.7/site-packages/eventlet/greenthread.py\", line 207, in main\n",
        "    result = function(*args, **kwargs)\n",
        "  File \"<ipython-input-3-6b55a78ef4d4>\", line 38, in getTable\n",
        "    if(data is not None):\n",
        "UnboundLocalError: local variable 'data' referenced before assignment\n",
        "Removing descriptor: 51\n"
       ]
      },
      {
       "output_type": "stream",
       "stream": "stderr",
       "text": [
        "Traceback (most recent call last):\n",
        "  File \"/home/sebi/.virtualenvs/volleyball_learning/lib/python2.7/site-packages/eventlet/hubs/poll.py\", line 100, in wait\n",
        "    writers.get(fileno, noop).cb(fileno)\n",
        "  File \"/home/sebi/.virtualenvs/volleyball_learning/lib/python2.7/site-packages/eventlet/greenthread.py\", line 207, in main\n",
        "    result = function(*args, **kwargs)\n",
        "  File \"<ipython-input-3-6b55a78ef4d4>\", line 38, in getTable\n",
        "    if(data is not None):\n",
        "UnboundLocalError: local variable 'data' referenced before assignment\n",
        "Removing descriptor: 48\n"
       ]
      },
      {
       "output_type": "stream",
       "stream": "stderr",
       "text": [
        "Traceback (most recent call last):\n",
        "  File \"/home/sebi/.virtualenvs/volleyball_learning/lib/python2.7/site-packages/eventlet/hubs/poll.py\", line 100, in wait\n",
        "    writers.get(fileno, noop).cb(fileno)\n",
        "  File \"/home/sebi/.virtualenvs/volleyball_learning/lib/python2.7/site-packages/eventlet/greenthread.py\", line 207, in main\n",
        "    result = function(*args, **kwargs)\n",
        "  File \"<ipython-input-3-6b55a78ef4d4>\", line 38, in getTable\n",
        "    if(data is not None):\n",
        "UnboundLocalError: local variable 'data' referenced before assignment\n",
        "Removing descriptor: 68\n"
       ]
      },
      {
       "output_type": "stream",
       "stream": "stdout",
       "text": [
        "getting http://www.worldofvolley.com/statistics/game-statistics.html?position=10...\n",
        "getting http://www.worldofvolley.com/statistics/game-statistics.html?position=11...\n",
        "getting http://www.worldofvolley.com/statistics/game-statistics.html?position=0...\n",
        "getting http://www.worldofvolley.com/statistics/game-statistics.html?position=1...\n",
        "getting http://www.worldofvolley.com/statistics/game-statistics.html?position=2..."
       ]
      },
      {
       "output_type": "stream",
       "stream": "stdout",
       "text": [
        "\n",
        "getting http://www.worldofvolley.com/statistics/game-statistics.html?position=3...\n",
        "getting http://www.worldofvolley.com/statistics/game-statistics.html?position=4...\n",
        "getting http://www.worldofvolley.com/statistics/game-statistics.html?position=5...\n",
        "getting http://www.worldofvolley.com/statistics/game-statistics.html?position=6..."
       ]
      },
      {
       "output_type": "stream",
       "stream": "stdout",
       "text": [
        "\n",
        "getting http://www.worldofvolley.com/statistics/game-statistics.html?position=7...\n",
        "getting http://www.worldofvolley.com/statistics/game-statistics.html?position=8...\n",
        "getting http://www.worldofvolley.com/statistics/game-statistics.html?position=9...\n",
        "getting http://www.worldofvolley.com/statistics/game-statistics.html?position=1..."
       ]
      },
      {
       "output_type": "stream",
       "stream": "stdout",
       "text": [
        "\n",
        "getting http://www.worldofvolley.com/statistics/game-statistics.html?position=2...\n",
        "getting http://www.worldofvolley.com/statistics/game-statistics.html?position=3...\n",
        "getting http://www.worldofvolley.com/statistics/game-statistics.html?position=4...\n",
        "getting http://www.worldofvolley.com/statistics/game-statistics.html?position=5..."
       ]
      },
      {
       "output_type": "stream",
       "stream": "stdout",
       "text": [
        "\n",
        "getting http://www.worldofvolley.com/statistics/game-statistics.html?position=6...\n",
        "getting http://www.worldofvolley.com/statistics/game-statistics.html?position=7...\n",
        "getting http://www.worldofvolley.com/statistics/game-statistics.html?position=8...\n",
        "getting http://www.worldofvolley.com/statistics/game-statistics.html?position=9..."
       ]
      },
      {
       "output_type": "stream",
       "stream": "stdout",
       "text": [
        "\n",
        "getting http://www.worldofvolley.com/statistics/game-statistics.html?position=1...\n",
        "getting http://www.worldofvolley.com/statistics/game-statistics.html?position=2...\n",
        "getting http://www.worldofvolley.com/statistics/game-statistics.html?position=11..."
       ]
      },
      {
       "output_type": "stream",
       "stream": "stdout",
       "text": [
        "\n",
        "getting http://www.worldofvolley.com/statistics/game-statistics.html?position=3...\n",
        "getting http://www.worldofvolley.com/statistics/game-statistics.html?position=0...\n",
        "getting http://www.worldofvolley.com/statistics/game-statistics.html?position=10...\n",
        "getting http://www.worldofvolley.com/statistics/game-statistics.html?position=4..."
       ]
      },
      {
       "output_type": "stream",
       "stream": "stdout",
       "text": [
        "\n",
        "getting http://www.worldofvolley.com/statistics/game-statistics.html?position=5...\n",
        "getting http://www.worldofvolley.com/statistics/game-statistics.html?position=6...\n",
        "getting http://www.worldofvolley.com/statistics/game-statistics.html?position=7..."
       ]
      },
      {
       "output_type": "stream",
       "stream": "stdout",
       "text": [
        "\n",
        "getting http://www.worldofvolley.com/statistics/game-statistics.html?position=8...\n",
        "getting http://www.worldofvolley.com/statistics/game-statistics.html?position=9...\n",
        "getting http://www.worldofvolley.com/statistics/game-statistics.html?position=1...\n",
        "getting http://www.worldofvolley.com/statistics/game-statistics.html?position=2..."
       ]
      },
      {
       "output_type": "stream",
       "stream": "stdout",
       "text": [
        "\n",
        "getting http://www.worldofvolley.com/statistics/game-statistics.html?position=11...\n",
        "getting http://www.worldofvolley.com/statistics/game-statistics.html?position=3...\n",
        "getting http://www.worldofvolley.com/statistics/game-statistics.html?position=0...\n",
        "getting http://www.worldofvolley.com/statistics/game-statistics.html?position=4..."
       ]
      },
      {
       "output_type": "stream",
       "stream": "stdout",
       "text": [
        "\n",
        "getting http://www.worldofvolley.com/statistics/game-statistics.html?position=5...\n",
        "getting http://www.worldofvolley.com/statistics/game-statistics.html?position=6...\n",
        "getting http://www.worldofvolley.com/statistics/game-statistics.html?position=7...\n",
        "getting http://www.worldofvolley.com/statistics/game-statistics.html?position=8..."
       ]
      },
      {
       "output_type": "stream",
       "stream": "stdout",
       "text": [
        "\n",
        "getting http://www.worldofvolley.com/statistics/game-statistics.html?position=9...\n",
        "getting http://www.worldofvolley.com/statistics/game-statistics.html?position=1...\n",
        "getting http://www.worldofvolley.com/statistics/game-statistics.html?position=2...\n",
        "getting http://www.worldofvolley.com/statistics/game-statistics.html?position=11..."
       ]
      },
      {
       "output_type": "stream",
       "stream": "stdout",
       "text": [
        "\n",
        "getting http://www.worldofvolley.com/statistics/game-statistics.html?position=3...\n",
        "getting http://www.worldofvolley.com/statistics/game-statistics.html?position=0...\n",
        "getting http://www.worldofvolley.com/statistics/game-statistics.html?position=4...\n",
        "getting http://www.worldofvolley.com/statistics/game-statistics.html?position=10..."
       ]
      },
      {
       "output_type": "stream",
       "stream": "stdout",
       "text": [
        "\n",
        "getting http://www.worldofvolley.com/statistics/game-statistics.html?position=5...\n",
        "getting http://www.worldofvolley.com/statistics/game-statistics.html?position=6...\n",
        "getting http://www.worldofvolley.com/statistics/game-statistics.html?position=7...\n",
        "getting http://www.worldofvolley.com/statistics/game-statistics.html?position=8..."
       ]
      },
      {
       "output_type": "stream",
       "stream": "stdout",
       "text": [
        "\n",
        "getting http://www.worldofvolley.com/statistics/game-statistics.html?position=9...\n",
        "getting http://www.worldofvolley.com/statistics/game-statistics.html?position=1...\n",
        "getting http://www.worldofvolley.com/statistics/game-statistics.html?position=2...\n",
        "getting http://www.worldofvolley.com/statistics/game-statistics.html?position=11..."
       ]
      },
      {
       "output_type": "stream",
       "stream": "stdout",
       "text": [
        "\n",
        "getting http://www.worldofvolley.com/statistics/game-statistics.html?position=3...\n",
        "getting http://www.worldofvolley.com/statistics/game-statistics.html?position=0...\n",
        "getting http://www.worldofvolley.com/statistics/game-statistics.html?position=4..."
       ]
      },
      {
       "output_type": "stream",
       "stream": "stdout",
       "text": [
        "\n",
        "getting http://www.worldofvolley.com/statistics/game-statistics.html?position=5...\n",
        "getting http://www.worldofvolley.com/statistics/game-statistics.html?position=6...\n",
        "getting http://www.worldofvolley.com/statistics/game-statistics.html?position=7..."
       ]
      },
      {
       "output_type": "stream",
       "stream": "stdout",
       "text": [
        "\n",
        "getting http://www.worldofvolley.com/statistics/game-statistics.html?position=8...\n",
        "getting http://www.worldofvolley.com/statistics/game-statistics.html?position=9...\n",
        "getting http://www.worldofvolley.com/statistics/game-statistics.html?position=1...\n",
        "getting http://www.worldofvolley.com/statistics/game-statistics.html?position=2..."
       ]
      },
      {
       "output_type": "stream",
       "stream": "stdout",
       "text": [
        "\n",
        "getting http://www.worldofvolley.com/statistics/game-statistics.html?position=11...\n",
        "getting http://www.worldofvolley.com/statistics/game-statistics.html?position=3...\n",
        "getting http://www.worldofvolley.com/statistics/game-statistics.html?position=0...\n",
        "getting http://www.worldofvolley.com/statistics/game-statistics.html?position=4..."
       ]
      },
      {
       "output_type": "stream",
       "stream": "stdout",
       "text": [
        "\n",
        "getting http://www.worldofvolley.com/statistics/game-statistics.html?position=5...\n",
        "getting http://www.worldofvolley.com/statistics/game-statistics.html?position=6...\n",
        "getting http://www.worldofvolley.com/statistics/game-statistics.html?position=10...\n",
        "getting http://www.worldofvolley.com/statistics/game-statistics.html?position=7..."
       ]
      },
      {
       "output_type": "stream",
       "stream": "stdout",
       "text": [
        "\n",
        "getting http://www.worldofvolley.com/statistics/game-statistics.html?position=8...\n",
        "getting http://www.worldofvolley.com/statistics/game-statistics.html?position=9...\n",
        "getting http://www.worldofvolley.com/statistics/game-statistics.html?position=1..."
       ]
      },
      {
       "output_type": "stream",
       "stream": "stdout",
       "text": [
        "\n",
        "getting http://www.worldofvolley.com/statistics/game-statistics.html?position=2...\n",
        "getting http://www.worldofvolley.com/statistics/game-statistics.html?position=11...\n",
        "getting http://www.worldofvolley.com/statistics/game-statistics.html?position=3...\n",
        "getting http://www.worldofvolley.com/statistics/game-statistics.html?position=0..."
       ]
      },
      {
       "output_type": "stream",
       "stream": "stdout",
       "text": [
        "\n",
        "getting http://www.worldofvolley.com/statistics/game-statistics.html?position=4...\n",
        "getting http://www.worldofvolley.com/statistics/game-statistics.html?position=5...\n",
        "getting http://www.worldofvolley.com/statistics/game-statistics.html?position=6..."
       ]
      },
      {
       "output_type": "stream",
       "stream": "stdout",
       "text": [
        "\n",
        "getting http://www.worldofvolley.com/statistics/game-statistics.html?position=7...\n",
        "getting http://www.worldofvolley.com/statistics/game-statistics.html?position=8...\n",
        "getting http://www.worldofvolley.com/statistics/game-statistics.html?position=9...\n",
        "getting http://www.worldofvolley.com/statistics/game-statistics.html?position=1..."
       ]
      },
      {
       "output_type": "stream",
       "stream": "stdout",
       "text": [
        "\n",
        "getting http://www.worldofvolley.com/statistics/game-statistics.html?position=2...\n",
        "getting http://www.worldofvolley.com/statistics/game-statistics.html?position=11...\n",
        "getting http://www.worldofvolley.com/statistics/game-statistics.html?position=3...\n",
        "getting http://www.worldofvolley.com/statistics/game-statistics.html?position=0..."
       ]
      },
      {
       "output_type": "stream",
       "stream": "stdout",
       "text": [
        "\n",
        "getting http://www.worldofvolley.com/statistics/game-statistics.html?position=4...\n",
        "getting http://www.worldofvolley.com/statistics/game-statistics.html?position=5...\n",
        "getting http://www.worldofvolley.com/statistics/game-statistics.html?position=6...\n",
        "getting http://www.worldofvolley.com/statistics/game-statistics.html?position=7..."
       ]
      },
      {
       "output_type": "stream",
       "stream": "stdout",
       "text": [
        "\n",
        "getting http://www.worldofvolley.com/statistics/game-statistics.html?position=8...\n",
        "getting http://www.worldofvolley.com/statistics/game-statistics.html?position=10...\n",
        "getting http://www.worldofvolley.com/statistics/game-statistics.html?position=9...\n",
        "getting http://www.worldofvolley.com/statistics/game-statistics.html?position=1..."
       ]
      },
      {
       "output_type": "stream",
       "stream": "stdout",
       "text": [
        "\n",
        "getting http://www.worldofvolley.com/statistics/game-statistics.html?position=2...\n",
        "getting http://www.worldofvolley.com/statistics/game-statistics.html?position=11...\n",
        "getting http://www.worldofvolley.com/statistics/game-statistics.html?position=3...\n",
        "getting http://www.worldofvolley.com/statistics/game-statistics.html?position=0..."
       ]
      },
      {
       "output_type": "stream",
       "stream": "stdout",
       "text": [
        "\n",
        "getting http://www.worldofvolley.com/statistics/game-statistics.html?position=4...\n",
        "getting http://www.worldofvolley.com/statistics/game-statistics.html?position=5...\n",
        "getting http://www.worldofvolley.com/statistics/game-statistics.html?position=6...\n",
        "getting http://www.worldofvolley.com/statistics/game-statistics.html?position=7..."
       ]
      },
      {
       "output_type": "stream",
       "stream": "stderr",
       "text": [
        "Traceback (most recent call last):\n",
        "  File \"/home/sebi/.virtualenvs/volleyball_learning/lib/python2.7/site-packages/eventlet/hubs/poll.py\", line 100, in wait\n",
        "    writers.get(fileno, noop).cb(fileno)\n",
        "  File \"/home/sebi/.virtualenvs/volleyball_learning/lib/python2.7/site-packages/eventlet/greenthread.py\", line 207, in main\n",
        "    result = function(*args, **kwargs)\n",
        "  File \"<ipython-input-3-6b55a78ef4d4>\", line 38, in getTable\n",
        "    if(data is not None):\n",
        "UnboundLocalError: local variable 'data' referenced before assignment\n",
        "Removing descriptor: 78\n"
       ]
      },
      {
       "output_type": "stream",
       "stream": "stdout",
       "text": [
        "\n",
        "getting http://www.worldofvolley.com/statistics/game-statistics.html?position=8...\n",
        "getting http://www.worldofvolley.com/statistics/game-statistics.html?position=9...\n",
        "getting http://www.worldofvolley.com/statistics/game-statistics.html?position=0...\n",
        "getting http://www.worldofvolley.com/statistics/game-statistics.html?position=10..."
       ]
      },
      {
       "output_type": "stream",
       "stream": "stdout",
       "text": [
        "\n",
        "getting http://www.worldofvolley.com/statistics/game-statistics.html?position=11...\n",
        "getting http://www.worldofvolley.com/statistics/game-statistics.html?position=12..."
       ]
      },
      {
       "output_type": "stream",
       "stream": "stdout",
       "text": [
        "\n",
        "getting http://www.worldofvolley.com/statistics/game-statistics.html?position=13...\n",
        "getting http://www.worldofvolley.com/statistics/game-statistics.html?position=14...\n",
        "getting http://www.worldofvolley.com/statistics/game-statistics.html?position=15..."
       ]
      },
      {
       "output_type": "stream",
       "stream": "stdout",
       "text": [
        "\n",
        "getting http://www.worldofvolley.com/statistics/game-statistics.html?position=16...\n",
        "getting http://www.worldofvolley.com/statistics/game-statistics.html?position=17...\n",
        "getting http://www.worldofvolley.com/statistics/game-statistics.html?position=18...\n",
        "getting http://www.worldofvolley.com/statistics/game-statistics.html?position=19..."
       ]
      },
      {
       "output_type": "stream",
       "stream": "stdout",
       "text": [
        "\n",
        "getting http://www.worldofvolley.com/statistics/game-statistics.html?position=10...\n",
        "getting http://www.worldofvolley.com/statistics/game-statistics.html?position=10...\n",
        "getting http://www.worldofvolley.com/statistics/game-statistics.html?position=11..."
       ]
      },
      {
       "output_type": "stream",
       "stream": "stdout",
       "text": [
        "\n",
        "getting http://www.worldofvolley.com/statistics/game-statistics.html?position=13...\n",
        "getting http://www.worldofvolley.com/statistics/game-statistics.html?position=14...\n",
        "getting http://www.worldofvolley.com/statistics/game-statistics.html?position=15...\n",
        "getting http://www.worldofvolley.com/statistics/game-statistics.html?position=16..."
       ]
      },
      {
       "output_type": "stream",
       "stream": "stdout",
       "text": [
        "\n",
        "getting http://www.worldofvolley.com/statistics/game-statistics.html?position=17...\n",
        "getting http://www.worldofvolley.com/statistics/game-statistics.html?position=18...\n",
        "getting http://www.worldofvolley.com/statistics/game-statistics.html?position=10...\n",
        "getting http://www.worldofvolley.com/statistics/game-statistics.html?position=10..."
       ]
      },
      {
       "output_type": "stream",
       "stream": "stdout",
       "text": [
        "\n",
        "getting http://www.worldofvolley.com/statistics/game-statistics.html?position=11...\n",
        "getting http://www.worldofvolley.com/statistics/game-statistics.html?position=13...\n",
        "getting http://www.worldofvolley.com/statistics/game-statistics.html?position=14...\n",
        "getting http://www.worldofvolley.com/statistics/game-statistics.html?position=12..."
       ]
      },
      {
       "output_type": "stream",
       "stream": "stdout",
       "text": [
        "\n",
        "getting http://www.worldofvolley.com/statistics/game-statistics.html?position=15...\n",
        "getting http://www.worldofvolley.com/statistics/game-statistics.html?position=16...\n",
        "getting http://www.worldofvolley.com/statistics/game-statistics.html?position=17...\n",
        "getting http://www.worldofvolley.com/statistics/game-statistics.html?position=18..."
       ]
      },
      {
       "output_type": "stream",
       "stream": "stdout",
       "text": [
        "\n",
        "getting http://www.worldofvolley.com/statistics/game-statistics.html?position=10...\n",
        "getting http://www.worldofvolley.com/statistics/game-statistics.html?position=10...\n",
        "getting http://www.worldofvolley.com/statistics/game-statistics.html?position=19...\n",
        "getting http://www.worldofvolley.com/statistics/game-statistics.html?position=11..."
       ]
      },
      {
       "output_type": "stream",
       "stream": "stdout",
       "text": [
        "\n",
        "getting http://www.worldofvolley.com/statistics/game-statistics.html?position=13...\n",
        "getting http://www.worldofvolley.com/statistics/game-statistics.html?position=14...\n",
        "getting http://www.worldofvolley.com/statistics/game-statistics.html?position=12..."
       ]
      },
      {
       "output_type": "stream",
       "stream": "stdout",
       "text": [
        "\n",
        "getting http://www.worldofvolley.com/statistics/game-statistics.html?position=15...\n",
        "getting http://www.worldofvolley.com/statistics/game-statistics.html?position=16...\n",
        "getting http://www.worldofvolley.com/statistics/game-statistics.html?position=17...\n",
        "getting http://www.worldofvolley.com/statistics/game-statistics.html?position=18..."
       ]
      },
      {
       "output_type": "stream",
       "stream": "stdout",
       "text": [
        "\n",
        "getting http://www.worldofvolley.com/statistics/game-statistics.html?position=10...\n",
        "getting http://www.worldofvolley.com/statistics/game-statistics.html?position=10...\n",
        "getting http://www.worldofvolley.com/statistics/game-statistics.html?position=19...\n",
        "getting http://www.worldofvolley.com/statistics/game-statistics.html?position=11..."
       ]
      },
      {
       "output_type": "stream",
       "stream": "stdout",
       "text": [
        "\n",
        "getting http://www.worldofvolley.com/statistics/game-statistics.html?position=13...\n",
        "getting http://www.worldofvolley.com/statistics/game-statistics.html?position=14...\n",
        "getting http://www.worldofvolley.com/statistics/game-statistics.html?position=12...\n",
        "getting http://www.worldofvolley.com/statistics/game-statistics.html?position=15..."
       ]
      },
      {
       "output_type": "stream",
       "stream": "stderr",
       "text": [
        "Traceback (most recent call last):\n",
        "  File \"/home/sebi/.virtualenvs/volleyball_learning/lib/python2.7/site-packages/eventlet/hubs/poll.py\", line 100, in wait\n",
        "    writers.get(fileno, noop).cb(fileno)\n",
        "  File \"/home/sebi/.virtualenvs/volleyball_learning/lib/python2.7/site-packages/eventlet/greenthread.py\", line 207, in main\n",
        "    result = function(*args, **kwargs)\n",
        "  File \"<ipython-input-3-6b55a78ef4d4>\", line 38, in getTable\n",
        "    if(data is not None):\n",
        "UnboundLocalError: local variable 'data' referenced before assignment\n",
        "Removing descriptor: 45\n"
       ]
      },
      {
       "output_type": "stream",
       "stream": "stdout",
       "text": [
        "\n",
        "getting http://www.worldofvolley.com/statistics/game-statistics.html?position=16...\n",
        "getting http://www.worldofvolley.com/statistics/game-statistics.html?position=17...\n",
        "getting http://www.worldofvolley.com/statistics/game-statistics.html?position=18...\n",
        "getting http://www.worldofvolley.com/statistics/game-statistics.html?position=10..."
       ]
      },
      {
       "output_type": "stream",
       "stream": "stdout",
       "text": [
        "\n",
        "getting http://www.worldofvolley.com/statistics/game-statistics.html?position=19...\n",
        "getting http://www.worldofvolley.com/statistics/game-statistics.html?position=11...\n",
        "getting http://www.worldofvolley.com/statistics/game-statistics.html?position=13...\n",
        "getting http://www.worldofvolley.com/statistics/game-statistics.html?position=14..."
       ]
      },
      {
       "output_type": "stream",
       "stream": "stdout",
       "text": [
        "\n",
        "getting http://www.worldofvolley.com/statistics/game-statistics.html?position=12...\n",
        "getting http://www.worldofvolley.com/statistics/game-statistics.html?position=15...\n",
        "getting http://www.worldofvolley.com/statistics/game-statistics.html?position=16..."
       ]
      },
      {
       "output_type": "stream",
       "stream": "stdout",
       "text": [
        "\n",
        "getting http://www.worldofvolley.com/statistics/game-statistics.html?position=17...\n",
        "getting http://www.worldofvolley.com/statistics/game-statistics.html?position=18...\n",
        "getting http://www.worldofvolley.com/statistics/game-statistics.html?position=10...\n",
        "getting http://www.worldofvolley.com/statistics/game-statistics.html?position=19..."
       ]
      },
      {
       "output_type": "stream",
       "stream": "stdout",
       "text": [
        "\n",
        "getting http://www.worldofvolley.com/statistics/game-statistics.html?position=11...\n",
        "getting http://www.worldofvolley.com/statistics/game-statistics.html?position=13...\n",
        "getting http://www.worldofvolley.com/statistics/game-statistics.html?position=14...\n",
        "getting http://www.worldofvolley.com/statistics/game-statistics.html?position=12..."
       ]
      },
      {
       "output_type": "stream",
       "stream": "stdout",
       "text": [
        "\n",
        "getting http://www.worldofvolley.com/statistics/game-statistics.html?position=15...\n",
        "getting http://www.worldofvolley.com/statistics/game-statistics.html?position=16...\n",
        "getting http://www.worldofvolley.com/statistics/game-statistics.html?position=17...\n",
        "getting http://www.worldofvolley.com/statistics/game-statistics.html?position=18..."
       ]
      },
      {
       "output_type": "stream",
       "stream": "stdout",
       "text": [
        "\n",
        "getting http://www.worldofvolley.com/statistics/game-statistics.html?position=10...\n",
        "getting http://www.worldofvolley.com/statistics/game-statistics.html?position=19...\n",
        "getting http://www.worldofvolley.com/statistics/game-statistics.html?position=11...\n",
        "getting http://www.worldofvolley.com/statistics/game-statistics.html?position=13..."
       ]
      },
      {
       "output_type": "stream",
       "stream": "stdout",
       "text": [
        "\n",
        "getting http://www.worldofvolley.com/statistics/game-statistics.html?position=14...\n",
        "getting http://www.worldofvolley.com/statistics/game-statistics.html?position=12...\n",
        "getting http://www.worldofvolley.com/statistics/game-statistics.html?position=15...\n",
        "getting http://www.worldofvolley.com/statistics/game-statistics.html?position=16..."
       ]
      },
      {
       "output_type": "stream",
       "stream": "stdout",
       "text": [
        "\n",
        "getting http://www.worldofvolley.com/statistics/game-statistics.html?position=17...\n",
        "getting http://www.worldofvolley.com/statistics/game-statistics.html?position=18...\n",
        "getting http://www.worldofvolley.com/statistics/game-statistics.html?position=10...\n",
        "getting http://www.worldofvolley.com/statistics/game-statistics.html?position=19..."
       ]
      },
      {
       "output_type": "stream",
       "stream": "stdout",
       "text": [
        "\n",
        "getting http://www.worldofvolley.com/statistics/game-statistics.html?position=11...\n",
        "getting http://www.worldofvolley.com/statistics/game-statistics.html?position=13...\n",
        "getting http://www.worldofvolley.com/statistics/game-statistics.html?position=14..."
       ]
      },
      {
       "output_type": "stream",
       "stream": "stdout",
       "text": [
        "\n",
        "getting http://www.worldofvolley.com/statistics/game-statistics.html?position=12...\n",
        "getting http://www.worldofvolley.com/statistics/game-statistics.html?position=15...\n",
        "getting http://www.worldofvolley.com/statistics/game-statistics.html?position=16...\n",
        "getting http://www.worldofvolley.com/statistics/game-statistics.html?position=17..."
       ]
      },
      {
       "output_type": "stream",
       "stream": "stdout",
       "text": [
        "\n",
        "getting http://www.worldofvolley.com/statistics/game-statistics.html?position=18...\n",
        "getting http://www.worldofvolley.com/statistics/game-statistics.html?position=10...\n",
        "getting http://www.worldofvolley.com/statistics/game-statistics.html?position=19...\n",
        "getting http://www.worldofvolley.com/statistics/game-statistics.html?position=11..."
       ]
      },
      {
       "output_type": "stream",
       "stream": "stdout",
       "text": [
        "\n",
        "getting http://www.worldofvolley.com/statistics/game-statistics.html?position=13...\n",
        "getting http://www.worldofvolley.com/statistics/game-statistics.html?position=14...\n",
        "getting http://www.worldofvolley.com/statistics/game-statistics.html?position=12...\n",
        "getting http://www.worldofvolley.com/statistics/game-statistics.html?position=15..."
       ]
      },
      {
       "output_type": "stream",
       "stream": "stdout",
       "text": [
        "\n",
        "getting http://www.worldofvolley.com/statistics/game-statistics.html?position=16...\n",
        "getting http://www.worldofvolley.com/statistics/game-statistics.html?position=17...\n",
        "getting http://www.worldofvolley.com/statistics/game-statistics.html?position=18...\n",
        "getting http://www.worldofvolley.com/statistics/game-statistics.html?position=19..."
       ]
      },
      {
       "output_type": "stream",
       "stream": "stdout",
       "text": [
        "\n",
        "getting http://www.worldofvolley.com/statistics/game-statistics.html?position=20...\n",
        "getting http://www.worldofvolley.com/statistics/game-statistics.html?position=21...\n",
        "getting http://www.worldofvolley.com/statistics/game-statistics.html?position=12...\n",
        "getting http://www.worldofvolley.com/statistics/game-statistics.html?position=22..."
       ]
      },
      {
       "output_type": "stream",
       "stream": "stdout",
       "text": [
        "\n",
        "getting http://www.worldofvolley.com/statistics/game-statistics.html?position=23...\n",
        "getting http://www.worldofvolley.com/statistics/game-statistics.html?position=19...\n",
        "getting http://www.worldofvolley.com/statistics/game-statistics.html?position=20..."
       ]
      },
      {
       "output_type": "stream",
       "stream": "stdout",
       "text": [
        "\n",
        "getting http://www.worldofvolley.com/statistics/game-statistics.html?position=21...\n",
        "getting http://www.worldofvolley.com/statistics/game-statistics.html?position=24...\n",
        "getting http://www.worldofvolley.com/statistics/game-statistics.html?position=25..."
       ]
      },
      {
       "output_type": "stream",
       "stream": "stdout",
       "text": [
        "\n",
        "getting http://www.worldofvolley.com/statistics/game-statistics.html?position=26...\n",
        "getting http://www.worldofvolley.com/statistics/game-statistics.html?position=27...\n",
        "getting http://www.worldofvolley.com/statistics/game-statistics.html?position=28...\n",
        "getting http://www.worldofvolley.com/statistics/game-statistics.html?position=22..."
       ]
      },
      {
       "output_type": "stream",
       "stream": "stdout",
       "text": [
        "\n",
        "getting http://www.worldofvolley.com/statistics/game-statistics.html?position=23...\n",
        "getting http://www.worldofvolley.com/statistics/game-statistics.html?position=20...\n",
        "getting http://www.worldofvolley.com/statistics/game-statistics.html?position=24..."
       ]
      },
      {
       "output_type": "stream",
       "stream": "stdout",
       "text": [
        "\n",
        "getting http://www.worldofvolley.com/statistics/game-statistics.html?position=25...\n",
        "getting http://www.worldofvolley.com/statistics/game-statistics.html?position=29...\n",
        "getting http://www.worldofvolley.com/statistics/game-statistics.html?position=26..."
       ]
      },
      {
       "output_type": "stream",
       "stream": "stdout",
       "text": [
        "\n",
        "getting http://www.worldofvolley.com/statistics/game-statistics.html?position=27...\n",
        "getting http://www.worldofvolley.com/statistics/game-statistics.html?position=28...\n",
        "getting http://www.worldofvolley.com/statistics/game-statistics.html?position=22..."
       ]
      },
      {
       "output_type": "stream",
       "stream": "stdout",
       "text": [
        "\n",
        "getting http://www.worldofvolley.com/statistics/game-statistics.html?position=23...\n",
        "getting http://www.worldofvolley.com/statistics/game-statistics.html?position=24...\n",
        "getting http://www.worldofvolley.com/statistics/game-statistics.html?position=25..."
       ]
      },
      {
       "output_type": "stream",
       "stream": "stdout",
       "text": [
        "\n",
        "getting http://www.worldofvolley.com/statistics/game-statistics.html?position=21...\n",
        "getting http://www.worldofvolley.com/statistics/game-statistics.html?position=29...\n",
        "getting http://www.worldofvolley.com/statistics/game-statistics.html?position=26...\n",
        "getting http://www.worldofvolley.com/statistics/game-statistics.html?position=27..."
       ]
      },
      {
       "output_type": "stream",
       "stream": "stdout",
       "text": [
        "\n",
        "getting http://www.worldofvolley.com/statistics/game-statistics.html?position=28...\n",
        "getting http://www.worldofvolley.com/statistics/game-statistics.html?position=22...\n",
        "getting http://www.worldofvolley.com/statistics/game-statistics.html?position=23..."
       ]
      },
      {
       "output_type": "stream",
       "stream": "stdout",
       "text": [
        "\n",
        "getting http://www.worldofvolley.com/statistics/game-statistics.html?position=24...\n",
        "getting http://www.worldofvolley.com/statistics/game-statistics.html?position=25...\n",
        "getting http://www.worldofvolley.com/statistics/game-statistics.html?position=21..."
       ]
      },
      {
       "output_type": "stream",
       "stream": "stdout",
       "text": [
        "\n",
        "getting http://www.worldofvolley.com/statistics/game-statistics.html?position=20...\n",
        "getting http://www.worldofvolley.com/statistics/game-statistics.html?position=29...\n",
        "getting http://www.worldofvolley.com/statistics/game-statistics.html?position=26..."
       ]
      },
      {
       "output_type": "stream",
       "stream": "stdout",
       "text": [
        "\n",
        "getting http://www.worldofvolley.com/statistics/game-statistics.html?position=27...\n",
        "getting http://www.worldofvolley.com/statistics/game-statistics.html?position=28...\n",
        "getting http://www.worldofvolley.com/statistics/game-statistics.html?position=22..."
       ]
      },
      {
       "output_type": "stream",
       "stream": "stdout",
       "text": [
        "\n",
        "getting http://www.worldofvolley.com/statistics/game-statistics.html?position=23...\n",
        "getting http://www.worldofvolley.com/statistics/game-statistics.html?position=24...\n",
        "getting http://www.worldofvolley.com/statistics/game-statistics.html?position=25..."
       ]
      },
      {
       "output_type": "stream",
       "stream": "stdout",
       "text": [
        "\n",
        "getting http://www.worldofvolley.com/statistics/game-statistics.html?position=21...\n",
        "getting http://www.worldofvolley.com/statistics/game-statistics.html?position=20...\n",
        "getting http://www.worldofvolley.com/statistics/game-statistics.html?position=29...\n",
        "getting http://www.worldofvolley.com/statistics/game-statistics.html?position=26..."
       ]
      },
      {
       "output_type": "stream",
       "stream": "stdout",
       "text": [
        "\n",
        "getting http://www.worldofvolley.com/statistics/game-statistics.html?position=27...\n",
        "getting http://www.worldofvolley.com/statistics/game-statistics.html?position=28...\n",
        "getting http://www.worldofvolley.com/statistics/game-statistics.html?position=22...\n",
        "getting http://www.worldofvolley.com/statistics/game-statistics.html?position=23..."
       ]
      },
      {
       "output_type": "stream",
       "stream": "stdout",
       "text": [
        "\n",
        "getting http://www.worldofvolley.com/statistics/game-statistics.html?position=24...\n",
        "getting http://www.worldofvolley.com/statistics/game-statistics.html?position=25..."
       ]
      },
      {
       "output_type": "stream",
       "stream": "stdout",
       "text": [
        "\n",
        "getting http://www.worldofvolley.com/statistics/game-statistics.html?position=21...\n",
        "getting http://www.worldofvolley.com/statistics/game-statistics.html?position=20...\n",
        "getting http://www.worldofvolley.com/statistics/game-statistics.html?position=29..."
       ]
      },
      {
       "output_type": "stream",
       "stream": "stdout",
       "text": [
        "\n",
        "getting http://www.worldofvolley.com/statistics/game-statistics.html?position=26...\n",
        "getting http://www.worldofvolley.com/statistics/game-statistics.html?position=27...\n",
        "getting http://www.worldofvolley.com/statistics/game-statistics.html?position=28...\n",
        "getting http://www.worldofvolley.com/statistics/game-statistics.html?position=22..."
       ]
      },
      {
       "output_type": "stream",
       "stream": "stdout",
       "text": [
        "\n",
        "getting http://www.worldofvolley.com/statistics/game-statistics.html?position=23...\n",
        "getting http://www.worldofvolley.com/statistics/game-statistics.html?position=24...\n",
        "getting http://www.worldofvolley.com/statistics/game-statistics.html?position=25...\n",
        "getting http://www.worldofvolley.com/statistics/game-statistics.html?position=21..."
       ]
      },
      {
       "output_type": "stream",
       "stream": "stdout",
       "text": [
        "\n",
        "getting http://www.worldofvolley.com/statistics/game-statistics.html?position=20...\n",
        "getting http://www.worldofvolley.com/statistics/game-statistics.html?position=29...\n",
        "getting http://www.worldofvolley.com/statistics/game-statistics.html?position=26..."
       ]
      },
      {
       "output_type": "stream",
       "stream": "stdout",
       "text": [
        "\n",
        "getting http://www.worldofvolley.com/statistics/game-statistics.html?position=27...\n",
        "getting http://www.worldofvolley.com/statistics/game-statistics.html?position=28...\n",
        "getting http://www.worldofvolley.com/statistics/game-statistics.html?position=22..."
       ]
      },
      {
       "output_type": "stream",
       "stream": "stdout",
       "text": [
        "\n",
        "getting http://www.worldofvolley.com/statistics/game-statistics.html?position=23...\n",
        "getting http://www.worldofvolley.com/statistics/game-statistics.html?position=24...\n",
        "getting http://www.worldofvolley.com/statistics/game-statistics.html?position=25..."
       ]
      },
      {
       "output_type": "stream",
       "stream": "stdout",
       "text": [
        "\n",
        "getting http://www.worldofvolley.com/statistics/game-statistics.html?position=21...\n",
        "getting http://www.worldofvolley.com/statistics/game-statistics.html?position=20...\n",
        "getting http://www.worldofvolley.com/statistics/game-statistics.html?position=29...\n",
        "getting http://www.worldofvolley.com/statistics/game-statistics.html?position=26..."
       ]
      },
      {
       "output_type": "stream",
       "stream": "stdout",
       "text": [
        "\n",
        "getting http://www.worldofvolley.com/statistics/game-statistics.html?position=27...\n",
        "getting http://www.worldofvolley.com/statistics/game-statistics.html?position=28...\n",
        "getting http://www.worldofvolley.com/statistics/game-statistics.html?position=22...\n",
        "getting http://www.worldofvolley.com/statistics/game-statistics.html?position=23..."
       ]
      },
      {
       "output_type": "stream",
       "stream": "stdout",
       "text": [
        "\n",
        "getting http://www.worldofvolley.com/statistics/game-statistics.html?position=24...\n",
        "getting http://www.worldofvolley.com/statistics/game-statistics.html?position=25...\n",
        "getting http://www.worldofvolley.com/statistics/game-statistics.html?position=21...\n",
        "getting http://www.worldofvolley.com/statistics/game-statistics.html?position=20..."
       ]
      },
      {
       "output_type": "stream",
       "stream": "stdout",
       "text": [
        "\n",
        "getting http://www.worldofvolley.com/statistics/game-statistics.html?position=29...\n",
        "getting http://www.worldofvolley.com/statistics/game-statistics.html?position=26...\n",
        "getting http://www.worldofvolley.com/statistics/game-statistics.html?position=27..."
       ]
      },
      {
       "output_type": "stream",
       "stream": "stdout",
       "text": [
        "\n",
        "getting http://www.worldofvolley.com/statistics/game-statistics.html?position=28...\n",
        "getting http://www.worldofvolley.com/statistics/game-statistics.html?position=22...\n",
        "getting http://www.worldofvolley.com/statistics/game-statistics.html?position=23...\n",
        "getting http://www.worldofvolley.com/statistics/game-statistics.html?position=24..."
       ]
      },
      {
       "output_type": "stream",
       "stream": "stdout",
       "text": [
        "\n",
        "getting http://www.worldofvolley.com/statistics/game-statistics.html?position=25...\n",
        "getting http://www.worldofvolley.com/statistics/game-statistics.html?position=21...\n",
        "getting http://www.worldofvolley.com/statistics/game-statistics.html?position=20..."
       ]
      },
      {
       "output_type": "stream",
       "stream": "stdout",
       "text": [
        "\n",
        "getting http://www.worldofvolley.com/statistics/game-statistics.html?position=29...\n",
        "getting http://www.worldofvolley.com/statistics/game-statistics.html?position=26...\n",
        "getting http://www.worldofvolley.com/statistics/game-statistics.html?position=27..."
       ]
      },
      {
       "output_type": "stream",
       "stream": "stdout",
       "text": [
        "\n",
        "getting http://www.worldofvolley.com/statistics/game-statistics.html?position=28...\n",
        "getting http://www.worldofvolley.com/statistics/game-statistics.html?position=30...\n",
        "getting http://www.worldofvolley.com/statistics/game-statistics.html?position=31...\n",
        "getting http://www.worldofvolley.com/statistics/game-statistics.html?position=29..."
       ]
      },
      {
       "output_type": "stream",
       "stream": "stdout",
       "text": [
        "\n",
        "getting http://www.worldofvolley.com/statistics/game-statistics.html?position=32...\n",
        "getting http://www.worldofvolley.com/statistics/game-statistics.html?position=33...\n",
        "getting http://www.worldofvolley.com/statistics/game-statistics.html?position=34..."
       ]
      },
      {
       "output_type": "stream",
       "stream": "stdout",
       "text": [
        "\n",
        "getting http://www.worldofvolley.com/statistics/game-statistics.html?position=35...\n",
        "getting http://www.worldofvolley.com/statistics/game-statistics.html?position=36...\n",
        "getting http://www.worldofvolley.com/statistics/game-statistics.html?position=31...\n",
        "getting http://www.worldofvolley.com/statistics/game-statistics.html?position=37..."
       ]
      },
      {
       "output_type": "stream",
       "stream": "stdout",
       "text": [
        "\n",
        "getting http://www.worldofvolley.com/statistics/game-statistics.html?position=38...\n",
        "getting http://www.worldofvolley.com/statistics/game-statistics.html?position=32...\n",
        "getting http://www.worldofvolley.com/statistics/game-statistics.html?position=33...\n",
        "getting http://www.worldofvolley.com/statistics/game-statistics.html?position=34..."
       ]
      },
      {
       "output_type": "stream",
       "stream": "stdout",
       "text": [
        "\n",
        "getting http://www.worldofvolley.com/statistics/game-statistics.html?position=35...\n",
        "getting http://www.worldofvolley.com/statistics/game-statistics.html?position=36...\n",
        "getting http://www.worldofvolley.com/statistics/game-statistics.html?position=31...\n",
        "getting http://www.worldofvolley.com/statistics/game-statistics.html?position=37..."
       ]
      },
      {
       "output_type": "stream",
       "stream": "stdout",
       "text": [
        "\n",
        "getting http://www.worldofvolley.com/statistics/game-statistics.html?position=30...\n",
        "getting http://www.worldofvolley.com/statistics/game-statistics.html?position=38...\n",
        "getting http://www.worldofvolley.com/statistics/game-statistics.html?position=32..."
       ]
      },
      {
       "output_type": "stream",
       "stream": "stdout",
       "text": [
        "\n",
        "getting http://www.worldofvolley.com/statistics/game-statistics.html?position=33...\n",
        "getting http://www.worldofvolley.com/statistics/game-statistics.html?position=34...\n",
        "getting http://www.worldofvolley.com/statistics/game-statistics.html?position=35..."
       ]
      },
      {
       "output_type": "stream",
       "stream": "stdout",
       "text": [
        "\n",
        "getting http://www.worldofvolley.com/statistics/game-statistics.html?position=36...\n",
        "getting http://www.worldofvolley.com/statistics/game-statistics.html?position=31...\n",
        "getting http://www.worldofvolley.com/statistics/game-statistics.html?position=37..."
       ]
      },
      {
       "output_type": "stream",
       "stream": "stdout",
       "text": [
        "\n",
        "getting http://www.worldofvolley.com/statistics/game-statistics.html?position=39...\n",
        "getting http://www.worldofvolley.com/statistics/game-statistics.html?position=30...\n",
        "getting http://www.worldofvolley.com/statistics/game-statistics.html?position=38...\n",
        "getting http://www.worldofvolley.com/statistics/game-statistics.html?position=32..."
       ]
      },
      {
       "output_type": "stream",
       "stream": "stdout",
       "text": [
        "\n",
        "getting http://www.worldofvolley.com/statistics/game-statistics.html?position=34...\n",
        "getting http://www.worldofvolley.com/statistics/game-statistics.html?position=35...\n",
        "getting http://www.worldofvolley.com/statistics/game-statistics.html?position=36...\n",
        "getting http://www.worldofvolley.com/statistics/game-statistics.html?position=31..."
       ]
      },
      {
       "output_type": "stream",
       "stream": "stdout",
       "text": [
        "\n",
        "getting http://www.worldofvolley.com/statistics/game-statistics.html?position=39...\n",
        "getting http://www.worldofvolley.com/statistics/game-statistics.html?position=30...\n",
        "getting http://www.worldofvolley.com/statistics/game-statistics.html?position=32..."
       ]
      },
      {
       "output_type": "stream",
       "stream": "stdout",
       "text": [
        "\n",
        "getting http://www.worldofvolley.com/statistics/game-statistics.html?position=34...\n",
        "getting http://www.worldofvolley.com/statistics/game-statistics.html?position=35...\n",
        "getting http://www.worldofvolley.com/statistics/game-statistics.html?position=36...\n",
        "getting http://www.worldofvolley.com/statistics/game-statistics.html?position=33..."
       ]
      },
      {
       "output_type": "stream",
       "stream": "stdout",
       "text": [
        "\n",
        "getting http://www.worldofvolley.com/statistics/game-statistics.html?position=31...\n",
        "getting http://www.worldofvolley.com/statistics/game-statistics.html?position=34..."
       ]
      },
      {
       "output_type": "stream",
       "stream": "stdout",
       "text": [
        "\n",
        "getting http://www.worldofvolley.com/statistics/game-statistics.html?position=35...\n",
        "getting http://www.worldofvolley.com/statistics/game-statistics.html?position=36...\n",
        "getting http://www.worldofvolley.com/statistics/game-statistics.html?position=31..."
       ]
      },
      {
       "output_type": "stream",
       "stream": "stdout",
       "text": [
        "\n",
        "getting http://www.worldofvolley.com/statistics/game-statistics.html?position=35..."
       ]
      },
      {
       "output_type": "stream",
       "stream": "stdout",
       "text": [
        "\n",
        "getting http://www.worldofvolley.com/statistics/game-statistics.html?position=31...\n",
        "getting http://www.worldofvolley.com/statistics/game-statistics.html?position=31..."
       ]
      },
      {
       "output_type": "stream",
       "stream": "stdout",
       "text": [
        "\n",
        "getting http://www.worldofvolley.com/statistics/game-statistics.html?position=31..."
       ]
      },
      {
       "output_type": "stream",
       "stream": "stdout",
       "text": [
        "\n",
        "getting http://www.worldofvolley.com/statistics/game-statistics.html?position=40..."
       ]
      },
      {
       "output_type": "stream",
       "stream": "stdout",
       "text": [
        "\n",
        "getting http://www.worldofvolley.com/statistics/game-statistics.html?position=40..."
       ]
      },
      {
       "output_type": "stream",
       "stream": "stdout",
       "text": [
        "\n",
        "getting http://www.worldofvolley.com/statistics/game-statistics.html?position=40..."
       ]
      },
      {
       "output_type": "stream",
       "stream": "stdout",
       "text": [
        "\n",
        "getting http://www.worldofvolley.com/statistics/game-statistics.html?position=40..."
       ]
      },
      {
       "output_type": "stream",
       "stream": "stdout",
       "text": [
        "\n",
        "getting http://www.worldofvolley.com/statistics/game-statistics.html?position=38...\n",
        "getting http://www.worldofvolley.com/statistics/game-statistics.html?position=36..."
       ]
      },
      {
       "output_type": "stream",
       "stream": "stdout",
       "text": [
        "\n",
        "getting http://www.worldofvolley.com/statistics/game-statistics.html?position=40..."
       ]
      },
      {
       "output_type": "stream",
       "stream": "stdout",
       "text": [
        "\n",
        "getting http://www.worldofvolley.com/statistics/game-statistics.html?position=38...\n",
        "getting http://www.worldofvolley.com/statistics/game-statistics.html?position=38..."
       ]
      },
      {
       "output_type": "stream",
       "stream": "stdout",
       "text": [
        "\n",
        "getting http://www.worldofvolley.com/statistics/game-statistics.html?position=36..."
       ]
      },
      {
       "output_type": "stream",
       "stream": "stdout",
       "text": [
        "\n",
        "getting http://www.worldofvolley.com/statistics/game-statistics.html?position=36..."
       ]
      },
      {
       "output_type": "stream",
       "stream": "stdout",
       "text": [
        "\n",
        "getting http://www.worldofvolley.com/statistics/game-statistics.html?position=40..."
       ]
      },
      {
       "output_type": "stream",
       "stream": "stdout",
       "text": [
        "\n"
       ]
      },
      {
       "ename": "KeyboardInterrupt",
       "evalue": "",
       "output_type": "pyerr",
       "traceback": [
        "\u001b[1;31m---------------------------------------------------------------------------\u001b[0m\n\u001b[1;31mKeyboardInterrupt\u001b[0m                         Traceback (most recent call last)",
        "\u001b[1;32m<ipython-input-6-be0076e6848c>\u001b[0m in \u001b[0;36m<module>\u001b[1;34m()\u001b[0m\n\u001b[0;32m      6\u001b[0m \u001b[1;33m\u001b[0m\u001b[0m\n\u001b[0;32m      7\u001b[0m \u001b[0mtables\u001b[0m \u001b[1;33m=\u001b[0m \u001b[1;33m{\u001b[0m\u001b[1;34m\"all\"\u001b[0m\u001b[1;33m:\u001b[0m \u001b[0mpandas\u001b[0m\u001b[1;33m.\u001b[0m\u001b[0mDataFrame\u001b[0m\u001b[1;33m(\u001b[0m\u001b[0mcolumns\u001b[0m\u001b[1;33m=\u001b[0m\u001b[1;33m[\u001b[0m\u001b[1;34m\"date\"\u001b[0m\u001b[1;33m,\u001b[0m \u001b[1;34m\"score1\"\u001b[0m\u001b[1;33m,\u001b[0m \u001b[1;34m\"score2\"\u001b[0m\u001b[1;33m,\u001b[0m \u001b[1;34m\"team1\"\u001b[0m\u001b[1;33m,\u001b[0m \u001b[1;34m\"team2\"\u001b[0m\u001b[1;33m]\u001b[0m\u001b[1;33m)\u001b[0m\u001b[1;33m}\u001b[0m\u001b[1;33m\u001b[0m\u001b[0m\n\u001b[1;32m----> 8\u001b[1;33m \u001b[1;32mfor\u001b[0m \u001b[0mtable\u001b[0m \u001b[1;32min\u001b[0m \u001b[0mpool\u001b[0m\u001b[1;33m.\u001b[0m\u001b[0mimap\u001b[0m\u001b[1;33m(\u001b[0m\u001b[0mgetTable\u001b[0m\u001b[1;33m,\u001b[0m \u001b[0murls\u001b[0m\u001b[1;33m)\u001b[0m\u001b[1;33m:\u001b[0m\u001b[1;33m\u001b[0m\u001b[0m\n\u001b[0m\u001b[0;32m      9\u001b[0m     \u001b[0mtables\u001b[0m\u001b[1;33m[\u001b[0m\u001b[1;34m\"all\"\u001b[0m\u001b[1;33m]\u001b[0m \u001b[1;33m=\u001b[0m \u001b[0mtables\u001b[0m\u001b[1;33m[\u001b[0m\u001b[1;34m\"all\"\u001b[0m\u001b[1;33m]\u001b[0m\u001b[1;33m.\u001b[0m\u001b[0mappend\u001b[0m\u001b[1;33m(\u001b[0m\u001b[0mtable\u001b[0m\u001b[1;33m)\u001b[0m\u001b[1;33m\u001b[0m\u001b[0m\n\u001b[0;32m     10\u001b[0m \u001b[1;32mprint\u001b[0m\u001b[1;33m(\u001b[0m\u001b[0mtables\u001b[0m\u001b[1;33m[\u001b[0m\u001b[1;34m\"all\"\u001b[0m\u001b[1;33m]\u001b[0m\u001b[1;33m)\u001b[0m\u001b[1;33m\u001b[0m\u001b[0m\n",
        "\u001b[1;32m/home/sebi/.virtualenvs/volleyball_learning/lib/python2.7/site-packages/eventlet/greenpool.pyc\u001b[0m in \u001b[0;36mnext\u001b[1;34m(self)\u001b[0m\n\u001b[0;32m    234\u001b[0m     \u001b[1;32mdef\u001b[0m \u001b[0mnext\u001b[0m\u001b[1;33m(\u001b[0m\u001b[0mself\u001b[0m\u001b[1;33m)\u001b[0m\u001b[1;33m:\u001b[0m\u001b[1;33m\u001b[0m\u001b[0m\n\u001b[0;32m    235\u001b[0m         \u001b[1;32mtry\u001b[0m\u001b[1;33m:\u001b[0m\u001b[1;33m\u001b[0m\u001b[0m\n\u001b[1;32m--> 236\u001b[1;33m             \u001b[0mval\u001b[0m \u001b[1;33m=\u001b[0m \u001b[0mself\u001b[0m\u001b[1;33m.\u001b[0m\u001b[0mwaiters\u001b[0m\u001b[1;33m.\u001b[0m\u001b[0mget\u001b[0m\u001b[1;33m(\u001b[0m\u001b[1;33m)\u001b[0m\u001b[1;33m.\u001b[0m\u001b[0mwait\u001b[0m\u001b[1;33m(\u001b[0m\u001b[1;33m)\u001b[0m\u001b[1;33m\u001b[0m\u001b[0m\n\u001b[0m\u001b[0;32m    237\u001b[0m             \u001b[1;32mif\u001b[0m \u001b[0misinstance\u001b[0m\u001b[1;33m(\u001b[0m\u001b[0mval\u001b[0m\u001b[1;33m,\u001b[0m \u001b[0mStopIteration\u001b[0m\u001b[1;33m)\u001b[0m\u001b[1;33m:\u001b[0m\u001b[1;33m\u001b[0m\u001b[0m\n\u001b[0;32m    238\u001b[0m                 \u001b[1;32mraise\u001b[0m \u001b[0mval\u001b[0m\u001b[1;33m\u001b[0m\u001b[0m\n",
        "\u001b[1;32m/home/sebi/.virtualenvs/volleyball_learning/lib/python2.7/site-packages/eventlet/greenthread.pyc\u001b[0m in \u001b[0;36mwait\u001b[1;34m(self)\u001b[0m\n\u001b[0;32m    166\u001b[0m         \u001b[0mstack\u001b[0m \u001b[0mtrace\u001b[0m \u001b[0mwill\u001b[0m \u001b[0munavoidably\u001b[0m \u001b[0mcontain\u001b[0m \u001b[0msome\u001b[0m \u001b[0mframes\u001b[0m \u001b[1;32mfrom\u001b[0m \u001b[0mwithin\u001b[0m \u001b[0mthe\u001b[0m\u001b[1;33m\u001b[0m\u001b[0m\n\u001b[0;32m    167\u001b[0m         greenthread module).\"\"\"\n\u001b[1;32m--> 168\u001b[1;33m         \u001b[1;32mreturn\u001b[0m \u001b[0mself\u001b[0m\u001b[1;33m.\u001b[0m\u001b[0m_exit_event\u001b[0m\u001b[1;33m.\u001b[0m\u001b[0mwait\u001b[0m\u001b[1;33m(\u001b[0m\u001b[1;33m)\u001b[0m\u001b[1;33m\u001b[0m\u001b[0m\n\u001b[0m\u001b[0;32m    169\u001b[0m \u001b[1;33m\u001b[0m\u001b[0m\n\u001b[0;32m    170\u001b[0m     \u001b[1;32mdef\u001b[0m \u001b[0mlink\u001b[0m\u001b[1;33m(\u001b[0m\u001b[0mself\u001b[0m\u001b[1;33m,\u001b[0m \u001b[0mfunc\u001b[0m\u001b[1;33m,\u001b[0m \u001b[1;33m*\u001b[0m\u001b[0mcurried_args\u001b[0m\u001b[1;33m,\u001b[0m \u001b[1;33m**\u001b[0m\u001b[0mcurried_kwargs\u001b[0m\u001b[1;33m)\u001b[0m\u001b[1;33m:\u001b[0m\u001b[1;33m\u001b[0m\u001b[0m\n",
        "\u001b[1;32m/home/sebi/.virtualenvs/volleyball_learning/lib/python2.7/site-packages/eventlet/event.pyc\u001b[0m in \u001b[0;36mwait\u001b[1;34m(self)\u001b[0m\n\u001b[0;32m    118\u001b[0m             \u001b[0mself\u001b[0m\u001b[1;33m.\u001b[0m\u001b[0m_waiters\u001b[0m\u001b[1;33m.\u001b[0m\u001b[0madd\u001b[0m\u001b[1;33m(\u001b[0m\u001b[0mcurrent\u001b[0m\u001b[1;33m)\u001b[0m\u001b[1;33m\u001b[0m\u001b[0m\n\u001b[0;32m    119\u001b[0m             \u001b[1;32mtry\u001b[0m\u001b[1;33m:\u001b[0m\u001b[1;33m\u001b[0m\u001b[0m\n\u001b[1;32m--> 120\u001b[1;33m                 \u001b[1;32mreturn\u001b[0m \u001b[0mhubs\u001b[0m\u001b[1;33m.\u001b[0m\u001b[0mget_hub\u001b[0m\u001b[1;33m(\u001b[0m\u001b[1;33m)\u001b[0m\u001b[1;33m.\u001b[0m\u001b[0mswitch\u001b[0m\u001b[1;33m(\u001b[0m\u001b[1;33m)\u001b[0m\u001b[1;33m\u001b[0m\u001b[0m\n\u001b[0m\u001b[0;32m    121\u001b[0m             \u001b[1;32mfinally\u001b[0m\u001b[1;33m:\u001b[0m\u001b[1;33m\u001b[0m\u001b[0m\n\u001b[0;32m    122\u001b[0m                 \u001b[0mself\u001b[0m\u001b[1;33m.\u001b[0m\u001b[0m_waiters\u001b[0m\u001b[1;33m.\u001b[0m\u001b[0mdiscard\u001b[0m\u001b[1;33m(\u001b[0m\u001b[0mcurrent\u001b[0m\u001b[1;33m)\u001b[0m\u001b[1;33m\u001b[0m\u001b[0m\n",
        "\u001b[1;32m/home/sebi/.virtualenvs/volleyball_learning/lib/python2.7/site-packages/eventlet/hubs/hub.pyc\u001b[0m in \u001b[0;36mswitch\u001b[1;34m(self)\u001b[0m\n\u001b[0;32m    185\u001b[0m             \u001b[1;32mpass\u001b[0m  \u001b[1;31m# gets raised if there is a greenlet parent cycle\u001b[0m\u001b[1;33m\u001b[0m\u001b[0m\n\u001b[0;32m    186\u001b[0m         \u001b[0mclear_sys_exc_info\u001b[0m\u001b[1;33m(\u001b[0m\u001b[1;33m)\u001b[0m\u001b[1;33m\u001b[0m\u001b[0m\n\u001b[1;32m--> 187\u001b[1;33m         \u001b[1;32mreturn\u001b[0m \u001b[0mself\u001b[0m\u001b[1;33m.\u001b[0m\u001b[0mgreenlet\u001b[0m\u001b[1;33m.\u001b[0m\u001b[0mswitch\u001b[0m\u001b[1;33m(\u001b[0m\u001b[1;33m)\u001b[0m\u001b[1;33m\u001b[0m\u001b[0m\n\u001b[0m\u001b[0;32m    188\u001b[0m \u001b[1;33m\u001b[0m\u001b[0m\n\u001b[0;32m    189\u001b[0m     \u001b[1;32mdef\u001b[0m \u001b[0msquelch_exception\u001b[0m\u001b[1;33m(\u001b[0m\u001b[0mself\u001b[0m\u001b[1;33m,\u001b[0m \u001b[0mfileno\u001b[0m\u001b[1;33m,\u001b[0m \u001b[0mexc_info\u001b[0m\u001b[1;33m)\u001b[0m\u001b[1;33m:\u001b[0m\u001b[1;33m\u001b[0m\u001b[0m\n",
        "\u001b[1;32m/home/sebi/.virtualenvs/volleyball_learning/lib/python2.7/site-packages/eventlet/hubs/hub.pyc\u001b[0m in \u001b[0;36mrun\u001b[1;34m(self, *a, **kw)\u001b[0m\n\u001b[0;32m    234\u001b[0m                     \u001b[0msleep_time\u001b[0m \u001b[1;33m=\u001b[0m \u001b[0mwakeup_when\u001b[0m \u001b[1;33m-\u001b[0m \u001b[0mself\u001b[0m\u001b[1;33m.\u001b[0m\u001b[0mclock\u001b[0m\u001b[1;33m(\u001b[0m\u001b[1;33m)\u001b[0m\u001b[1;33m\u001b[0m\u001b[0m\n\u001b[0;32m    235\u001b[0m                 \u001b[1;32mif\u001b[0m \u001b[0msleep_time\u001b[0m \u001b[1;33m>\u001b[0m \u001b[1;36m0\u001b[0m\u001b[1;33m:\u001b[0m\u001b[1;33m\u001b[0m\u001b[0m\n\u001b[1;32m--> 236\u001b[1;33m                     \u001b[0mself\u001b[0m\u001b[1;33m.\u001b[0m\u001b[0mwait\u001b[0m\u001b[1;33m(\u001b[0m\u001b[0msleep_time\u001b[0m\u001b[1;33m)\u001b[0m\u001b[1;33m\u001b[0m\u001b[0m\n\u001b[0m\u001b[0;32m    237\u001b[0m                 \u001b[1;32melse\u001b[0m\u001b[1;33m:\u001b[0m\u001b[1;33m\u001b[0m\u001b[0m\n\u001b[0;32m    238\u001b[0m                     \u001b[0mself\u001b[0m\u001b[1;33m.\u001b[0m\u001b[0mwait\u001b[0m\u001b[1;33m(\u001b[0m\u001b[1;36m0\u001b[0m\u001b[1;33m)\u001b[0m\u001b[1;33m\u001b[0m\u001b[0m\n",
        "\u001b[1;32m/home/sebi/.virtualenvs/volleyball_learning/lib/python2.7/site-packages/eventlet/hubs/poll.pyc\u001b[0m in \u001b[0;36mwait\u001b[1;34m(self, seconds)\u001b[0m\n\u001b[0;32m     83\u001b[0m             \u001b[1;32mreturn\u001b[0m\u001b[1;33m\u001b[0m\u001b[0m\n\u001b[0;32m     84\u001b[0m         \u001b[1;32mtry\u001b[0m\u001b[1;33m:\u001b[0m\u001b[1;33m\u001b[0m\u001b[0m\n\u001b[1;32m---> 85\u001b[1;33m             \u001b[0mpresult\u001b[0m \u001b[1;33m=\u001b[0m \u001b[0mself\u001b[0m\u001b[1;33m.\u001b[0m\u001b[0mdo_poll\u001b[0m\u001b[1;33m(\u001b[0m\u001b[0mseconds\u001b[0m\u001b[1;33m)\u001b[0m\u001b[1;33m\u001b[0m\u001b[0m\n\u001b[0m\u001b[0;32m     86\u001b[0m         \u001b[1;32mexcept\u001b[0m \u001b[1;33m(\u001b[0m\u001b[0mIOError\u001b[0m\u001b[1;33m,\u001b[0m \u001b[0mselect\u001b[0m\u001b[1;33m.\u001b[0m\u001b[0merror\u001b[0m\u001b[1;33m)\u001b[0m \u001b[1;32mas\u001b[0m \u001b[0me\u001b[0m\u001b[1;33m:\u001b[0m\u001b[1;33m\u001b[0m\u001b[0m\n\u001b[0;32m     87\u001b[0m             \u001b[1;32mif\u001b[0m \u001b[0mget_errno\u001b[0m\u001b[1;33m(\u001b[0m\u001b[0me\u001b[0m\u001b[1;33m)\u001b[0m \u001b[1;33m==\u001b[0m \u001b[0merrno\u001b[0m\u001b[1;33m.\u001b[0m\u001b[0mEINTR\u001b[0m\u001b[1;33m:\u001b[0m\u001b[1;33m\u001b[0m\u001b[0m\n",
        "\u001b[1;32m/home/sebi/.virtualenvs/volleyball_learning/lib/python2.7/site-packages/eventlet/hubs/epolls.pyc\u001b[0m in \u001b[0;36mdo_poll\u001b[1;34m(self, seconds)\u001b[0m\n\u001b[0;32m     59\u001b[0m \u001b[1;33m\u001b[0m\u001b[0m\n\u001b[0;32m     60\u001b[0m     \u001b[1;32mdef\u001b[0m \u001b[0mdo_poll\u001b[0m\u001b[1;33m(\u001b[0m\u001b[0mself\u001b[0m\u001b[1;33m,\u001b[0m \u001b[0mseconds\u001b[0m\u001b[1;33m)\u001b[0m\u001b[1;33m:\u001b[0m\u001b[1;33m\u001b[0m\u001b[0m\n\u001b[1;32m---> 61\u001b[1;33m         \u001b[1;32mreturn\u001b[0m \u001b[0mself\u001b[0m\u001b[1;33m.\u001b[0m\u001b[0mpoll\u001b[0m\u001b[1;33m.\u001b[0m\u001b[0mpoll\u001b[0m\u001b[1;33m(\u001b[0m\u001b[0mseconds\u001b[0m\u001b[1;33m)\u001b[0m\u001b[1;33m\u001b[0m\u001b[0m\n\u001b[0m",
        "\u001b[1;31mKeyboardInterrupt\u001b[0m: "
       ]
      }
     ],
     "prompt_number": 6
    }
   ],
   "metadata": {}
  }
 ]
}