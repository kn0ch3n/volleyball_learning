{
 "metadata": {
  "name": "",
  "signature": "sha256:21ea8a0421ec1f62bfa16f7aca60695992afa6c9165dfcad3cff414501d47e57"
 },
 "nbformat": 3,
 "nbformat_minor": 0,
 "worksheets": [
  {
   "cells": [
    {
     "cell_type": "markdown",
     "metadata": {},
     "source": [
      "# Try 2\n",
      "Switching to eventlet for concurrency support. Loading all the data! Don't run this too often though, looks like they like to block people..."
     ]
    },
    {
     "cell_type": "code",
     "collapsed": false,
     "input": [
      "import pandas\n",
      "import eventlet\n",
      "from eventlet.green import urllib2\n",
      "\n",
      "def fetch(url):\n",
      "    return urllib2.urlopen(url).read()\n",
      "\n",
      "def getTable(url, maxtries=10):\n",
      "    print(maxtr)\n",
      "    tries = 0\n",
      "    while(tries < maxtries):\n",
      "        print(\"getting \" + url + \"...\")\n",
      "        try:\n",
      "            res = urllib2.urlopen(url)\n",
      "            soup = bs4.BeautifulSoup(res.read())\n",
      "            dates = [str(td.string).translate(None, ' ')[0:10] for td in soup.select('td.dateGame')]\n",
      "            # TODO: filter teams, e.g. only male senior teams (countries_male_senior.txt)\n",
      "            teams = [a.contents[1].string for a in soup.select('a.clubName')]\n",
      "            teams1 = teams[0::2]\n",
      "            teams2 = teams[1::2]\n",
      "            scores = map(lambda td: str.split(str(td.string), \":\"),\n",
      "                         soup.select('td.gameSmallResult'))\n",
      "            scores1 = [x[0] for x in scores]\n",
      "            scores2 = [x[1] for x in scores]\n",
      "            d = {\"date\": dates, \"score1\": scores1, \"score2\": scores2, \"team1\": teams1, \"team2\": teams2}\n",
      "            data = pandas.DataFrame(d)\n",
      "            if(len(data) == 0):\n",
      "                # an empty data means something went wrong with the request\n",
      "                raise EmptyError('DataFrame is empty')\n",
      "            else:\n",
      "                # looking good =)\n",
      "                return(data)\n",
      "        except urllib2.HTTPError:\n",
      "            print(\"something\")\n",
      "            #print(e.fp.read())\n",
      "        except:\n",
      "            print(\"something too\")\n",
      "            print(e)\n",
      "            # some error happens sometimes (ValueError, BadStatusLine), so if that happens just retry\n",
      "            tries += 1\n",
      "            print(\"exception at \" + url + \", retrying... (tries=\" + str(tries) + \")\")\n",
      "            continue\n",
      "    return(None)\n",
      "\n",
      "def getTableMechanize(br, url, maxtries=10):\n",
      "    tries = 0\n",
      "    while(tries < maxtries):\n",
      "        print(\"getting \" + url + \"...\")\n",
      "        try:\n",
      "            res = br.open(url)\n",
      "            print(res)\n",
      "        except:\n",
      "            print(\"except\")\n",
      "        tries += 1\n",
      "    else:\n",
      "        return None"
     ],
     "language": "python",
     "metadata": {},
     "outputs": [],
     "prompt_number": 1
    },
    {
     "cell_type": "code",
     "collapsed": false,
     "input": [
      "import re\n",
      "import mechanize\n",
      "from functools import partial\n",
      "from itertools import imap\n",
      "\n",
      "br = mechanize.Browser()\n",
      "\n",
      "maxpos = 1414 # maximum position argument\n",
      "\n",
      "urls = [\"http://www.worldofvolley.com/statistics/game-statistics.html?position=\" + str(pos) for pos in range(maxpos)]\n",
      "\n",
      "tables = {\"all\": pandas.DataFrame(columns=[\"date\", \"score1\", \"score2\", \"team1\", \"team2\"])}\n",
      "\n",
      "curriedGet = partial(getTableMechanize, br)\n",
      "for table in imap(curriedGet, urls):\n",
      "    tables[\"all\"] = tables[\"all\"].append(table)\n",
      "print(tables[\"all\"])"
     ],
     "language": "python",
     "metadata": {},
     "outputs": [
      {
       "output_type": "stream",
       "stream": "stdout",
       "text": [
        "getting http://www.worldofvolley.com/statistics/game-statistics.html?position=0...\n",
        "<response_seek_wrapper at 0x2fedf38 whose wrapped object = <closeable_response at 0x2fedc68 whose fp = <socket._fileobject object at 0x2f9d1d0>>>"
       ]
      },
      {
       "output_type": "stream",
       "stream": "stdout",
       "text": [
        "\n",
        "getting http://www.worldofvolley.com/statistics/game-statistics.html?position=0...\n",
        "<response_seek_wrapper at 0x2fedd88 whose wrapped object = <closeable_response at 0x2ff2710 whose fp = <socket._fileobject object at 0x2e27cd0>>>"
       ]
      },
      {
       "output_type": "stream",
       "stream": "stdout",
       "text": [
        "\n",
        "getting http://www.worldofvolley.com/statistics/game-statistics.html?position=0...\n",
        "<response_seek_wrapper at 0x2fedea8 whose wrapped object = <closeable_response at 0x2ff2e18 whose fp = <socket._fileobject object at 0x2fa3350>>>"
       ]
      },
      {
       "output_type": "stream",
       "stream": "stdout",
       "text": [
        "\n",
        "getting http://www.worldofvolley.com/statistics/game-statistics.html?position=0...\n",
        "<response_seek_wrapper at 0x2fede60 whose wrapped object = <closeable_response at 0x2ff4560 whose fp = <socket._fileobject object at 0x2fa3050>>>"
       ]
      },
      {
       "output_type": "stream",
       "stream": "stdout",
       "text": [
        "\n",
        "getting http://www.worldofvolley.com/statistics/game-statistics.html?position=0...\n",
        "<response_seek_wrapper at 0x2ff2950 whose wrapped object = <closeable_response at 0x2ff4c68 whose fp = <socket._fileobject object at 0x2fa3250>>>"
       ]
      },
      {
       "output_type": "stream",
       "stream": "stdout",
       "text": [
        "\n",
        "getting http://www.worldofvolley.com/statistics/game-statistics.html?position=0...\n",
        "<response_seek_wrapper at 0x2ff2f38 whose wrapped object = <closeable_response at 0x2ff63b0 whose fp = <socket._fileobject object at 0x2fa33d0>>>"
       ]
      },
      {
       "output_type": "stream",
       "stream": "stdout",
       "text": [
        "\n",
        "getting http://www.worldofvolley.com/statistics/game-statistics.html?position=0...\n",
        "<response_seek_wrapper at 0x2ff47a0 whose wrapped object = <closeable_response at 0x2ff6170 whose fp = <socket._fileobject object at 0x2fa3450>>>"
       ]
      },
      {
       "output_type": "stream",
       "stream": "stdout",
       "text": [
        "\n",
        "getting http://www.worldofvolley.com/statistics/game-statistics.html?position=0...\n",
        "<response_seek_wrapper at 0x2ff4ea8 whose wrapped object = <closeable_response at 0x2ff6878 whose fp = <socket._fileobject object at 0x2fa34d0>>>"
       ]
      },
      {
       "output_type": "stream",
       "stream": "stdout",
       "text": [
        "\n",
        "getting http://www.worldofvolley.com/statistics/game-statistics.html?position=0...\n",
        "<response_seek_wrapper at 0x2ff65f0 whose wrapped object = <closeable_response at 0x2ff6dd0 whose fp = <socket._fileobject object at 0x2fa3550>>>"
       ]
      },
      {
       "output_type": "stream",
       "stream": "stdout",
       "text": [
        "\n",
        "getting http://www.worldofvolley.com/statistics/game-statistics.html?position=0...\n",
        "<response_seek_wrapper at 0x2ff6b48 whose wrapped object = <closeable_response at 0x2ff4440 whose fp = <socket._fileobject object at 0x2fa35d0>>>"
       ]
      },
      {
       "output_type": "stream",
       "stream": "stdout",
       "text": [
        "\n",
        "getting http://www.worldofvolley.com/statistics/game-statistics.html?position=1...\n",
        "<response_seek_wrapper at 0x2ff6f38 whose wrapped object = <closeable_response at 0x2ff95f0 whose fp = <socket._fileobject object at 0x2fa3650>>>"
       ]
      },
      {
       "output_type": "stream",
       "stream": "stdout",
       "text": [
        "\n",
        "getting http://www.worldofvolley.com/statistics/game-statistics.html?position=1...\n",
        "<response_seek_wrapper at 0x2ff6cb0 whose wrapped object = <closeable_response at 0x2ff9098 whose fp = <socket._fileobject object at 0x2fa36d0>>>"
       ]
      },
      {
       "output_type": "stream",
       "stream": "stdout",
       "text": [
        "\n",
        "getting http://www.worldofvolley.com/statistics/game-statistics.html?position=1...\n",
        "<response_seek_wrapper at 0x2f9cdd0 whose wrapped object = <closeable_response at 0x2ff9a28 whose fp = <socket._fileobject object at 0x2fa3750>>>"
       ]
      },
      {
       "output_type": "stream",
       "stream": "stdout",
       "text": [
        "\n",
        "getting http://www.worldofvolley.com/statistics/game-statistics.html?position=1...\n",
        "<response_seek_wrapper at 0x2ff9710 whose wrapped object = <closeable_response at 0x2ff9e18 whose fp = <socket._fileobject object at 0x2fa37d0>>>"
       ]
      },
      {
       "output_type": "stream",
       "stream": "stdout",
       "text": [
        "\n",
        "getting http://www.worldofvolley.com/statistics/game-statistics.html?position=1...\n",
        "<response_seek_wrapper at 0x2ff9b90 whose wrapped object = <closeable_response at 0x2ffe248 whose fp = <socket._fileobject object at 0x2fa3850>>>"
       ]
      },
      {
       "output_type": "stream",
       "stream": "stdout",
       "text": [
        "\n",
        "getting http://www.worldofvolley.com/statistics/game-statistics.html?position=1...\n",
        "except"
       ]
      },
      {
       "output_type": "stream",
       "stream": "stdout",
       "text": [
        "\n",
        "getting http://www.worldofvolley.com/statistics/game-statistics.html?position=1...\n",
        "<response_seek_wrapper at 0x2ff9f80 whose wrapped object = <closeable_response at 0x2fff200 whose fp = <socket._fileobject object at 0x2fa38d0>>>"
       ]
      },
      {
       "output_type": "stream",
       "stream": "stdout",
       "text": [
        "\n",
        "getting http://www.worldofvolley.com/statistics/game-statistics.html?position=1...\n",
        "<response_seek_wrapper at 0x2ff9cf8 whose wrapped object = <closeable_response at 0x2fff320 whose fp = <socket._fileobject object at 0x2fa3950>>>"
       ]
      },
      {
       "output_type": "stream",
       "stream": "stdout",
       "text": [
        "\n",
        "getting http://www.worldofvolley.com/statistics/game-statistics.html?position=1...\n",
        "<response_seek_wrapper at 0x2ffe7a0 whose wrapped object = <closeable_response at 0x2fff6c8 whose fp = <socket._fileobject object at 0x2fa39d0>>>"
       ]
      },
      {
       "output_type": "stream",
       "stream": "stdout",
       "text": [
        "\n",
        "getting http://www.worldofvolley.com/statistics/game-statistics.html?position=1...\n",
        "<response_seek_wrapper at 0x2fff440 whose wrapped object = <closeable_response at 0x2fffab8 whose fp = <socket._fileobject object at 0x2fa3a50>>>"
       ]
      },
      {
       "output_type": "stream",
       "stream": "stdout",
       "text": [
        "\n",
        "getting http://www.worldofvolley.com/statistics/game-statistics.html?position=2...\n",
        "<response_seek_wrapper at 0x2fff830 whose wrapped object = <closeable_response at 0x2ffff38 whose fp = <socket._fileobject object at 0x2fa3ad0>>>"
       ]
      },
      {
       "output_type": "stream",
       "stream": "stdout",
       "text": [
        "\n",
        "getting http://www.worldofvolley.com/statistics/game-statistics.html?position=2...\n",
        "<response_seek_wrapper at 0x2fffc20 whose wrapped object = <closeable_response at 0x2ffe128 whose fp = <socket._fileobject object at 0x2fa3b50>>>"
       ]
      },
      {
       "output_type": "stream",
       "stream": "stdout",
       "text": [
        "\n",
        "getting http://www.worldofvolley.com/statistics/game-statistics.html?position=2...\n",
        "<response_seek_wrapper at 0x2fff9e0 whose wrapped object = <closeable_response at 0x30051b8 whose fp = <socket._fileobject object at 0x2fa3bd0>>>"
       ]
      },
      {
       "output_type": "stream",
       "stream": "stdout",
       "text": [
        "\n",
        "getting http://www.worldofvolley.com/statistics/game-statistics.html?position=2...\n",
        "<response_seek_wrapper at 0x2fffcf8 whose wrapped object = <closeable_response at 0x3005488 whose fp = <socket._fileobject object at 0x2fa3c50>>>"
       ]
      },
      {
       "output_type": "stream",
       "stream": "stdout",
       "text": [
        "\n",
        "getting http://www.worldofvolley.com/statistics/game-statistics.html?position=2...\n",
        "<response_seek_wrapper at 0x2ffe5f0 whose wrapped object = <closeable_response at 0x3005878 whose fp = <socket._fileobject object at 0x2fa3cd0>>>"
       ]
      },
      {
       "output_type": "stream",
       "stream": "stdout",
       "text": [
        "\n",
        "getting http://www.worldofvolley.com/statistics/game-statistics.html?position=2...\n",
        "<response_seek_wrapper at 0x30055f0 whose wrapped object = <closeable_response at 0x3005c68 whose fp = <socket._fileobject object at 0x2fa3d50>>>"
       ]
      },
      {
       "output_type": "stream",
       "stream": "stdout",
       "text": [
        "\n",
        "getting http://www.worldofvolley.com/statistics/game-statistics.html?position=2...\n",
        "<response_seek_wrapper at 0x30059e0 whose wrapped object = <closeable_response at 0x30061b8 whose fp = <socket._fileobject object at 0x2fa3dd0>>>"
       ]
      },
      {
       "output_type": "stream",
       "stream": "stdout",
       "text": [
        "\n",
        "getting http://www.worldofvolley.com/statistics/game-statistics.html?position=2...\n",
        "<response_seek_wrapper at 0x3005dd0 whose wrapped object = <closeable_response at 0x3006488 whose fp = <socket._fileobject object at 0x2fa3e50>>>"
       ]
      },
      {
       "output_type": "stream",
       "stream": "stdout",
       "text": [
        "\n",
        "getting http://www.worldofvolley.com/statistics/game-statistics.html?position=2...\n",
        "<response_seek_wrapper at 0x3005b48 whose wrapped object = <closeable_response at 0x3006878 whose fp = <socket._fileobject object at 0x2fa3ed0>>>"
       ]
      },
      {
       "output_type": "stream",
       "stream": "stdout",
       "text": [
        "\n",
        "getting http://www.worldofvolley.com/statistics/game-statistics.html?position=2...\n",
        "<response_seek_wrapper at 0x30065f0 whose wrapped object = <closeable_response at 0x3006c68 whose fp = <socket._fileobject object at 0x2fa3f50>>>"
       ]
      },
      {
       "output_type": "stream",
       "stream": "stdout",
       "text": [
        "\n",
        "getting http://www.worldofvolley.com/statistics/game-statistics.html?position=3...\n",
        "<response_seek_wrapper at 0x30069e0 whose wrapped object = <closeable_response at 0x3006e60 whose fp = <socket._fileobject object at 0x300a050>>>"
       ]
      },
      {
       "output_type": "stream",
       "stream": "stdout",
       "text": [
        "\n",
        "getting http://www.worldofvolley.com/statistics/game-statistics.html?position=3...\n",
        "<response_seek_wrapper at 0x3006dd0 whose wrapped object = <closeable_response at 0x3009518 whose fp = <socket._fileobject object at 0x300a0d0>>>"
       ]
      },
      {
       "output_type": "stream",
       "stream": "stdout",
       "text": [
        "\n",
        "getting http://www.worldofvolley.com/statistics/game-statistics.html?position=3...\n",
        "<response_seek_wrapper at 0x3006b48 whose wrapped object = <closeable_response at 0x2ff97a0 whose fp = <socket._fileobject object at 0x300a150>>>"
       ]
      },
      {
       "output_type": "stream",
       "stream": "stdout",
       "text": [
        "\n",
        "getting http://www.worldofvolley.com/statistics/game-statistics.html?position=3...\n",
        "<response_seek_wrapper at 0x3005f80 whose wrapped object = <closeable_response at 0x3009710 whose fp = <socket._fileobject object at 0x300a1d0>>>"
       ]
      },
      {
       "output_type": "stream",
       "stream": "stdout",
       "text": [
        "\n",
        "getting http://www.worldofvolley.com/statistics/game-statistics.html?position=3...\n",
        "<response_seek_wrapper at 0x3009128 whose wrapped object = <closeable_response at 0x3009b00 whose fp = <socket._fileobject object at 0x300a250>>>"
       ]
      },
      {
       "output_type": "stream",
       "stream": "stdout",
       "text": [
        "\n",
        "getting http://www.worldofvolley.com/statistics/game-statistics.html?position=3...\n",
        "<response_seek_wrapper at 0x3009878 whose wrapped object = <closeable_response at 0x3009e60 whose fp = <socket._fileobject object at 0x300a2d0>>>"
       ]
      },
      {
       "output_type": "stream",
       "stream": "stdout",
       "text": [
        "\n",
        "getting http://www.worldofvolley.com/statistics/game-statistics.html?position=3...\n",
        "<response_seek_wrapper at 0x3009c68 whose wrapped object = <closeable_response at 0x3010320 whose fp = <socket._fileobject object at 0x300a350>>>"
       ]
      },
      {
       "output_type": "stream",
       "stream": "stdout",
       "text": [
        "\n",
        "getting http://www.worldofvolley.com/statistics/game-statistics.html?position=3...\n",
        "<response_seek_wrapper at 0x30099e0 whose wrapped object = <closeable_response at 0x3010710 whose fp = <socket._fileobject object at 0x300a3d0>>>"
       ]
      },
      {
       "output_type": "stream",
       "stream": "stdout",
       "text": [
        "\n",
        "getting http://www.worldofvolley.com/statistics/game-statistics.html?position=3...\n",
        "<response_seek_wrapper at 0x3009d88 whose wrapped object = <closeable_response at 0x3010b00 whose fp = <socket._fileobject object at 0x300a450>>>"
       ]
      },
      {
       "output_type": "stream",
       "stream": "stdout",
       "text": [
        "\n",
        "getting http://www.worldofvolley.com/statistics/game-statistics.html?position=3...\n",
        "<response_seek_wrapper at 0x3010878 whose wrapped object = <closeable_response at 0x3010e60 whose fp = <socket._fileobject object at 0x300a4d0>>>"
       ]
      },
      {
       "output_type": "stream",
       "stream": "stdout",
       "text": [
        "\n",
        "getting http://www.worldofvolley.com/statistics/game-statistics.html?position=4...\n",
        "<response_seek_wrapper at 0x3010c68 whose wrapped object = <closeable_response at 0x3013320 whose fp = <socket._fileobject object at 0x300a550>>>"
       ]
      },
      {
       "output_type": "stream",
       "stream": "stdout",
       "text": [
        "\n",
        "getting http://www.worldofvolley.com/statistics/game-statistics.html?position=4...\n",
        "<response_seek_wrapper at 0x30109e0 whose wrapped object = <closeable_response at 0x30137a0 whose fp = <socket._fileobject object at 0x300a5d0>>>"
       ]
      },
      {
       "output_type": "stream",
       "stream": "stdout",
       "text": [
        "\n",
        "getting http://www.worldofvolley.com/statistics/game-statistics.html?position=4...\n",
        "<response_seek_wrapper at 0x3010d88 whose wrapped object = <closeable_response at 0x3013bd8 whose fp = <socket._fileobject object at 0x300a650>>>"
       ]
      },
      {
       "output_type": "stream",
       "stream": "stdout",
       "text": [
        "\n",
        "getting http://www.worldofvolley.com/statistics/game-statistics.html?position=4...\n",
        "<response_seek_wrapper at 0x30138c0 whose wrapped object = <closeable_response at 0x3013e60 whose fp = <socket._fileobject object at 0x300a6d0>>>"
       ]
      },
      {
       "output_type": "stream",
       "stream": "stdout",
       "text": [
        "\n",
        "getting http://www.worldofvolley.com/statistics/game-statistics.html?position=4...\n",
        "<response_seek_wrapper at 0x3013d40 whose wrapped object = <closeable_response at 0x30173f8 whose fp = <socket._fileobject object at 0x300a750>>>"
       ]
      },
      {
       "output_type": "stream",
       "stream": "stdout",
       "text": [
        "\n",
        "getting http://www.worldofvolley.com/statistics/game-statistics.html?position=4...\n",
        "<response_seek_wrapper at 0x3013ab8 whose wrapped object = <closeable_response at 0x30177e8 whose fp = <socket._fileobject object at 0x300a7d0>>>"
       ]
      },
      {
       "output_type": "stream",
       "stream": "stdout",
       "text": [
        "\n",
        "getting http://www.worldofvolley.com/statistics/game-statistics.html?position=4...\n",
        "<response_seek_wrapper at 0x3017560 whose wrapped object = <closeable_response at 0x3017bd8 whose fp = <socket._fileobject object at 0x300a850>>>"
       ]
      },
      {
       "output_type": "stream",
       "stream": "stdout",
       "text": [
        "\n",
        "getting http://www.worldofvolley.com/statistics/game-statistics.html?position=4...\n",
        "<response_seek_wrapper at 0x3017950 whose wrapped object = <closeable_response at 0x3017e60 whose fp = <socket._fileobject object at 0x300a8d0>>>"
       ]
      },
      {
       "output_type": "stream",
       "stream": "stdout",
       "text": [
        "\n",
        "getting http://www.worldofvolley.com/statistics/game-statistics.html?position=4...\n",
        "<response_seek_wrapper at 0x3017d40 whose wrapped object = <closeable_response at 0x301a3f8 whose fp = <socket._fileobject object at 0x300a950>>>"
       ]
      },
      {
       "output_type": "stream",
       "stream": "stdout",
       "text": [
        "\n",
        "getting http://www.worldofvolley.com/statistics/game-statistics.html?position=4...\n",
        "<response_seek_wrapper at 0x3017ab8 whose wrapped object = <closeable_response at 0x301a7e8 whose fp = <socket._fileobject object at 0x300a9d0>>>"
       ]
      },
      {
       "output_type": "stream",
       "stream": "stdout",
       "text": [
        "\n",
        "getting http://www.worldofvolley.com/statistics/game-statistics.html?position=5...\n",
        "<response_seek_wrapper at 0x301a560 whose wrapped object = <closeable_response at 0x301abd8 whose fp = <socket._fileobject object at 0x300aa50>>>"
       ]
      },
      {
       "output_type": "stream",
       "stream": "stdout",
       "text": [
        "\n",
        "getting http://www.worldofvolley.com/statistics/game-statistics.html?position=5...\n",
        "<response_seek_wrapper at 0x301a950 whose wrapped object = <closeable_response at 0x301e1b8 whose fp = <socket._fileobject object at 0x300aad0>>>"
       ]
      },
      {
       "output_type": "stream",
       "stream": "stdout",
       "text": [
        "\n",
        "getting http://www.worldofvolley.com/statistics/game-statistics.html?position=5...\n",
        "<response_seek_wrapper at 0x301ad40 whose wrapped object = <closeable_response at 0x301e4d0 whose fp = <socket._fileobject object at 0x300ab50>>>"
       ]
      },
      {
       "output_type": "stream",
       "stream": "stdout",
       "text": [
        "\n",
        "getting http://www.worldofvolley.com/statistics/game-statistics.html?position=5...\n",
        "<response_seek_wrapper at 0x301ab00 whose wrapped object = <closeable_response at 0x301e8c0 whose fp = <socket._fileobject object at 0x300abd0>>>"
       ]
      },
      {
       "output_type": "stream",
       "stream": "stdout",
       "text": [
        "\n",
        "getting http://www.worldofvolley.com/statistics/game-statistics.html?position=5...\n",
        "<response_seek_wrapper at 0x301a2d8 whose wrapped object = <closeable_response at 0x301ed40 whose fp = <socket._fileobject object at 0x300ac50>>>"
       ]
      },
      {
       "output_type": "stream",
       "stream": "stdout",
       "text": [
        "\n",
        "getting http://www.worldofvolley.com/statistics/game-statistics.html?position=5...\n",
        "<response_seek_wrapper at 0x301af80 whose wrapped object = <closeable_response at 0x30095f0 whose fp = <socket._fileobject object at 0x300acd0>>>"
       ]
      },
      {
       "output_type": "stream",
       "stream": "stdout",
       "text": [
        "\n",
        "getting http://www.worldofvolley.com/statistics/game-statistics.html?position=5...\n",
        "<response_seek_wrapper at 0x301ee18 whose wrapped object = <closeable_response at 0x301e0e0 whose fp = <socket._fileobject object at 0x300ad50>>>"
       ]
      },
      {
       "output_type": "stream",
       "stream": "stdout",
       "text": [
        "\n",
        "getting http://www.worldofvolley.com/statistics/game-statistics.html?position=5...\n",
        "<response_seek_wrapper at 0x301eb00 whose wrapped object = <closeable_response at 0x3022200 whose fp = <socket._fileobject object at 0x300add0>>>"
       ]
      },
      {
       "output_type": "stream",
       "stream": "stdout",
       "text": [
        "\n",
        "getting http://www.worldofvolley.com/statistics/game-statistics.html?position=5...\n",
        "<response_seek_wrapper at 0x301e488 whose wrapped object = <closeable_response at 0x30225f0 whose fp = <socket._fileobject object at 0x300ae50>>>"
       ]
      },
      {
       "output_type": "stream",
       "stream": "stdout",
       "text": [
        "\n",
        "getting http://www.worldofvolley.com/statistics/game-statistics.html?position=5...\n",
        "<response_seek_wrapper at 0x301ea28 whose wrapped object = <closeable_response at 0x30229e0 whose fp = <socket._fileobject object at 0x300aed0>>>"
       ]
      },
      {
       "output_type": "stream",
       "stream": "stdout",
       "text": [
        "\n",
        "getting http://www.worldofvolley.com/statistics/game-statistics.html?position=6...\n",
        "<response_seek_wrapper at 0x3022758 whose wrapped object = <closeable_response at 0x3022dd0 whose fp = <socket._fileobject object at 0x300af50>>>"
       ]
      },
      {
       "output_type": "stream",
       "stream": "stdout",
       "text": [
        "\n",
        "getting http://www.worldofvolley.com/statistics/game-statistics.html?position=6...\n",
        "except"
       ]
      },
      {
       "output_type": "stream",
       "stream": "stdout",
       "text": [
        "\n",
        "getting http://www.worldofvolley.com/statistics/game-statistics.html?position=6...\n",
        "<response_seek_wrapper at 0x3022b48 whose wrapped object = <closeable_response at 0x3025560 whose fp = <socket._fileobject object at 0x30270d0>>>"
       ]
      },
      {
       "output_type": "stream",
       "stream": "stdout",
       "text": [
        "\n",
        "getting http://www.worldofvolley.com/statistics/game-statistics.html?position=6...\n",
        "<response_seek_wrapper at 0x3022f38 whose wrapped object = <closeable_response at 0x3025cf8 whose fp = <socket._fileobject object at 0x3027050>>>"
       ]
      },
      {
       "output_type": "stream",
       "stream": "stdout",
       "text": [
        "\n",
        "getting http://www.worldofvolley.com/statistics/game-statistics.html?position=6...\n",
        "<response_seek_wrapper at 0x3022cf8 whose wrapped object = <closeable_response at 0x3028200 whose fp = <socket._fileobject object at 0x3027150>>>"
       ]
      },
      {
       "output_type": "stream",
       "stream": "stdout",
       "text": [
        "\n",
        "getting http://www.worldofvolley.com/statistics/game-statistics.html?position=6...\n",
        "<response_seek_wrapper at 0x3025f38 whose wrapped object = <closeable_response at 0x30285f0 whose fp = <socket._fileobject object at 0x30271d0>>>"
       ]
      },
      {
       "output_type": "stream",
       "stream": "stdout",
       "text": [
        "\n",
        "getting http://www.worldofvolley.com/statistics/game-statistics.html?position=6...\n",
        "<response_seek_wrapper at 0x3025bd8 whose wrapped object = <closeable_response at 0x30289e0 whose fp = <socket._fileobject object at 0x3027250>>>"
       ]
      },
      {
       "output_type": "stream",
       "stream": "stdout",
       "text": [
        "\n",
        "getting http://www.worldofvolley.com/statistics/game-statistics.html?position=6...\n",
        "<response_seek_wrapper at 0x3028758 whose wrapped object = <closeable_response at 0x3028dd0 whose fp = <socket._fileobject object at 0x30272d0>>>"
       ]
      },
      {
       "output_type": "stream",
       "stream": "stdout",
       "text": [
        "\n",
        "getting http://www.worldofvolley.com/statistics/game-statistics.html?position=6...\n",
        "<response_seek_wrapper at 0x3028b48 whose wrapped object = <closeable_response at 0x302b200 whose fp = <socket._fileobject object at 0x3027350>>>"
       ]
      },
      {
       "output_type": "stream",
       "stream": "stdout",
       "text": [
        "\n",
        "getting http://www.worldofvolley.com/statistics/game-statistics.html?position=6...\n",
        "<response_seek_wrapper at 0x3028f38 whose wrapped object = <closeable_response at 0x302b5f0 whose fp = <socket._fileobject object at 0x30273d0>>>"
       ]
      },
      {
       "output_type": "stream",
       "stream": "stdout",
       "text": [
        "\n",
        "getting http://www.worldofvolley.com/statistics/game-statistics.html?position=7...\n",
        "<response_seek_wrapper at 0x3028cb0 whose wrapped object = <closeable_response at 0x3028518 whose fp = <socket._fileobject object at 0x3027450>>>"
       ]
      },
      {
       "output_type": "stream",
       "stream": "stdout",
       "text": [
        "\n",
        "getting http://www.worldofvolley.com/statistics/game-statistics.html?position=7...\n",
        "<response_seek_wrapper at 0x302b758 whose wrapped object = <closeable_response at 0x3025758 whose fp = <socket._fileobject object at 0x30274d0>>>"
       ]
      },
      {
       "output_type": "stream",
       "stream": "stdout",
       "text": [
        "\n",
        "getting http://www.worldofvolley.com/statistics/game-statistics.html?position=7...\n",
        "<response_seek_wrapper at 0x302bb48 whose wrapped object = <closeable_response at 0x302bbd8 whose fp = <socket._fileobject object at 0x3027550>>>"
       ]
      },
      {
       "output_type": "stream",
       "stream": "stdout",
       "text": [
        "\n",
        "getting http://www.worldofvolley.com/statistics/game-statistics.html?position=7...\n",
        "<response_seek_wrapper at 0x302b8c0 whose wrapped object = <closeable_response at 0x302be60 whose fp = <socket._fileobject object at 0x30275d0>>>"
       ]
      },
      {
       "output_type": "stream",
       "stream": "stdout",
       "text": [
        "\n",
        "getting http://www.worldofvolley.com/statistics/game-statistics.html?position=7...\n",
        "<response_seek_wrapper at 0x3025320 whose wrapped object = <closeable_response at 0x315f3f8 whose fp = <socket._fileobject object at 0x3027650>>>"
       ]
      },
      {
       "output_type": "stream",
       "stream": "stdout",
       "text": [
        "\n",
        "getting http://www.worldofvolley.com/statistics/game-statistics.html?position=7...\n",
        "<response_seek_wrapper at 0x302bb00 whose wrapped object = <closeable_response at 0x315f7e8 whose fp = <socket._fileobject object at 0x30276d0>>>"
       ]
      },
      {
       "output_type": "stream",
       "stream": "stdout",
       "text": [
        "\n",
        "getting http://www.worldofvolley.com/statistics/game-statistics.html?position=7...\n",
        "<response_seek_wrapper at 0x315f560 whose wrapped object = <closeable_response at 0x315fbd8 whose fp = <socket._fileobject object at 0x3027750>>>"
       ]
      },
      {
       "output_type": "stream",
       "stream": "stdout",
       "text": [
        "\n",
        "getting http://www.worldofvolley.com/statistics/game-statistics.html?position=7...\n",
        "<response_seek_wrapper at 0x315f950 whose wrapped object = <closeable_response at 0x315fe60 whose fp = <socket._fileobject object at 0x30277d0>>>"
       ]
      },
      {
       "output_type": "stream",
       "stream": "stdout",
       "text": [
        "\n",
        "getting http://www.worldofvolley.com/statistics/game-statistics.html?position=7...\n",
        "<response_seek_wrapper at 0x315fd40 whose wrapped object = <closeable_response at 0x31643f8 whose fp = <socket._fileobject object at 0x3027850>>>"
       ]
      },
      {
       "output_type": "stream",
       "stream": "stdout",
       "text": [
        "\n",
        "getting http://www.worldofvolley.com/statistics/game-statistics.html?position=7...\n",
        "<response_seek_wrapper at 0x315fab8 whose wrapped object = <closeable_response at 0x31647e8 whose fp = <socket._fileobject object at 0x30278d0>>>"
       ]
      },
      {
       "output_type": "stream",
       "stream": "stdout",
       "text": [
        "\n",
        "getting http://www.worldofvolley.com/statistics/game-statistics.html?position=8...\n",
        "<response_seek_wrapper at 0x315f2d8 whose wrapped object = <closeable_response at 0x3006d88 whose fp = <socket._fileobject object at 0x3027950>>>"
       ]
      },
      {
       "output_type": "stream",
       "stream": "stdout",
       "text": [
        "\n",
        "getting http://www.worldofvolley.com/statistics/game-statistics.html?position=8...\n",
        "<response_seek_wrapper at 0x302bf80 whose wrapped object = <closeable_response at 0x3164998 whose fp = <socket._fileobject object at 0x30279d0>>>"
       ]
      },
      {
       "output_type": "stream",
       "stream": "stdout",
       "text": [
        "\n",
        "getting http://www.worldofvolley.com/statistics/game-statistics.html?position=8...\n",
        "<response_seek_wrapper at 0x3164560 whose wrapped object = <closeable_response at 0x3164dd0 whose fp = <socket._fileobject object at 0x3027a50>>>"
       ]
      },
      {
       "output_type": "stream",
       "stream": "stdout",
       "text": [
        "\n",
        "getting http://www.worldofvolley.com/statistics/game-statistics.html?position=8...\n",
        "<response_seek_wrapper at 0x30224d0 whose wrapped object = <closeable_response at 0x3167200 whose fp = <socket._fileobject object at 0x3027ad0>>>"
       ]
      },
      {
       "output_type": "stream",
       "stream": "stdout",
       "text": [
        "\n",
        "getting http://www.worldofvolley.com/statistics/game-statistics.html?position=8...\n",
        "<response_seek_wrapper at 0x3164f38 whose wrapped object = <closeable_response at 0x31675f0 whose fp = <socket._fileobject object at 0x3027b50>>>"
       ]
      },
      {
       "output_type": "stream",
       "stream": "stdout",
       "text": [
        "\n",
        "getting http://www.worldofvolley.com/statistics/game-statistics.html?position=8...\n",
        "<response_seek_wrapper at 0x3164cb0 whose wrapped object = <closeable_response at 0x31679e0 whose fp = <socket._fileobject object at 0x3027bd0>>>"
       ]
      },
      {
       "output_type": "stream",
       "stream": "stdout",
       "text": [
        "\n",
        "getting http://www.worldofvolley.com/statistics/game-statistics.html?position=8...\n",
        "<response_seek_wrapper at 0x3167758 whose wrapped object = <closeable_response at 0x3167dd0 whose fp = <socket._fileobject object at 0x3027c50>>>"
       ]
      },
      {
       "output_type": "stream",
       "stream": "stdout",
       "text": [
        "\n",
        "getting http://www.worldofvolley.com/statistics/game-statistics.html?position=8...\n",
        "<response_seek_wrapper at 0x3167b48 whose wrapped object = <closeable_response at 0x316a200 whose fp = <socket._fileobject object at 0x3027cd0>>>"
       ]
      },
      {
       "output_type": "stream",
       "stream": "stdout",
       "text": [
        "\n",
        "getting http://www.worldofvolley.com/statistics/game-statistics.html?position=8...\n",
        "<response_seek_wrapper at 0x3167f38 whose wrapped object = <closeable_response at 0x316a5f0 whose fp = <socket._fileobject object at 0x3027d50>>>"
       ]
      },
      {
       "output_type": "stream",
       "stream": "stdout",
       "text": [
        "\n",
        "getting http://www.worldofvolley.com/statistics/game-statistics.html?position=8...\n",
        "<response_seek_wrapper at 0x3167cb0 whose wrapped object = <closeable_response at 0x316a9e0 whose fp = <socket._fileobject object at 0x3027dd0>>>"
       ]
      },
      {
       "output_type": "stream",
       "stream": "stdout",
       "text": [
        "\n",
        "getting http://www.worldofvolley.com/statistics/game-statistics.html?position=9...\n",
        "<response_seek_wrapper at 0x316a758 whose wrapped object = <closeable_response at 0x316add0 whose fp = <socket._fileobject object at 0x3027e50>>>"
       ]
      },
      {
       "output_type": "stream",
       "stream": "stdout",
       "text": [
        "\n",
        "getting http://www.worldofvolley.com/statistics/game-statistics.html?position=9...\n",
        "<response_seek_wrapper at 0x316ab48 whose wrapped object = <closeable_response at 0x316d290 whose fp = <socket._fileobject object at 0x3027ed0>>>"
       ]
      },
      {
       "output_type": "stream",
       "stream": "stdout",
       "text": [
        "\n",
        "getting http://www.worldofvolley.com/statistics/game-statistics.html?position=9...\n",
        "<response_seek_wrapper at 0x316af38 whose wrapped object = <closeable_response at 0x316d6c8 whose fp = <socket._fileobject object at 0x3027f50>>>"
       ]
      },
      {
       "output_type": "stream",
       "stream": "stdout",
       "text": [
        "\n",
        "getting http://www.worldofvolley.com/statistics/game-statistics.html?position=9...\n",
        "<response_seek_wrapper at 0x316acf8 whose wrapped object = <closeable_response at 0x316dab8 whose fp = <socket._fileobject object at 0x316f050>>>"
       ]
      },
      {
       "output_type": "stream",
       "stream": "stdout",
       "text": [
        "\n",
        "getting http://www.worldofvolley.com/statistics/game-statistics.html?position=9...\n",
        "<response_seek_wrapper at 0x316d830 whose wrapped object = <closeable_response at 0x316de60 whose fp = <socket._fileobject object at 0x316f0d0>>>"
       ]
      },
      {
       "output_type": "stream",
       "stream": "stdout",
       "text": [
        "\n",
        "getting http://www.worldofvolley.com/statistics/game-statistics.html?position=9...\n",
        "<response_seek_wrapper at 0x316dc20 whose wrapped object = <closeable_response at 0x31722d8 whose fp = <socket._fileobject object at 0x316f150>>>"
       ]
      },
      {
       "output_type": "stream",
       "stream": "stdout",
       "text": [
        "\n",
        "getting http://www.worldofvolley.com/statistics/game-statistics.html?position=9...\n",
        "<response_seek_wrapper at 0x316d9e0 whose wrapped object = <closeable_response at 0x31726c8 whose fp = <socket._fileobject object at 0x316f1d0>>>"
       ]
      },
      {
       "output_type": "stream",
       "stream": "stdout",
       "text": [
        "\n",
        "getting http://www.worldofvolley.com/statistics/game-statistics.html?position=9...\n",
        "<response_seek_wrapper at 0x316dd40 whose wrapped object = <closeable_response at 0x3172ab8 whose fp = <socket._fileobject object at 0x316f250>>>"
       ]
      },
      {
       "output_type": "stream",
       "stream": "stdout",
       "text": [
        "\n",
        "getting http://www.worldofvolley.com/statistics/game-statistics.html?position=9...\n",
        "<response_seek_wrapper at 0x3172830 whose wrapped object = <closeable_response at 0x3172e60 whose fp = <socket._fileobject object at 0x316f2d0>>>"
       ]
      },
      {
       "output_type": "stream",
       "stream": "stdout",
       "text": [
        "\n",
        "getting http://www.worldofvolley.com/statistics/game-statistics.html?position=9...\n",
        "<response_seek_wrapper at 0x3172c20 whose wrapped object = <closeable_response at 0x31752d8 whose fp = <socket._fileobject object at 0x316f350>>>"
       ]
      },
      {
       "output_type": "stream",
       "stream": "stdout",
       "text": [
        "\n",
        "getting http://www.worldofvolley.com/statistics/game-statistics.html?position=10...\n",
        "<response_seek_wrapper at 0x31729e0 whose wrapped object = <closeable_response at 0x31756c8 whose fp = <socket._fileobject object at 0x316f3d0>>>"
       ]
      },
      {
       "output_type": "stream",
       "stream": "stdout",
       "text": [
        "\n",
        "getting http://www.worldofvolley.com/statistics/game-statistics.html?position=10...\n",
        "<response_seek_wrapper at 0x3172d40 whose wrapped object = <closeable_response at 0x3175b48 whose fp = <socket._fileobject object at 0x316f450>>>"
       ]
      },
      {
       "output_type": "stream",
       "stream": "stdout",
       "text": [
        "\n",
        "getting http://www.worldofvolley.com/statistics/game-statistics.html?position=10...\n",
        "<response_seek_wrapper at 0x3175830 whose wrapped object = <closeable_response at 0x3175e60 whose fp = <socket._fileobject object at 0x316f4d0>>>"
       ]
      },
      {
       "output_type": "stream",
       "stream": "stdout",
       "text": [
        "\n",
        "getting http://www.worldofvolley.com/statistics/game-statistics.html?position=10...\n",
        "<response_seek_wrapper at 0x3175c68 whose wrapped object = <closeable_response at 0x316df80 whose fp = <socket._fileobject object at 0x316f550>>>"
       ]
      },
      {
       "output_type": "stream",
       "stream": "stdout",
       "text": [
        "\n",
        "getting http://www.worldofvolley.com/statistics/game-statistics.html?position=10...\n",
        "<response_seek_wrapper at 0x3175a28 whose wrapped object = <closeable_response at 0x301ad40 whose fp = <socket._fileobject object at 0x316f5d0>>>"
       ]
      },
      {
       "output_type": "stream",
       "stream": "stdout",
       "text": [
        "\n",
        "getting http://www.worldofvolley.com/statistics/game-statistics.html?position=10...\n",
        "<response_seek_wrapper at 0x316afc8 whose wrapped object = <closeable_response at 0x3178488 whose fp = <socket._fileobject object at 0x316f650>>>"
       ]
      },
      {
       "output_type": "stream",
       "stream": "stdout",
       "text": [
        "\n",
        "getting http://www.worldofvolley.com/statistics/game-statistics.html?position=10...\n",
        "<response_seek_wrapper at 0x3172f80 whose wrapped object = <closeable_response at 0x3178878 whose fp = <socket._fileobject object at 0x316f6d0>>>"
       ]
      },
      {
       "output_type": "stream",
       "stream": "stdout",
       "text": [
        "\n",
        "getting http://www.worldofvolley.com/statistics/game-statistics.html?position=10...\n",
        "<response_seek_wrapper at 0x31785f0 whose wrapped object = <closeable_response at 0x3178c68 whose fp = <socket._fileobject object at 0x316f750>>>"
       ]
      },
      {
       "output_type": "stream",
       "stream": "stdout",
       "text": [
        "\n",
        "getting http://www.worldofvolley.com/statistics/game-statistics.html?position=10...\n",
        "<response_seek_wrapper at 0x31789e0 whose wrapped object = <closeable_response at 0x317d1b8 whose fp = <socket._fileobject object at 0x316f7d0>>>"
       ]
      },
      {
       "output_type": "stream",
       "stream": "stdout",
       "text": [
        "\n",
        "getting http://www.worldofvolley.com/statistics/game-statistics.html?position=10...\n",
        "<response_seek_wrapper at 0x3178dd0 whose wrapped object = <closeable_response at 0x317d488 whose fp = <socket._fileobject object at 0x316f850>>>"
       ]
      },
      {
       "output_type": "stream",
       "stream": "stdout",
       "text": [
        "\n",
        "getting http://www.worldofvolley.com/statistics/game-statistics.html?position=11...\n",
        "<response_seek_wrapper at 0x3178b48 whose wrapped object = <closeable_response at 0x317d878 whose fp = <socket._fileobject object at 0x316f8d0>>>"
       ]
      },
      {
       "output_type": "stream",
       "stream": "stdout",
       "text": [
        "\n",
        "getting http://www.worldofvolley.com/statistics/game-statistics.html?position=11...\n",
        "<response_seek_wrapper at 0x317d5f0 whose wrapped object = <closeable_response at 0x317dcf8 whose fp = <socket._fileobject object at 0x316f950>>>"
       ]
      },
      {
       "output_type": "stream",
       "stream": "stdout",
       "text": [
        "\n",
        "getting http://www.worldofvolley.com/statistics/game-statistics.html?position=11...\n",
        "<response_seek_wrapper at 0x317d9e0 whose wrapped object = <closeable_response at 0x3181200 whose fp = <socket._fileobject object at 0x316f9d0>>>"
       ]
      },
      {
       "output_type": "stream",
       "stream": "stdout",
       "text": [
        "\n",
        "getting http://www.worldofvolley.com/statistics/game-statistics.html?position=11...\n",
        "<response_seek_wrapper at 0x317de18 whose wrapped object = <closeable_response at 0x3181560 whose fp = <socket._fileobject object at 0x316fa50>>>"
       ]
      },
      {
       "output_type": "stream",
       "stream": "stdout",
       "text": [
        "\n",
        "getting http://www.worldofvolley.com/statistics/game-statistics.html?position=11...\n",
        "<response_seek_wrapper at 0x317dbd8 whose wrapped object = <closeable_response at 0x3181950 whose fp = <socket._fileobject object at 0x316fad0>>>"
       ]
      },
      {
       "output_type": "stream",
       "stream": "stdout",
       "text": [
        "\n",
        "getting http://www.worldofvolley.com/statistics/game-statistics.html?position=11...\n",
        "<response_seek_wrapper at 0x31816c8 whose wrapped object = <closeable_response at 0x3181d40 whose fp = <socket._fileobject object at 0x316fb50>>>"
       ]
      },
      {
       "output_type": "stream",
       "stream": "stdout",
       "text": [
        "\n",
        "getting http://www.worldofvolley.com/statistics/game-statistics.html?position=11...\n",
        "<response_seek_wrapper at 0x3181ab8 whose wrapped object = <closeable_response at 0x3184200 whose fp = <socket._fileobject object at 0x316fbd0>>>"
       ]
      },
      {
       "output_type": "stream",
       "stream": "stdout",
       "text": [
        "\n",
        "getting http://www.worldofvolley.com/statistics/game-statistics.html?position=11...\n",
        "<response_seek_wrapper at 0x3181ea8 whose wrapped object = <closeable_response at 0x3184560 whose fp = <socket._fileobject object at 0x316fc50>>>"
       ]
      },
      {
       "output_type": "stream",
       "stream": "stdout",
       "text": [
        "\n",
        "getting http://www.worldofvolley.com/statistics/game-statistics.html?position=11...\n",
        "<response_seek_wrapper at 0x3181c20 whose wrapped object = <closeable_response at 0x3184950 whose fp = <socket._fileobject object at 0x316fcd0>>>"
       ]
      },
      {
       "output_type": "stream",
       "stream": "stdout",
       "text": [
        "\n",
        "getting http://www.worldofvolley.com/statistics/game-statistics.html?position=11...\n",
        "<response_seek_wrapper at 0x31846c8 whose wrapped object = <closeable_response at 0x3184d40 whose fp = <socket._fileobject object at 0x316fd50>>>"
       ]
      },
      {
       "output_type": "stream",
       "stream": "stdout",
       "text": [
        "\n",
        "getting http://www.worldofvolley.com/statistics/game-statistics.html?position=12...\n",
        "<response_seek_wrapper at 0x3184ab8 whose wrapped object = <closeable_response at 0x3188248 whose fp = <socket._fileobject object at 0x316fdd0>>>"
       ]
      },
      {
       "output_type": "stream",
       "stream": "stdout",
       "text": [
        "\n",
        "getting http://www.worldofvolley.com/statistics/game-statistics.html?position=12...\n",
        "<response_seek_wrapper at 0x3184ea8 whose wrapped object = <closeable_response at 0x31885f0 whose fp = <socket._fileobject object at 0x316fe50>>>"
       ]
      },
      {
       "output_type": "stream",
       "stream": "stdout",
       "text": [
        "\n",
        "getting http://www.worldofvolley.com/statistics/game-statistics.html?position=12...\n",
        "<response_seek_wrapper at 0x3184c20 whose wrapped object = <closeable_response at 0x3188a28 whose fp = <socket._fileobject object at 0x316fed0>>>"
       ]
      },
      {
       "output_type": "stream",
       "stream": "stdout",
       "text": [
        "\n",
        "getting http://www.worldofvolley.com/statistics/game-statistics.html?position=12...\n",
        "<response_seek_wrapper at 0x3188710 whose wrapped object = <closeable_response at 0x3188e18 whose fp = <socket._fileobject object at 0x316ff50>>>"
       ]
      },
      {
       "output_type": "stream",
       "stream": "stdout",
       "text": [
        "\n",
        "getting http://www.worldofvolley.com/statistics/game-statistics.html?position=12...\n",
        "<response_seek_wrapper at 0x3188b90 whose wrapped object = <closeable_response at 0x318c248 whose fp = <socket._fileobject object at 0x318b050>>>"
       ]
      },
      {
       "output_type": "stream",
       "stream": "stdout",
       "text": [
        "\n",
        "getting http://www.worldofvolley.com/statistics/game-statistics.html?position=12...\n",
        "<response_seek_wrapper at 0x3188f80 whose wrapped object = <closeable_response at 0x318c638 whose fp = <socket._fileobject object at 0x318b0d0>>>"
       ]
      },
      {
       "output_type": "stream",
       "stream": "stdout",
       "text": [
        "\n",
        "getting http://www.worldofvolley.com/statistics/game-statistics.html?position=12...\n",
        "<response_seek_wrapper at 0x3188cf8 whose wrapped object = <closeable_response at 0x3178368 whose fp = <socket._fileobject object at 0x318b150>>>"
       ]
      },
      {
       "output_type": "stream",
       "stream": "stdout",
       "text": [
        "\n",
        "getting http://www.worldofvolley.com/statistics/game-statistics.html?position=12...\n",
        "<response_seek_wrapper at 0x31673b0 whose wrapped object = <closeable_response at 0x3184440 whose fp = <socket._fileobject object at 0x318b1d0>>>"
       ]
      },
      {
       "output_type": "stream",
       "stream": "stdout",
       "text": [
        "\n",
        "getting http://www.worldofvolley.com/statistics/game-statistics.html?position=12...\n",
        "<response_seek_wrapper at 0x3172200 whose wrapped object = <closeable_response at 0x318c830 whose fp = <socket._fileobject object at 0x318b250>>>"
       ]
      },
      {
       "output_type": "stream",
       "stream": "stdout",
       "text": [
        "\n",
        "getting http://www.worldofvolley.com/statistics/game-statistics.html?position=12...\n",
        "<response_seek_wrapper at 0x3172e18 whose wrapped object = <closeable_response at 0x318ce60 whose fp = <socket._fileobject object at 0x318b2d0>>>"
       ]
      },
      {
       "output_type": "stream",
       "stream": "stdout",
       "text": [
        "\n",
        "getting http://www.worldofvolley.com/statistics/game-statistics.html?position=13...\n",
        "<response_seek_wrapper at 0x318c200 whose wrapped object = <closeable_response at 0x318f320 whose fp = <socket._fileobject object at 0x318b350>>>"
       ]
      },
      {
       "output_type": "stream",
       "stream": "stdout",
       "text": [
        "\n",
        "getting http://www.worldofvolley.com/statistics/game-statistics.html?position=13...\n",
        "<response_seek_wrapper at 0x318c950 whose wrapped object = <closeable_response at 0x318f7a0 whose fp = <socket._fileobject object at 0x318b3d0>>>"
       ]
      },
      {
       "output_type": "stream",
       "stream": "stdout",
       "text": [
        "\n",
        "getting http://www.worldofvolley.com/statistics/game-statistics.html?position=13...\n",
        "<response_seek_wrapper at 0x318cd88 whose wrapped object = <closeable_response at 0x318fbd8 whose fp = <socket._fileobject object at 0x318b450>>>"
       ]
      },
      {
       "output_type": "stream",
       "stream": "stdout",
       "text": [
        "\n",
        "getting http://www.worldofvolley.com/statistics/game-statistics.html?position=13...\n",
        "<response_seek_wrapper at 0x318f8c0 whose wrapped object = <closeable_response at 0x318fe60 whose fp = <socket._fileobject object at 0x318b4d0>>>"
       ]
      },
      {
       "output_type": "stream",
       "stream": "stdout",
       "text": [
        "\n",
        "getting http://www.worldofvolley.com/statistics/game-statistics.html?position=13...\n",
        "<response_seek_wrapper at 0x318fd40 whose wrapped object = <closeable_response at 0x31943f8 whose fp = <socket._fileobject object at 0x318b550>>>"
       ]
      },
      {
       "output_type": "stream",
       "stream": "stdout",
       "text": [
        "\n",
        "getting http://www.worldofvolley.com/statistics/game-statistics.html?position=13...\n",
        "<response_seek_wrapper at 0x318fab8 whose wrapped object = <closeable_response at 0x31947e8 whose fp = <socket._fileobject object at 0x318b5d0>>>"
       ]
      },
      {
       "output_type": "stream",
       "stream": "stdout",
       "text": [
        "\n",
        "getting http://www.worldofvolley.com/statistics/game-statistics.html?position=13...\n",
        "<response_seek_wrapper at 0x3194560 whose wrapped object = <closeable_response at 0x3194bd8 whose fp = <socket._fileobject object at 0x318b650>>>"
       ]
      },
      {
       "output_type": "stream",
       "stream": "stdout",
       "text": [
        "\n",
        "getting http://www.worldofvolley.com/statistics/game-statistics.html?position=13...\n",
        "<response_seek_wrapper at 0x3194950 whose wrapped object = <closeable_response at 0x3194e60 whose fp = <socket._fileobject object at 0x318b6d0>>>"
       ]
      },
      {
       "output_type": "stream",
       "stream": "stdout",
       "text": [
        "\n",
        "getting http://www.worldofvolley.com/statistics/game-statistics.html?position=13...\n",
        "<response_seek_wrapper at 0x3194d40 whose wrapped object = <closeable_response at 0x31973f8 whose fp = <socket._fileobject object at 0x318b750>>>"
       ]
      },
      {
       "output_type": "stream",
       "stream": "stdout",
       "text": [
        "\n",
        "getting http://www.worldofvolley.com/statistics/game-statistics.html?position=13...\n",
        "<response_seek_wrapper at 0x3194ab8 whose wrapped object = <closeable_response at 0x31977e8 whose fp = <socket._fileobject object at 0x318b7d0>>>"
       ]
      },
      {
       "output_type": "stream",
       "stream": "stdout",
       "text": [
        "\n",
        "getting http://www.worldofvolley.com/statistics/game-statistics.html?position=14...\n",
        "<response_seek_wrapper at 0x3197560 whose wrapped object = <closeable_response at 0x3197bd8 whose fp = <socket._fileobject object at 0x318b850>>>"
       ]
      },
      {
       "output_type": "stream",
       "stream": "stdout",
       "text": [
        "\n",
        "getting http://www.worldofvolley.com/statistics/game-statistics.html?position=14...\n",
        "<response_seek_wrapper at 0x3197950 whose wrapped object = <closeable_response at 0x32b01b8 whose fp = <socket._fileobject object at 0x318b8d0>>>"
       ]
      },
      {
       "output_type": "stream",
       "stream": "stdout",
       "text": [
        "\n",
        "getting http://www.worldofvolley.com/statistics/game-statistics.html?position=14...\n",
        "<response_seek_wrapper at 0x3197d40 whose wrapped object = <closeable_response at 0x32b04d0 whose fp = <socket._fileobject object at 0x318b950>>>"
       ]
      },
      {
       "output_type": "stream",
       "stream": "stdout",
       "text": [
        "\n",
        "getting http://www.worldofvolley.com/statistics/game-statistics.html?position=14...\n",
        "<response_seek_wrapper at 0x3197b00 whose wrapped object = <closeable_response at 0x32b08c0 whose fp = <socket._fileobject object at 0x318b9d0>>>"
       ]
      },
      {
       "output_type": "stream",
       "stream": "stdout",
       "text": [
        "\n",
        "getting http://www.worldofvolley.com/statistics/game-statistics.html?position=14...\n",
        "<response_seek_wrapper at 0x32b0638 whose wrapped object = <closeable_response at 0x32b0cb0 whose fp = <socket._fileobject object at 0x318ba50>>>"
       ]
      },
      {
       "output_type": "stream",
       "stream": "stdout",
       "text": [
        "\n",
        "getting http://www.worldofvolley.com/statistics/game-statistics.html?position=14...\n",
        "<response_seek_wrapper at 0x32b0a28 whose wrapped object = <closeable_response at 0x32b2290 whose fp = <socket._fileobject object at 0x318bad0>>>"
       ]
      },
      {
       "output_type": "stream",
       "stream": "stdout",
       "text": [
        "\n",
        "getting http://www.worldofvolley.com/statistics/game-statistics.html?position=14...\n",
        "<response_seek_wrapper at 0x32b0e18 whose wrapped object = <closeable_response at 0x32b24d0 whose fp = <socket._fileobject object at 0x318bb50>>>"
       ]
      },
      {
       "output_type": "stream",
       "stream": "stdout",
       "text": [
        "\n",
        "getting http://www.worldofvolley.com/statistics/game-statistics.html?position=14...\n",
        "<response_seek_wrapper at 0x32b0b90 whose wrapped object = <closeable_response at 0x32b28c0 whose fp = <socket._fileobject object at 0x318bbd0>>>"
       ]
      },
      {
       "output_type": "stream",
       "stream": "stdout",
       "text": [
        "\n",
        "getting http://www.worldofvolley.com/statistics/game-statistics.html?position=14...\n",
        "<response_seek_wrapper at 0x32b2638 whose wrapped object = <closeable_response at 0x32b2cb0 whose fp = <socket._fileobject object at 0x318bc50>>>"
       ]
      },
      {
       "output_type": "stream",
       "stream": "stdout",
       "text": [
        "\n",
        "getting http://www.worldofvolley.com/statistics/game-statistics.html?position=14...\n",
        "<response_seek_wrapper at 0x32b2a28 whose wrapped object = <closeable_response at 0x32b6290 whose fp = <socket._fileobject object at 0x318bcd0>>>"
       ]
      },
      {
       "output_type": "stream",
       "stream": "stdout",
       "text": [
        "\n",
        "getting http://www.worldofvolley.com/statistics/game-statistics.html?position=15...\n",
        "<response_seek_wrapper at 0x32b2e18 whose wrapped object = <closeable_response at 0x3181440 whose fp = <socket._fileobject object at 0x318bd50>>>"
       ]
      },
      {
       "output_type": "stream",
       "stream": "stdout",
       "text": [
        "\n",
        "getting http://www.worldofvolley.com/statistics/game-statistics.html?position=15...\n",
        "<response_seek_wrapper at 0x32b2b90 whose wrapped object = <closeable_response at 0x31946c8 whose fp = <socket._fileobject object at 0x318bdd0>>>"
       ]
      },
      {
       "output_type": "stream",
       "stream": "stdout",
       "text": [
        "\n",
        "getting http://www.worldofvolley.com/statistics/game-statistics.html?position=15...\n",
        "<response_seek_wrapper at 0x32b6638 whose wrapped object = <closeable_response at 0x32b66c8 whose fp = <socket._fileobject object at 0x318be50>>>"
       ]
      },
      {
       "output_type": "stream",
       "stream": "stdout",
       "text": [
        "\n",
        "getting http://www.worldofvolley.com/statistics/game-statistics.html?position=15...\n",
        "<response_seek_wrapper at 0x3184128 whose wrapped object = <closeable_response at 0x32b6ab8 whose fp = <socket._fileobject object at 0x318bed0>>>"
       ]
      },
      {
       "output_type": "stream",
       "stream": "stdout",
       "text": [
        "\n",
        "getting http://www.worldofvolley.com/statistics/game-statistics.html?position=15...\n",
        "<response_seek_wrapper at 0x31972d8 whose wrapped object = <closeable_response at 0x32b6e60 whose fp = <socket._fileobject object at 0x318bf50>>>"
       ]
      },
      {
       "output_type": "stream",
       "stream": "stdout",
       "text": [
        "\n",
        "getting http://www.worldofvolley.com/statistics/game-statistics.html?position=15...\n",
        "<response_seek_wrapper at 0x32b6c20 whose wrapped object = <closeable_response at 0x32bc2d8 whose fp = <socket._fileobject object at 0x32ba050>>>"
       ]
      },
      {
       "output_type": "stream",
       "stream": "stdout",
       "text": [
        "\n",
        "getting http://www.worldofvolley.com/statistics/game-statistics.html?position=15...\n",
        "<response_seek_wrapper at 0x32b69e0 whose wrapped object = <closeable_response at 0x32bc6c8 whose fp = <socket._fileobject object at 0x32ba0d0>>>"
       ]
      },
      {
       "output_type": "stream",
       "stream": "stdout",
       "text": [
        "\n",
        "getting http://www.worldofvolley.com/statistics/game-statistics.html?position=15...\n",
        "<response_seek_wrapper at 0x32b6d40 whose wrapped object = <closeable_response at 0x32bcab8 whose fp = <socket._fileobject object at 0x32ba150>>>"
       ]
      },
      {
       "output_type": "stream",
       "stream": "stdout",
       "text": [
        "\n",
        "getting http://www.worldofvolley.com/statistics/game-statistics.html?position=15...\n",
        "<response_seek_wrapper at 0x32bc830 whose wrapped object = <closeable_response at 0x32bce60 whose fp = <socket._fileobject object at 0x32ba1d0>>>"
       ]
      },
      {
       "output_type": "stream",
       "stream": "stdout",
       "text": [
        "\n",
        "getting http://www.worldofvolley.com/statistics/game-statistics.html?position=15...\n",
        "<response_seek_wrapper at 0x32bcc20 whose wrapped object = <closeable_response at 0x32bf2d8 whose fp = <socket._fileobject object at 0x32ba250>>>"
       ]
      },
      {
       "output_type": "stream",
       "stream": "stdout",
       "text": [
        "\n",
        "getting http://www.worldofvolley.com/statistics/game-statistics.html?position=16...\n",
        "<response_seek_wrapper at 0x32bc9e0 whose wrapped object = <closeable_response at 0x32bf6c8 whose fp = <socket._fileobject object at 0x32ba2d0>>>"
       ]
      },
      {
       "output_type": "stream",
       "stream": "stdout",
       "text": [
        "\n",
        "getting http://www.worldofvolley.com/statistics/game-statistics.html?position=16...\n",
        "<response_seek_wrapper at 0x32bcd40 whose wrapped object = <closeable_response at 0x32bfb48 whose fp = <socket._fileobject object at 0x32ba350>>>"
       ]
      },
      {
       "output_type": "stream",
       "stream": "stdout",
       "text": [
        "\n",
        "getting http://www.worldofvolley.com/statistics/game-statistics.html?position=16...\n",
        "<response_seek_wrapper at 0x32bf830 whose wrapped object = <closeable_response at 0x32bfe60 whose fp = <socket._fileobject object at 0x32ba3d0>>>"
       ]
      },
      {
       "output_type": "stream",
       "stream": "stdout",
       "text": [
        "\n",
        "getting http://www.worldofvolley.com/statistics/game-statistics.html?position=16...\n",
        "<response_seek_wrapper at 0x32bfc68 whose wrapped object = <closeable_response at 0x32c23b0 whose fp = <socket._fileobject object at 0x32ba450>>>"
       ]
      },
      {
       "output_type": "stream",
       "stream": "stdout",
       "text": [
        "\n",
        "getting http://www.worldofvolley.com/statistics/game-statistics.html?position=16...\n",
        "<response_seek_wrapper at 0x32bfa28 whose wrapped object = <closeable_response at 0x32c27a0 whose fp = <socket._fileobject object at 0x32ba4d0>>>"
       ]
      },
      {
       "output_type": "stream",
       "stream": "stdout",
       "text": [
        "\n",
        "getting http://www.worldofvolley.com/statistics/game-statistics.html?position=16...\n",
        "<response_seek_wrapper at 0x32c2518 whose wrapped object = <closeable_response at 0x32c2b90 whose fp = <socket._fileobject object at 0x32ba550>>>"
       ]
      },
      {
       "output_type": "stream",
       "stream": "stdout",
       "text": [
        "\n",
        "getting http://www.worldofvolley.com/statistics/game-statistics.html?position=16...\n",
        "<response_seek_wrapper at 0x32c2908 whose wrapped object = <closeable_response at 0x32c2e60 whose fp = <socket._fileobject object at 0x32ba5d0>>>"
       ]
      },
      {
       "output_type": "stream",
       "stream": "stdout",
       "text": [
        "\n",
        "getting http://www.worldofvolley.com/statistics/game-statistics.html?position=16...\n",
        "<response_seek_wrapper at 0x32c2cf8 whose wrapped object = <closeable_response at 0x32c53b0 whose fp = <socket._fileobject object at 0x32ba650>>>"
       ]
      },
      {
       "output_type": "stream",
       "stream": "stdout",
       "text": [
        "\n",
        "getting http://www.worldofvolley.com/statistics/game-statistics.html?position=16...\n",
        "<response_seek_wrapper at 0x32c2a70 whose wrapped object = <closeable_response at 0x32c57a0 whose fp = <socket._fileobject object at 0x32ba6d0>>>"
       ]
      },
      {
       "output_type": "stream",
       "stream": "stdout",
       "text": [
        "\n",
        "getting http://www.worldofvolley.com/statistics/game-statistics.html?position=16...\n",
        "<response_seek_wrapper at 0x32c5518 whose wrapped object = <closeable_response at 0x32c5b90 whose fp = <socket._fileobject object at 0x32ba750>>>"
       ]
      },
      {
       "output_type": "stream",
       "stream": "stdout",
       "text": [
        "\n",
        "getting http://www.worldofvolley.com/statistics/game-statistics.html?position=17...\n",
        "<response_seek_wrapper at 0x32c5908 whose wrapped object = <closeable_response at 0x32c5ef0 whose fp = <socket._fileobject object at 0x32ba7d0>>>"
       ]
      },
      {
       "output_type": "stream",
       "stream": "stdout",
       "text": [
        "\n",
        "getting http://www.worldofvolley.com/statistics/game-statistics.html?position=17...\n",
        "<response_seek_wrapper at 0x32c5cf8 whose wrapped object = <closeable_response at 0x3181bd8 whose fp = <socket._fileobject object at 0x32ba850>>>"
       ]
      },
      {
       "output_type": "stream",
       "stream": "stdout",
       "text": [
        "\n",
        "getting http://www.worldofvolley.com/statistics/game-statistics.html?position=17...\n",
        "<response_seek_wrapper at 0x32c5a70 whose wrapped object = <closeable_response at 0x32c93b0 whose fp = <socket._fileobject object at 0x32ba8d0>>>"
       ]
      },
      {
       "output_type": "stream",
       "stream": "stdout",
       "text": [
        "\n",
        "getting http://www.worldofvolley.com/statistics/game-statistics.html?position=17...\n",
        "<response_seek_wrapper at 0x32c5dd0 whose wrapped object = <closeable_response at 0x32c97a0 whose fp = <socket._fileobject object at 0x32ba950>>>"
       ]
      },
      {
       "output_type": "stream",
       "stream": "stdout",
       "text": [
        "\n",
        "getting http://www.worldofvolley.com/statistics/game-statistics.html?position=17...\n",
        "<response_seek_wrapper at 0x2f9ce60 whose wrapped object = <closeable_response at 0x32bf050 whose fp = <socket._fileobject object at 0x32ba9d0>>>"
       ]
      },
      {
       "output_type": "stream",
       "stream": "stdout",
       "text": [
        "\n",
        "getting http://www.worldofvolley.com/statistics/game-statistics.html?position=17...\n",
        "<response_seek_wrapper at 0x32bc050 whose wrapped object = <closeable_response at 0x31757e8 whose fp = <socket._fileobject object at 0x32baa50>>>"
       ]
      },
      {
       "output_type": "stream",
       "stream": "stdout",
       "text": [
        "\n",
        "getting http://www.worldofvolley.com/statistics/game-statistics.html?position=17...\n",
        "<response_seek_wrapper at 0x32bc5a8 whose wrapped object = <closeable_response at 0x32c9b48 whose fp = <socket._fileobject object at 0x32baad0>>>"
       ]
      },
      {
       "output_type": "stream",
       "stream": "stdout",
       "text": [
        "\n",
        "getting http://www.worldofvolley.com/statistics/game-statistics.html?position=17...\n",
        "<response_seek_wrapper at 0x32b6f80 whose wrapped object = <closeable_response at 0x32c9290 whose fp = <socket._fileobject object at 0x32bab50>>>"
       ]
      },
      {
       "output_type": "stream",
       "stream": "stdout",
       "text": [
        "\n",
        "getting http://www.worldofvolley.com/statistics/game-statistics.html?position=17...\n",
        "<response_seek_wrapper at 0x32c99e0 whose wrapped object = <closeable_response at 0x32cd440 whose fp = <socket._fileobject object at 0x32babd0>>>"
       ]
      },
      {
       "output_type": "stream",
       "stream": "stdout",
       "text": [
        "\n",
        "getting http://www.worldofvolley.com/statistics/game-statistics.html?position=17...\n",
        "<response_seek_wrapper at 0x32c9c68 whose wrapped object = <closeable_response at 0x32cd830 whose fp = <socket._fileobject object at 0x32bac50>>>"
       ]
      },
      {
       "output_type": "stream",
       "stream": "stdout",
       "text": [
        "\n",
        "getting http://www.worldofvolley.com/statistics/game-statistics.html?position=18...\n",
        "<response_seek_wrapper at 0x32cd5a8 whose wrapped object = <closeable_response at 0x32cdc20 whose fp = <socket._fileobject object at 0x32bacd0>>>"
       ]
      },
      {
       "output_type": "stream",
       "stream": "stdout",
       "text": [
        "\n",
        "getting http://www.worldofvolley.com/statistics/game-statistics.html?position=18...\n",
        "<response_seek_wrapper at 0x32cd998 whose wrapped object = <closeable_response at 0x32c1290 whose fp = <socket._fileobject object at 0x32bad50>>>"
       ]
      },
      {
       "output_type": "stream",
       "stream": "stdout",
       "text": [
        "\n",
        "getting http://www.worldofvolley.com/statistics/game-statistics.html?position=18...\n",
        "<response_seek_wrapper at 0x32cdd88 whose wrapped object = <closeable_response at 0x32c1518 whose fp = <socket._fileobject object at 0x32badd0>>>"
       ]
      },
      {
       "output_type": "stream",
       "stream": "stdout",
       "text": [
        "\n",
        "getting http://www.worldofvolley.com/statistics/game-statistics.html?position=18...\n",
        "<response_seek_wrapper at 0x32cdb48 whose wrapped object = <closeable_response at 0x32c1908 whose fp = <socket._fileobject object at 0x32bae50>>>"
       ]
      },
      {
       "output_type": "stream",
       "stream": "stdout",
       "text": [
        "\n",
        "getting http://www.worldofvolley.com/statistics/game-statistics.html?position=18...\n",
        "<response_seek_wrapper at 0x32c1680 whose wrapped object = <closeable_response at 0x32c1cf8 whose fp = <socket._fileobject object at 0x32baed0>>>"
       ]
      },
      {
       "output_type": "stream",
       "stream": "stdout",
       "text": [
        "\n",
        "getting http://www.worldofvolley.com/statistics/game-statistics.html?position=18...\n",
        "<response_seek_wrapper at 0x32c1a70 whose wrapped object = <closeable_response at 0x32d3200 whose fp = <socket._fileobject object at 0x32baf50>>>"
       ]
      },
      {
       "output_type": "stream",
       "stream": "stdout",
       "text": [
        "\n",
        "getting http://www.worldofvolley.com/statistics/game-statistics.html?position=18...\n",
        "<response_seek_wrapper at 0x32c1e60 whose wrapped object = <closeable_response at 0x32d3518 whose fp = <socket._fileobject object at 0x32d5050>>>"
       ]
      },
      {
       "output_type": "stream",
       "stream": "stdout",
       "text": [
        "\n",
        "getting http://www.worldofvolley.com/statistics/game-statistics.html?position=18...\n",
        "<response_seek_wrapper at 0x32c1bd8 whose wrapped object = <closeable_response at 0x32d3908 whose fp = <socket._fileobject object at 0x32d50d0>>>"
       ]
      },
      {
       "output_type": "stream",
       "stream": "stdout",
       "text": [
        "\n",
        "getting http://www.worldofvolley.com/statistics/game-statistics.html?position=18...\n",
        "<response_seek_wrapper at 0x32d3680 whose wrapped object = <closeable_response at 0x32d3cf8 whose fp = <socket._fileobject object at 0x32d5150>>>"
       ]
      },
      {
       "output_type": "stream",
       "stream": "stdout",
       "text": [
        "\n",
        "getting http://www.worldofvolley.com/statistics/game-statistics.html?position=18...\n",
        "<response_seek_wrapper at 0x32d3a70 whose wrapped object = <closeable_response at 0x32d7200 whose fp = <socket._fileobject object at 0x32d51d0>>>"
       ]
      },
      {
       "output_type": "stream",
       "stream": "stdout",
       "text": [
        "\n",
        "getting http://www.worldofvolley.com/statistics/game-statistics.html?position=19...\n",
        "<response_seek_wrapper at 0x32d3e60 whose wrapped object = <closeable_response at 0x32d7518 whose fp = <socket._fileobject object at 0x32d5250>>>"
       ]
      },
      {
       "output_type": "stream",
       "stream": "stdout",
       "text": [
        "\n",
        "getting http://www.worldofvolley.com/statistics/game-statistics.html?position=19...\n",
        "<response_seek_wrapper at 0x32d3bd8 whose wrapped object = <closeable_response at 0x32d7998 whose fp = <socket._fileobject object at 0x32d52d0>>>"
       ]
      },
      {
       "output_type": "stream",
       "stream": "stdout",
       "text": [
        "\n",
        "getting http://www.worldofvolley.com/statistics/game-statistics.html?position=19...\n",
        "<response_seek_wrapper at 0x32d7680 whose wrapped object = <closeable_response at 0x32d7dd0 whose fp = <socket._fileobject object at 0x32d5350>>>"
       ]
      },
      {
       "output_type": "stream",
       "stream": "stdout",
       "text": [
        "\n",
        "getting http://www.worldofvolley.com/statistics/game-statistics.html?position=19...\n",
        "<response_seek_wrapper at 0x32d7ab8 whose wrapped object = <closeable_response at 0x32dc200 whose fp = <socket._fileobject object at 0x32d53d0>>>"
       ]
      },
      {
       "output_type": "stream",
       "stream": "stdout",
       "text": [
        "\n",
        "getting http://www.worldofvolley.com/statistics/game-statistics.html?position=19...\n",
        "<response_seek_wrapper at 0x32d7f38 whose wrapped object = <closeable_response at 0x32dc5f0 whose fp = <socket._fileobject object at 0x32d5450>>>"
       ]
      },
      {
       "output_type": "stream",
       "stream": "stdout",
       "text": [
        "\n",
        "getting http://www.worldofvolley.com/statistics/game-statistics.html?position=19...\n",
        "<response_seek_wrapper at 0x32d7cb0 whose wrapped object = <closeable_response at 0x32dc9e0 whose fp = <socket._fileobject object at 0x32d54d0>>>"
       ]
      },
      {
       "output_type": "stream",
       "stream": "stdout",
       "text": [
        "\n",
        "getting http://www.worldofvolley.com/statistics/game-statistics.html?position=19...\n",
        "<response_seek_wrapper at 0x32dc758 whose wrapped object = <closeable_response at 0x32dcdd0 whose fp = <socket._fileobject object at 0x32d5550>>>"
       ]
      },
      {
       "output_type": "stream",
       "stream": "stdout",
       "text": [
        "\n",
        "getting http://www.worldofvolley.com/statistics/game-statistics.html?position=19...\n",
        "<response_seek_wrapper at 0x32dcb48 whose wrapped object = <closeable_response at 0x32e0200 whose fp = <socket._fileobject object at 0x32d55d0>>>"
       ]
      },
      {
       "output_type": "stream",
       "stream": "stdout",
       "text": [
        "\n",
        "getting http://www.worldofvolley.com/statistics/game-statistics.html?position=19...\n",
        "<response_seek_wrapper at 0x32dcf38 whose wrapped object = <closeable_response at 0x32c13f8 whose fp = <socket._fileobject object at 0x32d5650>>>"
       ]
      },
      {
       "output_type": "stream",
       "stream": "stdout",
       "text": [
        "\n",
        "getting http://www.worldofvolley.com/statistics/game-statistics.html?position=19...\n",
        "<response_seek_wrapper at 0x32dccb0 whose wrapped object = <closeable_response at 0x32dc3b0 whose fp = <socket._fileobject object at 0x32d56d0>>>"
       ]
      },
      {
       "output_type": "stream",
       "stream": "stdout",
       "text": [
        "\n",
        "getting http://www.worldofvolley.com/statistics/game-statistics.html?position=20...\n",
        "<response_seek_wrapper at 0x32c9e60 whose wrapped object = <closeable_response at 0x32e0560 whose fp = <socket._fileobject object at 0x32d5750>>>"
       ]
      },
      {
       "output_type": "stream",
       "stream": "stdout",
       "text": [
        "\n",
        "getting http://www.worldofvolley.com/statistics/game-statistics.html?position=20...\n",
        "<response_seek_wrapper at 0x32cde18 whose wrapped object = <closeable_response at 0x32e0b48 whose fp = <socket._fileobject object at 0x32d57d0>>>"
       ]
      },
      {
       "output_type": "stream",
       "stream": "stdout",
       "text": [
        "\n",
        "getting http://www.worldofvolley.com/statistics/game-statistics.html?position=20...\n",
        "<response_seek_wrapper at 0x32e0758 whose wrapped object = <closeable_response at 0x32e0e60 whose fp = <socket._fileobject object at 0x32d5850>>>"
       ]
      },
      {
       "output_type": "stream",
       "stream": "stdout",
       "text": [
        "\n",
        "getting http://www.worldofvolley.com/statistics/game-statistics.html?position=20...\n",
        "<response_seek_wrapper at 0x32e0c68 whose wrapped object = <closeable_response at 0x32e23b0 whose fp = <socket._fileobject object at 0x32d58d0>>>"
       ]
      },
      {
       "output_type": "stream",
       "stream": "stdout",
       "text": [
        "\n",
        "getting http://www.worldofvolley.com/statistics/game-statistics.html?position=20...\n",
        "<response_seek_wrapper at 0x32e0a28 whose wrapped object = <closeable_response at 0x32e27a0 whose fp = <socket._fileobject object at 0x32d5950>>>"
       ]
      },
      {
       "output_type": "stream",
       "stream": "stdout",
       "text": [
        "\n",
        "getting http://www.worldofvolley.com/statistics/game-statistics.html?position=20...\n",
        "<response_seek_wrapper at 0x32e2518 whose wrapped object = <closeable_response at 0x32e2b90 whose fp = <socket._fileobject object at 0x32d59d0>>>"
       ]
      },
      {
       "output_type": "stream",
       "stream": "stdout",
       "text": [
        "\n",
        "getting http://www.worldofvolley.com/statistics/game-statistics.html?position=20...\n",
        "<response_seek_wrapper at 0x32e2908 whose wrapped object = <closeable_response at 0x32e2e60 whose fp = <socket._fileobject object at 0x32d5a50>>>"
       ]
      },
      {
       "output_type": "stream",
       "stream": "stdout",
       "text": [
        "\n",
        "getting http://www.worldofvolley.com/statistics/game-statistics.html?position=20...\n",
        "<response_seek_wrapper at 0x32e2cf8 whose wrapped object = <closeable_response at 0x32e53b0 whose fp = <socket._fileobject object at 0x32d5ad0>>>"
       ]
      },
      {
       "output_type": "stream",
       "stream": "stdout",
       "text": [
        "\n",
        "getting http://www.worldofvolley.com/statistics/game-statistics.html?position=20...\n",
        "<response_seek_wrapper at 0x32e2a70 whose wrapped object = <closeable_response at 0x32e57a0 whose fp = <socket._fileobject object at 0x32d5b50>>>"
       ]
      },
      {
       "output_type": "stream",
       "stream": "stdout",
       "text": [
        "\n",
        "getting http://www.worldofvolley.com/statistics/game-statistics.html?position=20...\n",
        "<response_seek_wrapper at 0x32e5518 whose wrapped object = <closeable_response at 0x32e5b90 whose fp = <socket._fileobject object at 0x32d5bd0>>>"
       ]
      },
      {
       "output_type": "stream",
       "stream": "stdout",
       "text": [
        "\n",
        "getting http://www.worldofvolley.com/statistics/game-statistics.html?position=21...\n",
        "<response_seek_wrapper at 0x32e5908 whose wrapped object = <closeable_response at 0x32e5e60 whose fp = <socket._fileobject object at 0x32d5c50>>>"
       ]
      },
      {
       "output_type": "stream",
       "stream": "stdout",
       "text": [
        "\n",
        "getting http://www.worldofvolley.com/statistics/game-statistics.html?position=21...\n",
        "<response_seek_wrapper at 0x32e5cf8 whose wrapped object = <closeable_response at 0x32e9440 whose fp = <socket._fileobject object at 0x32d5cd0>>>"
       ]
      },
      {
       "output_type": "stream",
       "stream": "stdout",
       "text": [
        "\n",
        "getting http://www.worldofvolley.com/statistics/game-statistics.html?position=21...\n",
        "<response_seek_wrapper at 0x32e5a70 whose wrapped object = <closeable_response at 0x32e9878 whose fp = <socket._fileobject object at 0x32d5d50>>>"
       ]
      },
      {
       "output_type": "stream",
       "stream": "stdout",
       "text": [
        "\n",
        "getting http://www.worldofvolley.com/statistics/game-statistics.html?position=21...\n",
        "<response_seek_wrapper at 0x32e9128 whose wrapped object = <closeable_response at 0x32e9c68 whose fp = <socket._fileobject object at 0x32d5dd0>>>"
       ]
      },
      {
       "output_type": "stream",
       "stream": "stdout",
       "text": [
        "\n",
        "getting http://www.worldofvolley.com/statistics/game-statistics.html?position=21...\n",
        "<response_seek_wrapper at 0x32e99e0 whose wrapped object = <closeable_response at 0x34021b8 whose fp = <socket._fileobject object at 0x32d5e50>>>"
       ]
      },
      {
       "output_type": "stream",
       "stream": "stdout",
       "text": [
        "\n",
        "getting http://www.worldofvolley.com/statistics/game-statistics.html?position=21...\n",
        "<response_seek_wrapper at 0x32e9dd0 whose wrapped object = <closeable_response at 0x3402488 whose fp = <socket._fileobject object at 0x32d5ed0>>>"
       ]
      },
      {
       "output_type": "stream",
       "stream": "stdout",
       "text": [
        "\n",
        "getting http://www.worldofvolley.com/statistics/game-statistics.html?position=21...\n",
        "<response_seek_wrapper at 0x32e9b48 whose wrapped object = <closeable_response at 0x3402878 whose fp = <socket._fileobject object at 0x32d5f50>>>"
       ]
      },
      {
       "output_type": "stream",
       "stream": "stdout",
       "text": [
        "\n",
        "getting http://www.worldofvolley.com/statistics/game-statistics.html?position=21...\n",
        "<response_seek_wrapper at 0x34025f0 whose wrapped object = <closeable_response at 0x3402c68 whose fp = <socket._fileobject object at 0x3403050>>>"
       ]
      },
      {
       "output_type": "stream",
       "stream": "stdout",
       "text": [
        "\n",
        "getting http://www.worldofvolley.com/statistics/game-statistics.html?position=21...\n",
        "<response_seek_wrapper at 0x34029e0 whose wrapped object = <closeable_response at 0x34061b8 whose fp = <socket._fileobject object at 0x34030d0>>>"
       ]
      },
      {
       "output_type": "stream",
       "stream": "stdout",
       "text": [
        "\n",
        "getting http://www.worldofvolley.com/statistics/game-statistics.html?position=21...\n",
        "<response_seek_wrapper at 0x3402dd0 whose wrapped object = <closeable_response at 0x3406488 whose fp = <socket._fileobject object at 0x3403150>>>"
       ]
      },
      {
       "output_type": "stream",
       "stream": "stdout",
       "text": [
        "\n",
        "getting http://www.worldofvolley.com/statistics/game-statistics.html?position=22...\n",
        "<response_seek_wrapper at 0x3402b48 whose wrapped object = <closeable_response at 0x3406878 whose fp = <socket._fileobject object at 0x34031d0>>>"
       ]
      },
      {
       "output_type": "stream",
       "stream": "stdout",
       "text": [
        "\n",
        "getting http://www.worldofvolley.com/statistics/game-statistics.html?position=22...\n",
        "<response_seek_wrapper at 0x34065f0 whose wrapped object = <closeable_response at 0x3406cf8 whose fp = <socket._fileobject object at 0x3403250>>>"
       ]
      },
      {
       "output_type": "stream",
       "stream": "stdout",
       "text": [
        "\n",
        "getting http://www.worldofvolley.com/statistics/game-statistics.html?position=22...\n",
        "<response_seek_wrapper at 0x34069e0 whose wrapped object = <closeable_response at 0x3406ef0 whose fp = <socket._fileobject object at 0x34032d0>>>"
       ]
      },
      {
       "output_type": "stream",
       "stream": "stdout",
       "text": [
        "\n",
        "getting http://www.worldofvolley.com/statistics/game-statistics.html?position=22...\n",
        "<response_seek_wrapper at 0x3406e18 whose wrapped object = <closeable_response at 0x32e5170 whose fp = <socket._fileobject object at 0x3403350>>>"
       ]
      },
      {
       "output_type": "stream",
       "stream": "stdout",
       "text": [
        "\n",
        "getting http://www.worldofvolley.com/statistics/game-statistics.html?position=22...\n",
        "<response_seek_wrapper at 0x3406bd8 whose wrapped object = <closeable_response at 0x32b2f80 whose fp = <socket._fileobject object at 0x34033d0>>>"
       ]
      },
      {
       "output_type": "stream",
       "stream": "stdout",
       "text": [
        "\n",
        "getting http://www.worldofvolley.com/statistics/game-statistics.html?position=22...\n",
        "<response_seek_wrapper at 0x32e0f80 whose wrapped object = <closeable_response at 0x340c2d8 whose fp = <socket._fileobject object at 0x3403450>>>"
       ]
      },
      {
       "output_type": "stream",
       "stream": "stdout",
       "text": [
        "\n",
        "getting http://www.worldofvolley.com/statistics/game-statistics.html?position=22...\n",
        "<response_seek_wrapper at 0x32e95f0 whose wrapped object = <closeable_response at 0x340c6c8 whose fp = <socket._fileobject object at 0x34034d0>>>"
       ]
      },
      {
       "output_type": "stream",
       "stream": "stdout",
       "text": [
        "\n",
        "getting http://www.worldofvolley.com/statistics/game-statistics.html?position=22...\n",
        "<response_seek_wrapper at 0x32d3440 whose wrapped object = <closeable_response at 0x340cab8 whose fp = <socket._fileobject object at 0x3403550>>>"
       ]
      },
      {
       "output_type": "stream",
       "stream": "stdout",
       "text": [
        "\n",
        "getting http://www.worldofvolley.com/statistics/game-statistics.html?position=22...\n",
        "<response_seek_wrapper at 0x340c830 whose wrapped object = <closeable_response at 0x340ce60 whose fp = <socket._fileobject object at 0x34035d0>>>"
       ]
      },
      {
       "output_type": "stream",
       "stream": "stdout",
       "text": [
        "\n",
        "getting http://www.worldofvolley.com/statistics/game-statistics.html?position=22...\n",
        "<response_seek_wrapper at 0x340cc20 whose wrapped object = <closeable_response at 0x340f2d8 whose fp = <socket._fileobject object at 0x3403650>>>"
       ]
      },
      {
       "output_type": "stream",
       "stream": "stdout",
       "text": [
        "\n",
        "getting http://www.worldofvolley.com/statistics/game-statistics.html?position=23...\n",
        "<response_seek_wrapper at 0x340c9e0 whose wrapped object = <closeable_response at 0x340f6c8 whose fp = <socket._fileobject object at 0x34036d0>>>"
       ]
      },
      {
       "output_type": "stream",
       "stream": "stdout",
       "text": [
        "\n",
        "getting http://www.worldofvolley.com/statistics/game-statistics.html?position=23...\n",
        "<response_seek_wrapper at 0x340cd40 whose wrapped object = <closeable_response at 0x340fb48 whose fp = <socket._fileobject object at 0x3403750>>>"
       ]
      },
      {
       "output_type": "stream",
       "stream": "stdout",
       "text": [
        "\n",
        "getting http://www.worldofvolley.com/statistics/game-statistics.html?position=23...\n",
        "<response_seek_wrapper at 0x340f830 whose wrapped object = <closeable_response at 0x340fe60 whose fp = <socket._fileobject object at 0x34037d0>>>"
       ]
      },
      {
       "output_type": "stream",
       "stream": "stdout",
       "text": [
        "\n",
        "getting http://www.worldofvolley.com/statistics/game-statistics.html?position=23...\n",
        "<response_seek_wrapper at 0x340fc68 whose wrapped object = <closeable_response at 0x34143b0 whose fp = <socket._fileobject object at 0x3403850>>>"
       ]
      },
      {
       "output_type": "stream",
       "stream": "stdout",
       "text": [
        "\n",
        "getting http://www.worldofvolley.com/statistics/game-statistics.html?position=23...\n",
        "<response_seek_wrapper at 0x340fa28 whose wrapped object = <closeable_response at 0x34147a0 whose fp = <socket._fileobject object at 0x34038d0>>>"
       ]
      },
      {
       "output_type": "stream",
       "stream": "stdout",
       "text": [
        "\n",
        "getting http://www.worldofvolley.com/statistics/game-statistics.html?position=23...\n",
        "<response_seek_wrapper at 0x3414518 whose wrapped object = <closeable_response at 0x3414b90 whose fp = <socket._fileobject object at 0x3403950>>>"
       ]
      },
      {
       "output_type": "stream",
       "stream": "stdout",
       "text": [
        "\n",
        "getting http://www.worldofvolley.com/statistics/game-statistics.html?position=23...\n",
        "<response_seek_wrapper at 0x3414908 whose wrapped object = <closeable_response at 0x3414e60 whose fp = <socket._fileobject object at 0x34039d0>>>"
       ]
      },
      {
       "output_type": "stream",
       "stream": "stdout",
       "text": [
        "\n",
        "getting http://www.worldofvolley.com/statistics/game-statistics.html?position=23...\n",
        "<response_seek_wrapper at 0x3414cf8 whose wrapped object = <closeable_response at 0x34163b0 whose fp = <socket._fileobject object at 0x3403a50>>>"
       ]
      },
      {
       "output_type": "stream",
       "stream": "stdout",
       "text": [
        "\n",
        "getting http://www.worldofvolley.com/statistics/game-statistics.html?position=23...\n",
        "<response_seek_wrapper at 0x3414a70 whose wrapped object = <closeable_response at 0x34167a0 whose fp = <socket._fileobject object at 0x3403ad0>>>"
       ]
      },
      {
       "output_type": "stream",
       "stream": "stdout",
       "text": [
        "\n",
        "getting http://www.worldofvolley.com/statistics/game-statistics.html?position=23...\n",
        "<response_seek_wrapper at 0x3416518 whose wrapped object = <closeable_response at 0x3416b90 whose fp = <socket._fileobject object at 0x3403b50>>>"
       ]
      },
      {
       "output_type": "stream",
       "stream": "stdout",
       "text": [
        "\n",
        "getting http://www.worldofvolley.com/statistics/game-statistics.html?position=24...\n",
        "<response_seek_wrapper at 0x3416908 whose wrapped object = <closeable_response at 0x3416e60 whose fp = <socket._fileobject object at 0x3403bd0>>>"
       ]
      },
      {
       "output_type": "stream",
       "stream": "stdout",
       "text": [
        "\n",
        "getting http://www.worldofvolley.com/statistics/game-statistics.html?position=24...\n",
        "<response_seek_wrapper at 0x3416cf8 whose wrapped object = <closeable_response at 0x3419440 whose fp = <socket._fileobject object at 0x3403c50>>>"
       ]
      },
      {
       "output_type": "stream",
       "stream": "stdout",
       "text": [
        "\n",
        "getting http://www.worldofvolley.com/statistics/game-statistics.html?position=24...\n",
        "<response_seek_wrapper at 0x3416a70 whose wrapped object = <closeable_response at 0x3419878 whose fp = <socket._fileobject object at 0x3403cd0>>>"
       ]
      },
      {
       "output_type": "stream",
       "stream": "stdout",
       "text": [
        "\n",
        "getting http://www.worldofvolley.com/statistics/game-statistics.html?position=24...\n",
        "<response_seek_wrapper at 0x3419128 whose wrapped object = <closeable_response at 0x3419c68 whose fp = <socket._fileobject object at 0x3403d50>>>"
       ]
      },
      {
       "output_type": "stream",
       "stream": "stdout",
       "text": [
        "\n",
        "getting http://www.worldofvolley.com/statistics/game-statistics.html?position=24...\n",
        "<response_seek_wrapper at 0x34199e0 whose wrapped object = <closeable_response at 0x341c1b8 whose fp = <socket._fileobject object at 0x3403dd0>>>"
       ]
      },
      {
       "output_type": "stream",
       "stream": "stdout",
       "text": [
        "\n",
        "getting http://www.worldofvolley.com/statistics/game-statistics.html?position=24...\n",
        "<response_seek_wrapper at 0x3419dd0 whose wrapped object = <closeable_response at 0x341c488 whose fp = <socket._fileobject object at 0x3403e50>>>"
       ]
      },
      {
       "output_type": "stream",
       "stream": "stdout",
       "text": [
        "\n",
        "getting http://www.worldofvolley.com/statistics/game-statistics.html?position=24...\n",
        "<response_seek_wrapper at 0x3419b48 whose wrapped object = <closeable_response at 0x341c878 whose fp = <socket._fileobject object at 0x3403ed0>>>"
       ]
      },
      {
       "output_type": "stream",
       "stream": "stdout",
       "text": [
        "\n",
        "getting http://www.worldofvolley.com/statistics/game-statistics.html?position=24...\n",
        "<response_seek_wrapper at 0x3416680 whose wrapped object = <closeable_response at 0x341cc68 whose fp = <socket._fileobject object at 0x3403f50>>>"
       ]
      },
      {
       "output_type": "stream",
       "stream": "stdout",
       "text": [
        "\n",
        "getting http://www.worldofvolley.com/statistics/game-statistics.html?position=24...\n",
        "<response_seek_wrapper at 0x3416f80 whose wrapped object = <closeable_response at 0x318ce18 whose fp = <socket._fileobject object at 0x3420050>>>"
       ]
      },
      {
       "output_type": "stream",
       "stream": "stdout",
       "text": [
        "\n",
        "getting http://www.worldofvolley.com/statistics/game-statistics.html?position=24...\n",
        "<response_seek_wrapper at 0x3419f80 whose wrapped object = <closeable_response at 0x341c6c8 whose fp = <socket._fileobject object at 0x34200d0>>>"
       ]
      },
      {
       "output_type": "stream",
       "stream": "stdout",
       "text": [
        "\n",
        "getting http://www.worldofvolley.com/statistics/game-statistics.html?position=25...\n",
        "<response_seek_wrapper at 0x341c5f0 whose wrapped object = <closeable_response at 0x3421248 whose fp = <socket._fileobject object at 0x3420150>>>"
       ]
      },
      {
       "output_type": "stream",
       "stream": "stdout",
       "text": [
        "\n",
        "getting http://www.worldofvolley.com/statistics/game-statistics.html?position=25...\n",
        "<response_seek_wrapper at 0x341cea8 whose wrapped object = <closeable_response at 0x34215f0 whose fp = <socket._fileobject object at 0x34201d0>>>"
       ]
      },
      {
       "output_type": "stream",
       "stream": "stdout",
       "text": [
        "\n",
        "getting http://www.worldofvolley.com/statistics/game-statistics.html?position=25...\n",
        "<response_seek_wrapper at 0x341c710 whose wrapped object = <closeable_response at 0x3421a28 whose fp = <socket._fileobject object at 0x3420250>>>"
       ]
      },
      {
       "output_type": "stream",
       "stream": "stdout",
       "text": [
        "\n",
        "getting http://www.worldofvolley.com/statistics/game-statistics.html?position=25...\n",
        "<response_seek_wrapper at 0x3421710 whose wrapped object = <closeable_response at 0x3421e18 whose fp = <socket._fileobject object at 0x34202d0>>>"
       ]
      },
      {
       "output_type": "stream",
       "stream": "stdout",
       "text": [
        "\n",
        "getting http://www.worldofvolley.com/statistics/game-statistics.html?position=25...\n",
        "<response_seek_wrapper at 0x3421b90 whose wrapped object = <closeable_response at 0x3424248 whose fp = <socket._fileobject object at 0x3420350>>>"
       ]
      },
      {
       "output_type": "stream",
       "stream": "stdout",
       "text": [
        "\n",
        "getting http://www.worldofvolley.com/statistics/game-statistics.html?position=25...\n",
        "<response_seek_wrapper at 0x3421f80 whose wrapped object = <closeable_response at 0x3424638 whose fp = <socket._fileobject object at 0x34203d0>>>"
       ]
      },
      {
       "output_type": "stream",
       "stream": "stdout",
       "text": [
        "\n",
        "getting http://www.worldofvolley.com/statistics/game-statistics.html?position=25...\n",
        "<response_seek_wrapper at 0x3421cf8 whose wrapped object = <closeable_response at 0x3424a28 whose fp = <socket._fileobject object at 0x3420450>>>"
       ]
      },
      {
       "output_type": "stream",
       "stream": "stdout",
       "text": [
        "\n",
        "getting http://www.worldofvolley.com/statistics/game-statistics.html?position=25...\n",
        "<response_seek_wrapper at 0x34247a0 whose wrapped object = <closeable_response at 0x3424e18 whose fp = <socket._fileobject object at 0x34204d0>>>"
       ]
      },
      {
       "output_type": "stream",
       "stream": "stdout",
       "text": [
        "\n",
        "getting http://www.worldofvolley.com/statistics/game-statistics.html?position=25...\n",
        "<response_seek_wrapper at 0x3424b90 whose wrapped object = <closeable_response at 0x3428248 whose fp = <socket._fileobject object at 0x3420550>>>"
       ]
      },
      {
       "output_type": "stream",
       "stream": "stdout",
       "text": [
        "\n",
        "getting http://www.worldofvolley.com/statistics/game-statistics.html?position=25...\n",
        "<response_seek_wrapper at 0x3424f80 whose wrapped object = <closeable_response at 0x3428638 whose fp = <socket._fileobject object at 0x34205d0>>>"
       ]
      },
      {
       "output_type": "stream",
       "stream": "stdout",
       "text": [
        "\n",
        "getting http://www.worldofvolley.com/statistics/game-statistics.html?position=26...\n",
        "<response_seek_wrapper at 0x3424cf8 whose wrapped object = <closeable_response at 0x3428a28 whose fp = <socket._fileobject object at 0x3420650>>>"
       ]
      },
      {
       "output_type": "stream",
       "stream": "stdout",
       "text": [
        "\n",
        "getting http://www.worldofvolley.com/statistics/game-statistics.html?position=26...\n",
        "<response_seek_wrapper at 0x34287a0 whose wrapped object = <closeable_response at 0x3428e18 whose fp = <socket._fileobject object at 0x34206d0>>>"
       ]
      },
      {
       "output_type": "stream",
       "stream": "stdout",
       "text": [
        "\n",
        "getting http://www.worldofvolley.com/statistics/game-statistics.html?position=26...\n",
        "<response_seek_wrapper at 0x3428b90 whose wrapped object = <closeable_response at 0x342a320 whose fp = <socket._fileobject object at 0x3420750>>>"
       ]
      },
      {
       "output_type": "stream",
       "stream": "stdout",
       "text": [
        "\n",
        "getting http://www.worldofvolley.com/statistics/game-statistics.html?position=26...\n",
        "<response_seek_wrapper at 0x3428950 whose wrapped object = <closeable_response at 0x342a710 whose fp = <socket._fileobject object at 0x34207d0>>>"
       ]
      },
      {
       "output_type": "stream",
       "stream": "stdout",
       "text": [
        "\n",
        "getting http://www.worldofvolley.com/statistics/game-statistics.html?position=26...\n",
        "<response_seek_wrapper at 0x3428d40 whose wrapped object = <closeable_response at 0x342ab00 whose fp = <socket._fileobject object at 0x3420850>>>"
       ]
      },
      {
       "output_type": "stream",
       "stream": "stdout",
       "text": [
        "\n",
        "getting http://www.worldofvolley.com/statistics/game-statistics.html?position=26...\n",
        "<response_seek_wrapper at 0x342a878 whose wrapped object = <closeable_response at 0x342ae60 whose fp = <socket._fileobject object at 0x34208d0>>>"
       ]
      },
      {
       "output_type": "stream",
       "stream": "stdout",
       "text": [
        "\n",
        "getting http://www.worldofvolley.com/statistics/game-statistics.html?position=26...\n",
        "<response_seek_wrapper at 0x342ac68 whose wrapped object = <closeable_response at 0x342f320 whose fp = <socket._fileobject object at 0x3420950>>>"
       ]
      },
      {
       "output_type": "stream",
       "stream": "stdout",
       "text": [
        "\n",
        "getting http://www.worldofvolley.com/statistics/game-statistics.html?position=26...\n",
        "<response_seek_wrapper at 0x342a9e0 whose wrapped object = <closeable_response at 0x342f710 whose fp = <socket._fileobject object at 0x34209d0>>>"
       ]
      },
      {
       "output_type": "stream",
       "stream": "stdout",
       "text": [
        "\n",
        "getting http://www.worldofvolley.com/statistics/game-statistics.html?position=26...\n",
        "<response_seek_wrapper at 0x342ad88 whose wrapped object = <closeable_response at 0x342fb00 whose fp = <socket._fileobject object at 0x3420a50>>>"
       ]
      },
      {
       "output_type": "stream",
       "stream": "stdout",
       "text": [
        "\n",
        "getting http://www.worldofvolley.com/statistics/game-statistics.html?position=26...\n",
        "<response_seek_wrapper at 0x342f878 whose wrapped object = <closeable_response at 0x342fe60 whose fp = <socket._fileobject object at 0x3420ad0>>>"
       ]
      },
      {
       "output_type": "stream",
       "stream": "stdout",
       "text": [
        "\n",
        "getting http://www.worldofvolley.com/statistics/game-statistics.html?position=27...\n",
        "<response_seek_wrapper at 0x342fc68 whose wrapped object = <closeable_response at 0x342af80 whose fp = <socket._fileobject object at 0x3420b50>>>"
       ]
      },
      {
       "output_type": "stream",
       "stream": "stdout",
       "text": [
        "\n",
        "getting http://www.worldofvolley.com/statistics/game-statistics.html?position=27...\n",
        "<response_seek_wrapper at 0x342f9e0 whose wrapped object = <closeable_response at 0x34327a0 whose fp = <socket._fileobject object at 0x3420bd0>>>"
       ]
      },
      {
       "output_type": "stream",
       "stream": "stdout",
       "text": [
        "\n",
        "getting http://www.worldofvolley.com/statistics/game-statistics.html?position=27...\n",
        "<response_seek_wrapper at 0x342fd88 whose wrapped object = <closeable_response at 0x34322d8 whose fp = <socket._fileobject object at 0x3420c50>>>"
       ]
      },
      {
       "output_type": "stream",
       "stream": "stdout",
       "text": [
        "\n",
        "getting http://www.worldofvolley.com/statistics/game-statistics.html?position=27...\n",
        "<response_seek_wrapper at 0x3428f38 whose wrapped object = <closeable_response at 0x34328c0 whose fp = <socket._fileobject object at 0x3420cd0>>>"
       ]
      },
      {
       "output_type": "stream",
       "stream": "stdout",
       "text": [
        "\n",
        "getting http://www.worldofvolley.com/statistics/game-statistics.html?position=27...\n",
        "<response_seek_wrapper at 0x3432320 whose wrapped object = <closeable_response at 0x3432cb0 whose fp = <socket._fileobject object at 0x3420d50>>>"
       ]
      },
      {
       "output_type": "stream",
       "stream": "stdout",
       "text": [
        "\n",
        "getting http://www.worldofvolley.com/statistics/game-statistics.html?position=27...\n",
        "<response_seek_wrapper at 0x3432a28 whose wrapped object = <closeable_response at 0x3437290 whose fp = <socket._fileobject object at 0x3420dd0>>>"
       ]
      },
      {
       "output_type": "stream",
       "stream": "stdout",
       "text": [
        "\n",
        "getting http://www.worldofvolley.com/statistics/game-statistics.html?position=27...\n",
        "<response_seek_wrapper at 0x3432e18 whose wrapped object = <closeable_response at 0x34374d0 whose fp = <socket._fileobject object at 0x3420e50>>>"
       ]
      },
      {
       "output_type": "stream",
       "stream": "stdout",
       "text": [
        "\n",
        "getting http://www.worldofvolley.com/statistics/game-statistics.html?position=27...\n",
        "<response_seek_wrapper at 0x3432b90 whose wrapped object = <closeable_response at 0x34378c0 whose fp = <socket._fileobject object at 0x3420ed0>>>"
       ]
      },
      {
       "output_type": "stream",
       "stream": "stdout",
       "text": [
        "\n",
        "getting http://www.worldofvolley.com/statistics/game-statistics.html?position=27...\n",
        "<response_seek_wrapper at 0x3437638 whose wrapped object = <closeable_response at 0x3437cb0 whose fp = <socket._fileobject object at 0x3420f50>>>"
       ]
      },
      {
       "output_type": "stream",
       "stream": "stdout",
       "text": [
        "\n",
        "getting http://www.worldofvolley.com/statistics/game-statistics.html?position=27...\n",
        "<response_seek_wrapper at 0x3437a28 whose wrapped object = <closeable_response at 0x343a290 whose fp = <socket._fileobject object at 0x3439050>>>"
       ]
      },
      {
       "output_type": "stream",
       "stream": "stdout",
       "text": [
        "\n",
        "getting http://www.worldofvolley.com/statistics/game-statistics.html?position=28...\n",
        "<response_seek_wrapper at 0x3437e18 whose wrapped object = <closeable_response at 0x343a4d0 whose fp = <socket._fileobject object at 0x34390d0>>>"
       ]
      },
      {
       "output_type": "stream",
       "stream": "stdout",
       "text": [
        "\n",
        "getting http://www.worldofvolley.com/statistics/game-statistics.html?position=28...\n",
        "<response_seek_wrapper at 0x3437b90 whose wrapped object = <closeable_response at 0x343a950 whose fp = <socket._fileobject object at 0x3439150>>>"
       ]
      },
      {
       "output_type": "stream",
       "stream": "stdout",
       "text": [
        "\n",
        "getting http://www.worldofvolley.com/statistics/game-statistics.html?position=28...\n",
        "<response_seek_wrapper at 0x343a638 whose wrapped object = <closeable_response at 0x343ad88 whose fp = <socket._fileobject object at 0x34391d0>>>"
       ]
      },
      {
       "output_type": "stream",
       "stream": "stdout",
       "text": [
        "\n",
        "getting http://www.worldofvolley.com/statistics/game-statistics.html?position=28...\n",
        "<response_seek_wrapper at 0x343aa70 whose wrapped object = <closeable_response at 0x343e200 whose fp = <socket._fileobject object at 0x3439250>>>"
       ]
      },
      {
       "output_type": "stream",
       "stream": "stdout",
       "text": [
        "\n",
        "getting http://www.worldofvolley.com/statistics/game-statistics.html?position=28...\n",
        "<response_seek_wrapper at 0x343aef0 whose wrapped object = <closeable_response at 0x343e5a8 whose fp = <socket._fileobject object at 0x34392d0>>>"
       ]
      },
      {
       "output_type": "stream",
       "stream": "stdout",
       "text": [
        "\n",
        "getting http://www.worldofvolley.com/statistics/game-statistics.html?position=28...\n",
        "<response_seek_wrapper at 0x343ac68 whose wrapped object = <closeable_response at 0x343e998 whose fp = <socket._fileobject object at 0x3439350>>>"
       ]
      },
      {
       "output_type": "stream",
       "stream": "stdout",
       "text": [
        "\n",
        "getting http://www.worldofvolley.com/statistics/game-statistics.html?position=28...\n",
        "<response_seek_wrapper at 0x343e710 whose wrapped object = <closeable_response at 0x343ed88 whose fp = <socket._fileobject object at 0x34393d0>>>"
       ]
      },
      {
       "output_type": "stream",
       "stream": "stdout",
       "text": [
        "\n",
        "getting http://www.worldofvolley.com/statistics/game-statistics.html?position=28...\n",
        "<response_seek_wrapper at 0x343eb00 whose wrapped object = <closeable_response at 0x3552200 whose fp = <socket._fileobject object at 0x3439450>>>"
       ]
      },
      {
       "output_type": "stream",
       "stream": "stdout",
       "text": [
        "\n",
        "getting http://www.worldofvolley.com/statistics/game-statistics.html?position=28...\n",
        "<response_seek_wrapper at 0x343eef0 whose wrapped object = <closeable_response at 0x35525a8 whose fp = <socket._fileobject object at 0x34394d0>>>"
       ]
      },
      {
       "output_type": "stream",
       "stream": "stdout",
       "text": [
        "\n",
        "getting http://www.worldofvolley.com/statistics/game-statistics.html?position=28...\n",
        "<response_seek_wrapper at 0x343ec68 whose wrapped object = <closeable_response at 0x3552998 whose fp = <socket._fileobject object at 0x3439550>>>"
       ]
      },
      {
       "output_type": "stream",
       "stream": "stdout",
       "text": [
        "\n",
        "getting http://www.worldofvolley.com/statistics/game-statistics.html?position=29...\n",
        "<response_seek_wrapper at 0x3552710 whose wrapped object = <closeable_response at 0x3552d88 whose fp = <socket._fileobject object at 0x34395d0>>>"
       ]
      },
      {
       "output_type": "stream",
       "stream": "stdout",
       "text": [
        "\n",
        "getting http://www.worldofvolley.com/statistics/game-statistics.html?position=29...\n",
        "<response_seek_wrapper at 0x3552b00 whose wrapped object = <closeable_response at 0x3554248 whose fp = <socket._fileobject object at 0x3439650>>>"
       ]
      },
      {
       "output_type": "stream",
       "stream": "stdout",
       "text": [
        "\n",
        "getting http://www.worldofvolley.com/statistics/game-statistics.html?position=29...\n",
        "<response_seek_wrapper at 0x3552ef0 whose wrapped object = <closeable_response at 0x3554680 whose fp = <socket._fileobject object at 0x34396d0>>>"
       ]
      },
      {
       "output_type": "stream",
       "stream": "stdout",
       "text": [
        "\n",
        "getting http://www.worldofvolley.com/statistics/game-statistics.html?position=29...\n",
        "<response_seek_wrapper at 0x3552cb0 whose wrapped object = <closeable_response at 0x3554a70 whose fp = <socket._fileobject object at 0x3439750>>>"
       ]
      },
      {
       "output_type": "stream",
       "stream": "stdout",
       "text": [
        "\n",
        "getting http://www.worldofvolley.com/statistics/game-statistics.html?position=29...\n",
        "<response_seek_wrapper at 0x35547e8 whose wrapped object = <closeable_response at 0x3554e60 whose fp = <socket._fileobject object at 0x34397d0>>>"
       ]
      },
      {
       "output_type": "stream",
       "stream": "stdout",
       "text": [
        "\n",
        "getting http://www.worldofvolley.com/statistics/game-statistics.html?position=29...\n",
        "<response_seek_wrapper at 0x3554bd8 whose wrapped object = <closeable_response at 0x343e878 whose fp = <socket._fileobject object at 0x3439850>>>"
       ]
      },
      {
       "output_type": "stream",
       "stream": "stdout",
       "text": [
        "\n",
        "getting http://www.worldofvolley.com/statistics/game-statistics.html?position=29...\n",
        "<response_seek_wrapper at 0x3554998 whose wrapped object = <closeable_response at 0x32dc518 whose fp = <socket._fileobject object at 0x34398d0>>>"
       ]
      },
      {
       "output_type": "stream",
       "stream": "stdout",
       "text": [
        "\n",
        "getting http://www.worldofvolley.com/statistics/game-statistics.html?position=29...\n",
        "<response_seek_wrapper at 0x3554c68 whose wrapped object = <closeable_response at 0x3559368 whose fp = <socket._fileobject object at 0x3439950>>>"
       ]
      },
      {
       "output_type": "stream",
       "stream": "stdout",
       "text": [
        "\n",
        "getting http://www.worldofvolley.com/statistics/game-statistics.html?position=29...\n",
        "<response_seek_wrapper at 0x3552f80 whose wrapped object = <closeable_response at 0x3559758 whose fp = <socket._fileobject object at 0x34399d0>>>"
       ]
      },
      {
       "output_type": "stream",
       "stream": "stdout",
       "text": [
        "\n",
        "getting http://www.worldofvolley.com/statistics/game-statistics.html?position=29...\n",
        "<response_seek_wrapper at 0x3559098 whose wrapped object = <closeable_response at 0x3559b48 whose fp = <socket._fileobject object at 0x3439a50>>>"
       ]
      },
      {
       "output_type": "stream",
       "stream": "stdout",
       "text": [
        "\n",
        "getting http://www.worldofvolley.com/statistics/game-statistics.html?position=30...\n",
        "<response_seek_wrapper at 0x35598c0 whose wrapped object = <closeable_response at 0x3559e60 whose fp = <socket._fileobject object at 0x3439ad0>>>"
       ]
      },
      {
       "output_type": "stream",
       "stream": "stdout",
       "text": [
        "\n",
        "getting http://www.worldofvolley.com/statistics/game-statistics.html?position=30...\n",
        "<response_seek_wrapper at 0x3559cb0 whose wrapped object = <closeable_response at 0x355b3f8 whose fp = <socket._fileobject object at 0x3439b50>>>"
       ]
      },
      {
       "output_type": "stream",
       "stream": "stdout",
       "text": [
        "\n",
        "getting http://www.worldofvolley.com/statistics/game-statistics.html?position=30...\n",
        "<response_seek_wrapper at 0x3559a28 whose wrapped object = <closeable_response at 0x355b830 whose fp = <socket._fileobject object at 0x3439bd0>>>"
       ]
      },
      {
       "output_type": "stream",
       "stream": "stdout",
       "text": [
        "\n",
        "getting http://www.worldofvolley.com/statistics/game-statistics.html?position=30...\n",
        "<response_seek_wrapper at 0x3559d88 whose wrapped object = <closeable_response at 0x355bc20 whose fp = <socket._fileobject object at 0x3439c50>>>"
       ]
      },
      {
       "output_type": "stream",
       "stream": "stdout",
       "text": [
        "\n",
        "getting http://www.worldofvolley.com/statistics/game-statistics.html?position=30...\n",
        "<response_seek_wrapper at 0x355b998 whose wrapped object = <closeable_response at 0x355be60 whose fp = <socket._fileobject object at 0x3439cd0>>>"
       ]
      },
      {
       "output_type": "stream",
       "stream": "stdout",
       "text": [
        "\n",
        "getting http://www.worldofvolley.com/statistics/game-statistics.html?position=30...\n",
        "<response_seek_wrapper at 0x355bd88 whose wrapped object = <closeable_response at 0x3560440 whose fp = <socket._fileobject object at 0x3439d50>>>"
       ]
      },
      {
       "output_type": "stream",
       "stream": "stdout",
       "text": [
        "\n",
        "getting http://www.worldofvolley.com/statistics/game-statistics.html?position=30...\n",
        "<response_seek_wrapper at 0x355bb00 whose wrapped object = <closeable_response at 0x3560830 whose fp = <socket._fileobject object at 0x3439dd0>>>"
       ]
      },
      {
       "output_type": "stream",
       "stream": "stdout",
       "text": [
        "\n",
        "getting http://www.worldofvolley.com/statistics/game-statistics.html?position=30...\n",
        "<response_seek_wrapper at 0x35605a8 whose wrapped object = <closeable_response at 0x3560c20 whose fp = <socket._fileobject object at 0x3439e50>>>"
       ]
      },
      {
       "output_type": "stream",
       "stream": "stdout",
       "text": [
        "\n",
        "getting http://www.worldofvolley.com/statistics/game-statistics.html?position=30...\n",
        "<response_seek_wrapper at 0x3560998 whose wrapped object = <closeable_response at 0x3560e60 whose fp = <socket._fileobject object at 0x3439ed0>>>"
       ]
      },
      {
       "output_type": "stream",
       "stream": "stdout",
       "text": [
        "\n",
        "getting http://www.worldofvolley.com/statistics/game-statistics.html?position=30...\n",
        "<response_seek_wrapper at 0x3560d88 whose wrapped object = <closeable_response at 0x3564440 whose fp = <socket._fileobject object at 0x3439f50>>>"
       ]
      },
      {
       "output_type": "stream",
       "stream": "stdout",
       "text": [
        "\n",
        "getting http://www.worldofvolley.com/statistics/game-statistics.html?position=31...\n",
        "<response_seek_wrapper at 0x3560b00 whose wrapped object = <closeable_response at 0x3564830 whose fp = <socket._fileobject object at 0x3566050>>>"
       ]
      },
      {
       "output_type": "stream",
       "stream": "stdout",
       "text": [
        "\n",
        "getting http://www.worldofvolley.com/statistics/game-statistics.html?position=31...\n",
        "<response_seek_wrapper at 0x35645a8 whose wrapped object = <closeable_response at 0x3564cb0 whose fp = <socket._fileobject object at 0x35660d0>>>"
       ]
      },
      {
       "output_type": "stream",
       "stream": "stdout",
       "text": [
        "\n",
        "getting http://www.worldofvolley.com/statistics/game-statistics.html?position=31...\n",
        "<response_seek_wrapper at 0x3564998 whose wrapped object = <closeable_response at 0x3568200 whose fp = <socket._fileobject object at 0x3566150>>>"
       ]
      },
      {
       "output_type": "stream",
       "stream": "stdout",
       "text": [
        "\n",
        "getting http://www.worldofvolley.com/statistics/game-statistics.html?position=31...\n",
        "<response_seek_wrapper at 0x3564dd0 whose wrapped object = <closeable_response at 0x3568518 whose fp = <socket._fileobject object at 0x35661d0>>>"
       ]
      },
      {
       "output_type": "stream",
       "stream": "stdout",
       "text": [
        "\n",
        "getting http://www.worldofvolley.com/statistics/game-statistics.html?position=31...\n",
        "<response_seek_wrapper at 0x3564b90 whose wrapped object = <closeable_response at 0x3568908 whose fp = <socket._fileobject object at 0x3566250>>>"
       ]
      },
      {
       "output_type": "stream",
       "stream": "stdout",
       "text": [
        "\n",
        "getting http://www.worldofvolley.com/statistics/game-statistics.html?position=31...\n",
        "<response_seek_wrapper at 0x3568680 whose wrapped object = <closeable_response at 0x3568cf8 whose fp = <socket._fileobject object at 0x35662d0>>>"
       ]
      },
      {
       "output_type": "stream",
       "stream": "stdout",
       "text": [
        "\n",
        "getting http://www.worldofvolley.com/statistics/game-statistics.html?position=31...\n",
        "<response_seek_wrapper at 0x3568a70 whose wrapped object = <closeable_response at 0x356b200 whose fp = <socket._fileobject object at 0x3566350>>>"
       ]
      },
      {
       "output_type": "stream",
       "stream": "stdout",
       "text": [
        "\n",
        "getting http://www.worldofvolley.com/statistics/game-statistics.html?position=31...\n",
        "<response_seek_wrapper at 0x3568e60 whose wrapped object = <closeable_response at 0x356b518 whose fp = <socket._fileobject object at 0x35663d0>>>"
       ]
      },
      {
       "output_type": "stream",
       "stream": "stdout",
       "text": [
        "\n",
        "getting http://www.worldofvolley.com/statistics/game-statistics.html?position=31...\n",
        "<response_seek_wrapper at 0x3568bd8 whose wrapped object = <closeable_response at 0x355b5a8 whose fp = <socket._fileobject object at 0x3566450>>>"
       ]
      },
      {
       "output_type": "stream",
       "stream": "stdout",
       "text": [
        "\n",
        "getting http://www.worldofvolley.com/statistics/game-statistics.html?position=31...\n",
        "<response_seek_wrapper at 0x3552cb0 whose wrapped object = <closeable_response at 0x35680e0 whose fp = <socket._fileobject object at 0x35664d0>>>"
       ]
      },
      {
       "output_type": "stream",
       "stream": "stdout",
       "text": [
        "\n",
        "getting http://www.worldofvolley.com/statistics/game-statistics.html?position=32...\n",
        "<response_seek_wrapper at 0x343a830 whose wrapped object = <closeable_response at 0x356b7e8 whose fp = <socket._fileobject object at 0x3566550>>>"
       ]
      },
      {
       "output_type": "stream",
       "stream": "stdout",
       "text": [
        "\n",
        "getting http://www.worldofvolley.com/statistics/game-statistics.html?position=32...\n",
        "<response_seek_wrapper at 0x3559248 whose wrapped object = <closeable_response at 0x356be18 whose fp = <socket._fileobject object at 0x35665d0>>>"
       ]
      },
      {
       "output_type": "stream",
       "stream": "stdout",
       "text": [
        "\n",
        "getting http://www.worldofvolley.com/statistics/game-statistics.html?position=32...\n",
        "<response_seek_wrapper at 0x356b1b8 whose wrapped object = <closeable_response at 0x35712d8 whose fp = <socket._fileobject object at 0x3566650>>>"
       ]
      },
      {
       "output_type": "stream",
       "stream": "stdout",
       "text": [
        "\n",
        "getting http://www.worldofvolley.com/statistics/game-statistics.html?position=32...\n",
        "<response_seek_wrapper at 0x356bf80 whose wrapped object = <closeable_response at 0x35716c8 whose fp = <socket._fileobject object at 0x35666d0>>>"
       ]
      },
      {
       "output_type": "stream",
       "stream": "stdout",
       "text": [
        "\n",
        "getting http://www.worldofvolley.com/statistics/game-statistics.html?position=32...\n",
        "<response_seek_wrapper at 0x356bcf8 whose wrapped object = <closeable_response at 0x3571ab8 whose fp = <socket._fileobject object at 0x3566750>>>"
       ]
      },
      {
       "output_type": "stream",
       "stream": "stdout",
       "text": [
        "\n",
        "getting http://www.worldofvolley.com/statistics/game-statistics.html?position=32...\n",
        "<response_seek_wrapper at 0x3571830 whose wrapped object = <closeable_response at 0x3571e60 whose fp = <socket._fileobject object at 0x35667d0>>>"
       ]
      },
      {
       "output_type": "stream",
       "stream": "stdout",
       "text": [
        "\n",
        "getting http://www.worldofvolley.com/statistics/game-statistics.html?position=32...\n",
        "<response_seek_wrapper at 0x3571c20 whose wrapped object = <closeable_response at 0x35732d8 whose fp = <socket._fileobject object at 0x3566850>>>"
       ]
      },
      {
       "output_type": "stream",
       "stream": "stdout",
       "text": [
        "\n",
        "getting http://www.worldofvolley.com/statistics/game-statistics.html?position=32...\n",
        "<response_seek_wrapper at 0x35719e0 whose wrapped object = <closeable_response at 0x35736c8 whose fp = <socket._fileobject object at 0x35668d0>>>"
       ]
      },
      {
       "output_type": "stream",
       "stream": "stdout",
       "text": [
        "\n",
        "getting http://www.worldofvolley.com/statistics/game-statistics.html?position=32...\n",
        "<response_seek_wrapper at 0x3571d40 whose wrapped object = <closeable_response at 0x3573ab8 whose fp = <socket._fileobject object at 0x3566950>>>"
       ]
      },
      {
       "output_type": "stream",
       "stream": "stdout",
       "text": [
        "\n",
        "getting http://www.worldofvolley.com/statistics/game-statistics.html?position=32...\n",
        "<response_seek_wrapper at 0x3573830 whose wrapped object = <closeable_response at 0x3573e60 whose fp = <socket._fileobject object at 0x35669d0>>>"
       ]
      },
      {
       "output_type": "stream",
       "stream": "stdout",
       "text": [
        "\n",
        "getting http://www.worldofvolley.com/statistics/game-statistics.html?position=33...\n",
        "<response_seek_wrapper at 0x3573c20 whose wrapped object = <closeable_response at 0x35762d8 whose fp = <socket._fileobject object at 0x3566a50>>>"
       ]
      },
      {
       "output_type": "stream",
       "stream": "stdout",
       "text": [
        "\n",
        "getting http://www.worldofvolley.com/statistics/game-statistics.html?position=33...\n",
        "<response_seek_wrapper at 0x35739e0 whose wrapped object = <closeable_response at 0x3576758 whose fp = <socket._fileobject object at 0x3566ad0>>>"
       ]
      },
      {
       "output_type": "stream",
       "stream": "stdout",
       "text": [
        "\n",
        "getting http://www.worldofvolley.com/statistics/game-statistics.html?position=33...\n",
        "<response_seek_wrapper at 0x3573d40 whose wrapped object = <closeable_response at 0x3576b90 whose fp = <socket._fileobject object at 0x3566b50>>>"
       ]
      },
      {
       "output_type": "stream",
       "stream": "stdout",
       "text": [
        "\n",
        "getting http://www.worldofvolley.com/statistics/game-statistics.html?position=33...\n",
        "<response_seek_wrapper at 0x3576878 whose wrapped object = <closeable_response at 0x3576e60 whose fp = <socket._fileobject object at 0x3566bd0>>>"
       ]
      },
      {
       "output_type": "stream",
       "stream": "stdout",
       "text": [
        "\n",
        "getting http://www.worldofvolley.com/statistics/game-statistics.html?position=33...\n",
        "<response_seek_wrapper at 0x3576cf8 whose wrapped object = <closeable_response at 0x357a3b0 whose fp = <socket._fileobject object at 0x3566c50>>>"
       ]
      },
      {
       "output_type": "stream",
       "stream": "stdout",
       "text": [
        "\n",
        "getting http://www.worldofvolley.com/statistics/game-statistics.html?position=33...\n",
        "<response_seek_wrapper at 0x3576a70 whose wrapped object = <closeable_response at 0x357a7a0 whose fp = <socket._fileobject object at 0x3566cd0>>>"
       ]
      },
      {
       "output_type": "stream",
       "stream": "stdout",
       "text": [
        "\n",
        "getting http://www.worldofvolley.com/statistics/game-statistics.html?position=33...\n",
        "<response_seek_wrapper at 0x357a518 whose wrapped object = <closeable_response at 0x357ab90 whose fp = <socket._fileobject object at 0x3566d50>>>"
       ]
      },
      {
       "output_type": "stream",
       "stream": "stdout",
       "text": [
        "\n",
        "getting http://www.worldofvolley.com/statistics/game-statistics.html?position=33...\n",
        "<response_seek_wrapper at 0x357a908 whose wrapped object = <closeable_response at 0x357ae60 whose fp = <socket._fileobject object at 0x3566dd0>>>"
       ]
      },
      {
       "output_type": "stream",
       "stream": "stdout",
       "text": [
        "\n",
        "getting http://www.worldofvolley.com/statistics/game-statistics.html?position=33...\n",
        "<response_seek_wrapper at 0x357acf8 whose wrapped object = <closeable_response at 0x357e3b0 whose fp = <socket._fileobject object at 0x3566e50>>>"
       ]
      },
      {
       "output_type": "stream",
       "stream": "stdout",
       "text": [
        "\n",
        "getting http://www.worldofvolley.com/statistics/game-statistics.html?position=33...\n",
        "<response_seek_wrapper at 0x357aa70 whose wrapped object = <closeable_response at 0x357e7a0 whose fp = <socket._fileobject object at 0x3566ed0>>>"
       ]
      },
      {
       "output_type": "stream",
       "stream": "stdout",
       "text": [
        "\n",
        "getting http://www.worldofvolley.com/statistics/game-statistics.html?position=34...\n",
        "<response_seek_wrapper at 0x357e518 whose wrapped object = <closeable_response at 0x357eb90 whose fp = <socket._fileobject object at 0x3566f50>>>"
       ]
      },
      {
       "output_type": "stream",
       "stream": "stdout",
       "text": [
        "\n",
        "getting http://www.worldofvolley.com/statistics/game-statistics.html?position=34...\n",
        "<response_seek_wrapper at 0x357e908 whose wrapped object = <closeable_response at 0x357ee60 whose fp = <socket._fileobject object at 0x3580050>>>"
       ]
      },
      {
       "output_type": "stream",
       "stream": "stdout",
       "text": [
        "\n",
        "getting http://www.worldofvolley.com/statistics/game-statistics.html?position=34...\n",
        "<response_seek_wrapper at 0x357ecf8 whose wrapped object = <closeable_response at 0x3568e60 whose fp = <socket._fileobject object at 0x35800d0>>>"
       ]
      },
      {
       "output_type": "stream",
       "stream": "stdout",
       "text": [
        "\n",
        "getting http://www.worldofvolley.com/statistics/game-statistics.html?position=34...\n",
        "<response_seek_wrapper at 0x357eab8 whose wrapped object = <closeable_response at 0x3573098 whose fp = <socket._fileobject object at 0x3580150>>>"
       ]
      },
      {
       "output_type": "stream",
       "stream": "stdout",
       "text": [
        "\n",
        "getting http://www.worldofvolley.com/statistics/game-statistics.html?position=34...\n",
        "<response_seek_wrapper at 0x35835f0 whose wrapped object = <closeable_response at 0x35835a8 whose fp = <socket._fileobject object at 0x35801d0>>>"
       ]
      },
      {
       "output_type": "stream",
       "stream": "stdout",
       "text": [
        "\n",
        "getting http://www.worldofvolley.com/statistics/game-statistics.html?position=34...\n",
        "<response_seek_wrapper at 0x3583560 whose wrapped object = <closeable_response at 0x3583950 whose fp = <socket._fileobject object at 0x3580250>>>"
       ]
      },
      {
       "output_type": "stream",
       "stream": "stdout",
       "text": [
        "\n",
        "getting http://www.worldofvolley.com/statistics/game-statistics.html?position=34...\n",
        "<response_seek_wrapper at 0x3573f80 whose wrapped object = <closeable_response at 0x3583d40 whose fp = <socket._fileobject object at 0x35802d0>>>"
       ]
      },
      {
       "output_type": "stream",
       "stream": "stdout",
       "text": [
        "\n",
        "getting http://www.worldofvolley.com/statistics/game-statistics.html?position=34...\n",
        "<response_seek_wrapper at 0x3583ab8 whose wrapped object = <closeable_response at 0x3587200 whose fp = <socket._fileobject object at 0x3580350>>>"
       ]
      },
      {
       "output_type": "stream",
       "stream": "stdout",
       "text": [
        "\n",
        "getting http://www.worldofvolley.com/statistics/game-statistics.html?position=34...\n",
        "<response_seek_wrapper at 0x3583ea8 whose wrapped object = <closeable_response at 0x3587560 whose fp = <socket._fileobject object at 0x35803d0>>>"
       ]
      },
      {
       "output_type": "stream",
       "stream": "stdout",
       "text": [
        "\n",
        "getting http://www.worldofvolley.com/statistics/game-statistics.html?position=34...\n",
        "<response_seek_wrapper at 0x3583c20 whose wrapped object = <closeable_response at 0x3587950 whose fp = <socket._fileobject object at 0x3580450>>>"
       ]
      },
      {
       "output_type": "stream",
       "stream": "stdout",
       "text": [
        "\n",
        "getting http://www.worldofvolley.com/statistics/game-statistics.html?position=35...\n",
        "<response_seek_wrapper at 0x35876c8 whose wrapped object = <closeable_response at 0x3587d40 whose fp = <socket._fileobject object at 0x35804d0>>>"
       ]
      },
      {
       "output_type": "stream",
       "stream": "stdout",
       "text": [
        "\n",
        "getting http://www.worldofvolley.com/statistics/game-statistics.html?position=35...\n",
        "<response_seek_wrapper at 0x3587ab8 whose wrapped object = <closeable_response at 0x358a200 whose fp = <socket._fileobject object at 0x3580550>>>"
       ]
      },
      {
       "output_type": "stream",
       "stream": "stdout",
       "text": [
        "\n",
        "getting http://www.worldofvolley.com/statistics/game-statistics.html?position=35...\n",
        "<response_seek_wrapper at 0x3587ea8 whose wrapped object = <closeable_response at 0x358a638 whose fp = <socket._fileobject object at 0x35805d0>>>"
       ]
      },
      {
       "output_type": "stream",
       "stream": "stdout",
       "text": [
        "\n",
        "getting http://www.worldofvolley.com/statistics/game-statistics.html?position=35...\n",
        "<response_seek_wrapper at 0x3587c68 whose wrapped object = <closeable_response at 0x358aa28 whose fp = <socket._fileobject object at 0x3580650>>>"
       ]
      },
      {
       "output_type": "stream",
       "stream": "stdout",
       "text": [
        "\n",
        "getting http://www.worldofvolley.com/statistics/game-statistics.html?position=35...\n",
        "<response_seek_wrapper at 0x358a7a0 whose wrapped object = <closeable_response at 0x358ae18 whose fp = <socket._fileobject object at 0x35806d0>>>"
       ]
      },
      {
       "output_type": "stream",
       "stream": "stdout",
       "text": [
        "\n",
        "getting http://www.worldofvolley.com/statistics/game-statistics.html?position=35...\n",
        "<response_seek_wrapper at 0x358ab90 whose wrapped object = <closeable_response at 0x358e248 whose fp = <socket._fileobject object at 0x3580750>>>"
       ]
      },
      {
       "output_type": "stream",
       "stream": "stdout",
       "text": [
        "\n",
        "getting http://www.worldofvolley.com/statistics/game-statistics.html?position=35...\n",
        "<response_seek_wrapper at 0x358af80 whose wrapped object = <closeable_response at 0x358e638 whose fp = <socket._fileobject object at 0x35807d0>>>"
       ]
      },
      {
       "output_type": "stream",
       "stream": "stdout",
       "text": [
        "\n",
        "getting http://www.worldofvolley.com/statistics/game-statistics.html?position=35...\n",
        "<response_seek_wrapper at 0x358acf8 whose wrapped object = <closeable_response at 0x358ea28 whose fp = <socket._fileobject object at 0x3580850>>>"
       ]
      },
      {
       "output_type": "stream",
       "stream": "stdout",
       "text": [
        "\n",
        "getting http://www.worldofvolley.com/statistics/game-statistics.html?position=35...\n",
        "<response_seek_wrapper at 0x358e7a0 whose wrapped object = <closeable_response at 0x358ee18 whose fp = <socket._fileobject object at 0x35808d0>>>"
       ]
      },
      {
       "output_type": "stream",
       "stream": "stdout",
       "text": [
        "\n",
        "getting http://www.worldofvolley.com/statistics/game-statistics.html?position=35...\n",
        "<response_seek_wrapper at 0x358eb90 whose wrapped object = <closeable_response at 0x36a7248 whose fp = <socket._fileobject object at 0x3580950>>>"
       ]
      },
      {
       "output_type": "stream",
       "stream": "stdout",
       "text": [
        "\n",
        "getting http://www.worldofvolley.com/statistics/game-statistics.html?position=36...\n",
        "<response_seek_wrapper at 0x358ef80 whose wrapped object = <closeable_response at 0x36a7638 whose fp = <socket._fileobject object at 0x35809d0>>>"
       ]
      },
      {
       "output_type": "stream",
       "stream": "stdout",
       "text": [
        "\n",
        "getting http://www.worldofvolley.com/statistics/game-statistics.html?position=36...\n",
        "<response_seek_wrapper at 0x358ecf8 whose wrapped object = <closeable_response at 0x36a7ab8 whose fp = <socket._fileobject object at 0x3580a50>>>"
       ]
      },
      {
       "output_type": "stream",
       "stream": "stdout",
       "text": [
        "\n",
        "getting http://www.worldofvolley.com/statistics/game-statistics.html?position=36...\n",
        "<response_seek_wrapper at 0x36a77a0 whose wrapped object = <closeable_response at 0x36a7e60 whose fp = <socket._fileobject object at 0x3580ad0>>>"
       ]
      },
      {
       "output_type": "stream",
       "stream": "stdout",
       "text": [
        "\n",
        "getting http://www.worldofvolley.com/statistics/game-statistics.html?position=36...\n",
        "<response_seek_wrapper at 0x36a7bd8 whose wrapped object = <closeable_response at 0x36ab320 whose fp = <socket._fileobject object at 0x3580b50>>>"
       ]
      },
      {
       "output_type": "stream",
       "stream": "stdout",
       "text": [
        "\n",
        "getting http://www.worldofvolley.com/statistics/game-statistics.html?position=36...\n",
        "<response_seek_wrapper at 0x36a7998 whose wrapped object = <closeable_response at 0x36ab710 whose fp = <socket._fileobject object at 0x3580bd0>>>"
       ]
      },
      {
       "output_type": "stream",
       "stream": "stdout",
       "text": [
        "\n",
        "getting http://www.worldofvolley.com/statistics/game-statistics.html?position=36...\n",
        "<response_seek_wrapper at 0x36ab488 whose wrapped object = <closeable_response at 0x36abb00 whose fp = <socket._fileobject object at 0x3580c50>>>"
       ]
      },
      {
       "output_type": "stream",
       "stream": "stdout",
       "text": [
        "\n",
        "getting http://www.worldofvolley.com/statistics/game-statistics.html?position=36...\n",
        "<response_seek_wrapper at 0x36ab878 whose wrapped object = <closeable_response at 0x36abef0 whose fp = <socket._fileobject object at 0x3580cd0>>>"
       ]
      },
      {
       "output_type": "stream",
       "stream": "stdout",
       "text": [
        "\n",
        "getting http://www.worldofvolley.com/statistics/game-statistics.html?position=36...\n",
        "<response_seek_wrapper at 0x36abc68 whose wrapped object = <closeable_response at 0x3587f38 whose fp = <socket._fileobject object at 0x3580d50>>>"
       ]
      },
      {
       "output_type": "stream",
       "stream": "stdout",
       "text": [
        "\n",
        "getting http://www.worldofvolley.com/statistics/game-statistics.html?position=36...\n",
        "<response_seek_wrapper at 0x36ab9e0 whose wrapped object = <closeable_response at 0x3571f80 whose fp = <socket._fileobject object at 0x3580dd0>>>"
       ]
      }
     ]
    },
    {
     "cell_type": "code",
     "collapsed": false,
     "input": [
      "maxpos = 1414 # maximum position argument\n",
      "\n",
      "urls = [\"http://www.worldofvolley.com/statistics/game-statistics.html?position=\" + str(pos) for pos in range(maxpos)]\n",
      "\n",
      "pool = eventlet.GreenPool(10) # more than 10 concurrent connections leads to refused connections\n",
      "\n",
      "tables = {\"all\": pandas.DataFrame(columns=[\"date\", \"score1\", \"score2\", \"team1\", \"team2\"])}\n",
      "tables = reduce(lambda acc, x: acc.append(), map(getTable, urls))\n",
      "print(tables[\"all\"])"
     ],
     "language": "python",
     "metadata": {},
     "outputs": []
    },
    {
     "cell_type": "code",
     "collapsed": false,
     "input": [],
     "language": "python",
     "metadata": {},
     "outputs": []
    }
   ],
   "metadata": {}
  }
 ]
}